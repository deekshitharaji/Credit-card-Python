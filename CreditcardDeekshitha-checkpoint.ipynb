{
 "cells": [
  {
   "cell_type": "code",
   "execution_count": 1,
   "id": "a5ef4925",
   "metadata": {
    "ExecuteTime": {
     "end_time": "2023-04-22T07:51:53.905180Z",
     "start_time": "2023-04-22T07:51:03.900349Z"
    }
   },
   "outputs": [],
   "source": [
    "import pandas as pd\n",
    "import numpy as np\n",
    "import matplotlib.pyplot as plt\n",
    "import seaborn as sns\n",
    "%matplotlib inline\n",
    "import os"
   ]
  },
  {
   "cell_type": "code",
   "execution_count": 2,
   "id": "f88187e1",
   "metadata": {
    "ExecuteTime": {
     "end_time": "2023-04-22T07:53:55.305947Z",
     "start_time": "2023-04-22T07:53:54.807111Z"
    }
   },
   "outputs": [],
   "source": [
    "spend=pd.read_csv(\"spend.csv\")"
   ]
  },
  {
   "cell_type": "code",
   "execution_count": 3,
   "id": "7d4d5f4b",
   "metadata": {
    "ExecuteTime": {
     "end_time": "2023-04-22T07:54:01.388568Z",
     "start_time": "2023-04-22T07:54:00.977123Z"
    }
   },
   "outputs": [
    {
     "data": {
      "text/html": [
       "<div>\n",
       "<style scoped>\n",
       "    .dataframe tbody tr th:only-of-type {\n",
       "        vertical-align: middle;\n",
       "    }\n",
       "\n",
       "    .dataframe tbody tr th {\n",
       "        vertical-align: top;\n",
       "    }\n",
       "\n",
       "    .dataframe thead th {\n",
       "        text-align: right;\n",
       "    }\n",
       "</style>\n",
       "<table border=\"1\" class=\"dataframe\">\n",
       "  <thead>\n",
       "    <tr style=\"text-align: right;\">\n",
       "      <th></th>\n",
       "      <th>Sl No:</th>\n",
       "      <th>Customer</th>\n",
       "      <th>Month</th>\n",
       "      <th>Type</th>\n",
       "      <th>Amount</th>\n",
       "    </tr>\n",
       "  </thead>\n",
       "  <tbody>\n",
       "    <tr>\n",
       "      <th>0</th>\n",
       "      <td>1</td>\n",
       "      <td>A1</td>\n",
       "      <td>12-Jan-04</td>\n",
       "      <td>JEWELLERY</td>\n",
       "      <td>485470.80</td>\n",
       "    </tr>\n",
       "    <tr>\n",
       "      <th>1</th>\n",
       "      <td>2</td>\n",
       "      <td>A1</td>\n",
       "      <td>3-Jan-04</td>\n",
       "      <td>PETRO</td>\n",
       "      <td>410556.13</td>\n",
       "    </tr>\n",
       "    <tr>\n",
       "      <th>2</th>\n",
       "      <td>3</td>\n",
       "      <td>A1</td>\n",
       "      <td>15-Jan-04</td>\n",
       "      <td>CLOTHES</td>\n",
       "      <td>23740.46</td>\n",
       "    </tr>\n",
       "    <tr>\n",
       "      <th>3</th>\n",
       "      <td>4</td>\n",
       "      <td>A1</td>\n",
       "      <td>25-Jan-04</td>\n",
       "      <td>FOOD</td>\n",
       "      <td>484342.47</td>\n",
       "    </tr>\n",
       "    <tr>\n",
       "      <th>4</th>\n",
       "      <td>5</td>\n",
       "      <td>A1</td>\n",
       "      <td>17-Jan-05</td>\n",
       "      <td>CAMERA</td>\n",
       "      <td>369694.07</td>\n",
       "    </tr>\n",
       "    <tr>\n",
       "      <th>...</th>\n",
       "      <td>...</td>\n",
       "      <td>...</td>\n",
       "      <td>...</td>\n",
       "      <td>...</td>\n",
       "      <td>...</td>\n",
       "    </tr>\n",
       "    <tr>\n",
       "      <th>1495</th>\n",
       "      <td>1496</td>\n",
       "      <td>A67</td>\n",
       "      <td>4-Feb-06</td>\n",
       "      <td>BUS TICKET</td>\n",
       "      <td>356872.73</td>\n",
       "    </tr>\n",
       "    <tr>\n",
       "      <th>1496</th>\n",
       "      <td>1497</td>\n",
       "      <td>A68</td>\n",
       "      <td>25-Mar-06</td>\n",
       "      <td>BUS TICKET</td>\n",
       "      <td>204971.10</td>\n",
       "    </tr>\n",
       "    <tr>\n",
       "      <th>1497</th>\n",
       "      <td>1498</td>\n",
       "      <td>A69</td>\n",
       "      <td>31-Mar-06</td>\n",
       "      <td>BUS TICKET</td>\n",
       "      <td>50449.44</td>\n",
       "    </tr>\n",
       "    <tr>\n",
       "      <th>1498</th>\n",
       "      <td>1499</td>\n",
       "      <td>A70</td>\n",
       "      <td>23-Mar-06</td>\n",
       "      <td>BUS TICKET</td>\n",
       "      <td>80593.94</td>\n",
       "    </tr>\n",
       "    <tr>\n",
       "      <th>1499</th>\n",
       "      <td>1500</td>\n",
       "      <td>A71</td>\n",
       "      <td>24-Mar-06</td>\n",
       "      <td>BUS TICKET</td>\n",
       "      <td>194447.62</td>\n",
       "    </tr>\n",
       "  </tbody>\n",
       "</table>\n",
       "<p>1500 rows × 5 columns</p>\n",
       "</div>"
      ],
      "text/plain": [
       "      Sl No: Customer      Month        Type     Amount\n",
       "0          1       A1  12-Jan-04   JEWELLERY  485470.80\n",
       "1          2       A1   3-Jan-04       PETRO  410556.13\n",
       "2          3       A1  15-Jan-04     CLOTHES   23740.46\n",
       "3          4       A1  25-Jan-04        FOOD  484342.47\n",
       "4          5       A1  17-Jan-05      CAMERA  369694.07\n",
       "...      ...      ...        ...         ...        ...\n",
       "1495    1496      A67   4-Feb-06  BUS TICKET  356872.73\n",
       "1496    1497      A68  25-Mar-06  BUS TICKET  204971.10\n",
       "1497    1498      A69  31-Mar-06  BUS TICKET   50449.44\n",
       "1498    1499      A70  23-Mar-06  BUS TICKET   80593.94\n",
       "1499    1500      A71  24-Mar-06  BUS TICKET  194447.62\n",
       "\n",
       "[1500 rows x 5 columns]"
      ]
     },
     "execution_count": 3,
     "metadata": {},
     "output_type": "execute_result"
    }
   ],
   "source": [
    "spend\n"
   ]
  },
  {
   "cell_type": "code",
   "execution_count": 143,
   "id": "71819e11",
   "metadata": {
    "ExecuteTime": {
     "end_time": "2023-04-22T14:02:50.316417Z",
     "start_time": "2023-04-22T14:02:50.279478Z"
    }
   },
   "outputs": [],
   "source": [
    "repay=pd.read_csv(\"Repayment.csv\")"
   ]
  },
  {
   "cell_type": "code",
   "execution_count": 134,
   "id": "9854d3f0",
   "metadata": {
    "ExecuteTime": {
     "end_time": "2023-04-22T13:59:37.922325Z",
     "start_time": "2023-04-22T13:59:37.771214Z"
    }
   },
   "outputs": [
    {
     "data": {
      "text/html": [
       "<div>\n",
       "<style scoped>\n",
       "    .dataframe tbody tr th:only-of-type {\n",
       "        vertical-align: middle;\n",
       "    }\n",
       "\n",
       "    .dataframe tbody tr th {\n",
       "        vertical-align: top;\n",
       "    }\n",
       "\n",
       "    .dataframe thead th {\n",
       "        text-align: right;\n",
       "    }\n",
       "</style>\n",
       "<table border=\"1\" class=\"dataframe\">\n",
       "  <thead>\n",
       "    <tr style=\"text-align: right;\">\n",
       "      <th></th>\n",
       "      <th>SL No:</th>\n",
       "      <th>Customer</th>\n",
       "      <th>Month</th>\n",
       "      <th>Amount</th>\n",
       "      <th>Unnamed: 4</th>\n",
       "    </tr>\n",
       "  </thead>\n",
       "  <tbody>\n",
       "    <tr>\n",
       "      <th>0</th>\n",
       "      <td>NaN</td>\n",
       "      <td>A1</td>\n",
       "      <td>12-Jan-04</td>\n",
       "      <td>495414.75</td>\n",
       "      <td>NaN</td>\n",
       "    </tr>\n",
       "    <tr>\n",
       "      <th>1</th>\n",
       "      <td>2.0</td>\n",
       "      <td>A1</td>\n",
       "      <td>3-Jan-04</td>\n",
       "      <td>245899.02</td>\n",
       "      <td>NaN</td>\n",
       "    </tr>\n",
       "    <tr>\n",
       "      <th>2</th>\n",
       "      <td>3.0</td>\n",
       "      <td>A1</td>\n",
       "      <td>15-Jan-04</td>\n",
       "      <td>259490.06</td>\n",
       "      <td>NaN</td>\n",
       "    </tr>\n",
       "    <tr>\n",
       "      <th>3</th>\n",
       "      <td>4.0</td>\n",
       "      <td>A1</td>\n",
       "      <td>25-Jan-04</td>\n",
       "      <td>437555.12</td>\n",
       "      <td>NaN</td>\n",
       "    </tr>\n",
       "    <tr>\n",
       "      <th>4</th>\n",
       "      <td>5.0</td>\n",
       "      <td>A1</td>\n",
       "      <td>17-Jan-05</td>\n",
       "      <td>165972.88</td>\n",
       "      <td>NaN</td>\n",
       "    </tr>\n",
       "    <tr>\n",
       "      <th>...</th>\n",
       "      <td>...</td>\n",
       "      <td>...</td>\n",
       "      <td>...</td>\n",
       "      <td>...</td>\n",
       "      <td>...</td>\n",
       "    </tr>\n",
       "    <tr>\n",
       "      <th>1518</th>\n",
       "      <td>NaN</td>\n",
       "      <td>NaN</td>\n",
       "      <td>NaN</td>\n",
       "      <td>NaN</td>\n",
       "      <td>NaN</td>\n",
       "    </tr>\n",
       "    <tr>\n",
       "      <th>1519</th>\n",
       "      <td>NaN</td>\n",
       "      <td>NaN</td>\n",
       "      <td>NaN</td>\n",
       "      <td>NaN</td>\n",
       "      <td>NaN</td>\n",
       "    </tr>\n",
       "    <tr>\n",
       "      <th>1520</th>\n",
       "      <td>NaN</td>\n",
       "      <td>NaN</td>\n",
       "      <td>NaN</td>\n",
       "      <td>NaN</td>\n",
       "      <td>NaN</td>\n",
       "    </tr>\n",
       "    <tr>\n",
       "      <th>1521</th>\n",
       "      <td>NaN</td>\n",
       "      <td>NaN</td>\n",
       "      <td>NaN</td>\n",
       "      <td>NaN</td>\n",
       "      <td>NaN</td>\n",
       "    </tr>\n",
       "    <tr>\n",
       "      <th>1522</th>\n",
       "      <td>NaN</td>\n",
       "      <td>NaN</td>\n",
       "      <td>NaN</td>\n",
       "      <td>NaN</td>\n",
       "      <td>NaN</td>\n",
       "    </tr>\n",
       "  </tbody>\n",
       "</table>\n",
       "<p>1523 rows × 5 columns</p>\n",
       "</div>"
      ],
      "text/plain": [
       "      SL No: Customer      Month     Amount  Unnamed: 4\n",
       "0        NaN       A1  12-Jan-04  495414.75         NaN\n",
       "1        2.0       A1   3-Jan-04  245899.02         NaN\n",
       "2        3.0       A1  15-Jan-04  259490.06         NaN\n",
       "3        4.0       A1  25-Jan-04  437555.12         NaN\n",
       "4        5.0       A1  17-Jan-05  165972.88         NaN\n",
       "...      ...      ...        ...        ...         ...\n",
       "1518     NaN      NaN        NaN        NaN         NaN\n",
       "1519     NaN      NaN        NaN        NaN         NaN\n",
       "1520     NaN      NaN        NaN        NaN         NaN\n",
       "1521     NaN      NaN        NaN        NaN         NaN\n",
       "1522     NaN      NaN        NaN        NaN         NaN\n",
       "\n",
       "[1523 rows x 5 columns]"
      ]
     },
     "execution_count": 134,
     "metadata": {},
     "output_type": "execute_result"
    }
   ],
   "source": [
    "repay"
   ]
  },
  {
   "cell_type": "code",
   "execution_count": 15,
   "id": "2198d0b6",
   "metadata": {
    "ExecuteTime": {
     "end_time": "2023-04-22T07:59:41.281372Z",
     "start_time": "2023-04-22T07:59:41.257332Z"
    }
   },
   "outputs": [],
   "source": [
    "customer=pd.read_csv(\"Customer Acqusition.csv\")"
   ]
  },
  {
   "cell_type": "code",
   "execution_count": 16,
   "id": "335abbac",
   "metadata": {
    "ExecuteTime": {
     "end_time": "2023-04-22T07:59:43.985750Z",
     "start_time": "2023-04-22T07:59:43.919047Z"
    }
   },
   "outputs": [
    {
     "data": {
      "text/html": [
       "<div>\n",
       "<style scoped>\n",
       "    .dataframe tbody tr th:only-of-type {\n",
       "        vertical-align: middle;\n",
       "    }\n",
       "\n",
       "    .dataframe tbody tr th {\n",
       "        vertical-align: top;\n",
       "    }\n",
       "\n",
       "    .dataframe thead th {\n",
       "        text-align: right;\n",
       "    }\n",
       "</style>\n",
       "<table border=\"1\" class=\"dataframe\">\n",
       "  <thead>\n",
       "    <tr style=\"text-align: right;\">\n",
       "      <th></th>\n",
       "      <th>No</th>\n",
       "      <th>Customer</th>\n",
       "      <th>Age</th>\n",
       "      <th>City</th>\n",
       "      <th>Product</th>\n",
       "      <th>Limit</th>\n",
       "      <th>Company</th>\n",
       "      <th>Segment</th>\n",
       "    </tr>\n",
       "  </thead>\n",
       "  <tbody>\n",
       "    <tr>\n",
       "      <th>0</th>\n",
       "      <td>1</td>\n",
       "      <td>A1</td>\n",
       "      <td>76</td>\n",
       "      <td>BANGALORE</td>\n",
       "      <td>Gold</td>\n",
       "      <td>500000.0</td>\n",
       "      <td>C1</td>\n",
       "      <td>Self Employed</td>\n",
       "    </tr>\n",
       "    <tr>\n",
       "      <th>1</th>\n",
       "      <td>2</td>\n",
       "      <td>A2</td>\n",
       "      <td>71</td>\n",
       "      <td>CALCUTTA</td>\n",
       "      <td>Silver</td>\n",
       "      <td>100000.0</td>\n",
       "      <td>C2</td>\n",
       "      <td>Salaried_MNC</td>\n",
       "    </tr>\n",
       "    <tr>\n",
       "      <th>2</th>\n",
       "      <td>3</td>\n",
       "      <td>A3</td>\n",
       "      <td>34</td>\n",
       "      <td>COCHIN</td>\n",
       "      <td>Platimum</td>\n",
       "      <td>10000.0</td>\n",
       "      <td>C3</td>\n",
       "      <td>Salaried_Pvt</td>\n",
       "    </tr>\n",
       "    <tr>\n",
       "      <th>3</th>\n",
       "      <td>4</td>\n",
       "      <td>A4</td>\n",
       "      <td>47</td>\n",
       "      <td>BOMBAY</td>\n",
       "      <td>Platimum</td>\n",
       "      <td>10001.0</td>\n",
       "      <td>C4</td>\n",
       "      <td>Govt</td>\n",
       "    </tr>\n",
       "    <tr>\n",
       "      <th>4</th>\n",
       "      <td>5</td>\n",
       "      <td>A5</td>\n",
       "      <td>56</td>\n",
       "      <td>BANGALORE</td>\n",
       "      <td>Platimum</td>\n",
       "      <td>10002.0</td>\n",
       "      <td>C5</td>\n",
       "      <td>Normal Salary</td>\n",
       "    </tr>\n",
       "    <tr>\n",
       "      <th>...</th>\n",
       "      <td>...</td>\n",
       "      <td>...</td>\n",
       "      <td>...</td>\n",
       "      <td>...</td>\n",
       "      <td>...</td>\n",
       "      <td>...</td>\n",
       "      <td>...</td>\n",
       "      <td>...</td>\n",
       "    </tr>\n",
       "    <tr>\n",
       "      <th>95</th>\n",
       "      <td>96</td>\n",
       "      <td>A96</td>\n",
       "      <td>54</td>\n",
       "      <td>CHENNAI</td>\n",
       "      <td>Silver</td>\n",
       "      <td>100000.0</td>\n",
       "      <td>C19</td>\n",
       "      <td>Salaried_Pvt</td>\n",
       "    </tr>\n",
       "    <tr>\n",
       "      <th>96</th>\n",
       "      <td>97</td>\n",
       "      <td>A97</td>\n",
       "      <td>58</td>\n",
       "      <td>TRIVANDRUM</td>\n",
       "      <td>Platimum</td>\n",
       "      <td>10000.0</td>\n",
       "      <td>C20</td>\n",
       "      <td>Govt</td>\n",
       "    </tr>\n",
       "    <tr>\n",
       "      <th>97</th>\n",
       "      <td>98</td>\n",
       "      <td>A98</td>\n",
       "      <td>51</td>\n",
       "      <td>CALCUTTA</td>\n",
       "      <td>Platimum</td>\n",
       "      <td>10001.0</td>\n",
       "      <td>C21</td>\n",
       "      <td>Normal Salary</td>\n",
       "    </tr>\n",
       "    <tr>\n",
       "      <th>98</th>\n",
       "      <td>99</td>\n",
       "      <td>A99</td>\n",
       "      <td>35</td>\n",
       "      <td>CALCUTTA</td>\n",
       "      <td>Platimum</td>\n",
       "      <td>10002.0</td>\n",
       "      <td>C22</td>\n",
       "      <td>Self Employed</td>\n",
       "    </tr>\n",
       "    <tr>\n",
       "      <th>99</th>\n",
       "      <td>100</td>\n",
       "      <td>A100</td>\n",
       "      <td>36</td>\n",
       "      <td>COCHIN</td>\n",
       "      <td>Silver</td>\n",
       "      <td>100000.0</td>\n",
       "      <td>C5</td>\n",
       "      <td>Salaried_MNC</td>\n",
       "    </tr>\n",
       "  </tbody>\n",
       "</table>\n",
       "<p>100 rows × 8 columns</p>\n",
       "</div>"
      ],
      "text/plain": [
       "     No Customer  Age        City   Product     Limit Company        Segment\n",
       "0     1       A1   76   BANGALORE      Gold  500000.0      C1  Self Employed\n",
       "1     2       A2   71    CALCUTTA    Silver  100000.0      C2   Salaried_MNC\n",
       "2     3       A3   34      COCHIN  Platimum   10000.0      C3   Salaried_Pvt\n",
       "3     4       A4   47      BOMBAY  Platimum   10001.0      C4           Govt\n",
       "4     5       A5   56   BANGALORE  Platimum   10002.0      C5  Normal Salary\n",
       "..  ...      ...  ...         ...       ...       ...     ...            ...\n",
       "95   96      A96   54     CHENNAI    Silver  100000.0     C19   Salaried_Pvt\n",
       "96   97      A97   58  TRIVANDRUM  Platimum   10000.0     C20           Govt\n",
       "97   98      A98   51    CALCUTTA  Platimum   10001.0     C21  Normal Salary\n",
       "98   99      A99   35    CALCUTTA  Platimum   10002.0     C22  Self Employed\n",
       "99  100     A100   36      COCHIN    Silver  100000.0      C5   Salaried_MNC\n",
       "\n",
       "[100 rows x 8 columns]"
      ]
     },
     "execution_count": 16,
     "metadata": {},
     "output_type": "execute_result"
    }
   ],
   "source": [
    "customer"
   ]
  },
  {
   "cell_type": "code",
   "execution_count": null,
   "id": "eda3765c",
   "metadata": {},
   "outputs": [],
   "source": [
    "#Exploratory Data Analysis"
   ]
  },
  {
   "cell_type": "code",
   "execution_count": 135,
   "id": "884e1f4b",
   "metadata": {
    "ExecuteTime": {
     "end_time": "2023-04-22T13:59:43.431122Z",
     "start_time": "2023-04-22T13:59:43.423146Z"
    }
   },
   "outputs": [
    {
     "name": "stdout",
     "output_type": "stream",
     "text": [
      "(100, 8)\n",
      "(1523, 5)\n",
      "(1500, 7)\n"
     ]
    }
   ],
   "source": [
    "print(customer.shape)\n",
    "print(repay.shape)\n",
    "print(spend.shape)"
   ]
  },
  {
   "cell_type": "code",
   "execution_count": 18,
   "id": "21a22f7d",
   "metadata": {
    "ExecuteTime": {
     "end_time": "2023-04-22T07:59:58.968477Z",
     "start_time": "2023-04-22T07:59:58.936448Z"
    }
   },
   "outputs": [
    {
     "data": {
      "text/plain": [
       "No            int64\n",
       "Customer     object\n",
       "Age           int64\n",
       "City         object\n",
       "Product      object\n",
       "Limit       float64\n",
       "Company      object\n",
       "Segment      object\n",
       "dtype: object"
      ]
     },
     "execution_count": 18,
     "metadata": {},
     "output_type": "execute_result"
    }
   ],
   "source": [
    "customer.dtypes"
   ]
  },
  {
   "cell_type": "code",
   "execution_count": 144,
   "id": "e5e4631c",
   "metadata": {
    "ExecuteTime": {
     "end_time": "2023-04-22T14:02:58.946865Z",
     "start_time": "2023-04-22T14:02:58.924888Z"
    }
   },
   "outputs": [
    {
     "data": {
      "text/plain": [
       "SL No:        float64\n",
       "Customer       object\n",
       "Month          object\n",
       "Amount        float64\n",
       "Unnamed: 4    float64\n",
       "dtype: object"
      ]
     },
     "execution_count": 144,
     "metadata": {},
     "output_type": "execute_result"
    }
   ],
   "source": [
    "repay.dtypes"
   ]
  },
  {
   "cell_type": "code",
   "execution_count": 137,
   "id": "291100d0",
   "metadata": {
    "ExecuteTime": {
     "end_time": "2023-04-22T14:00:03.937277Z",
     "start_time": "2023-04-22T14:00:03.787193Z"
    }
   },
   "outputs": [
    {
     "data": {
      "text/plain": [
       "Sl No:               int64\n",
       "Customer            object\n",
       "Month       datetime64[ns]\n",
       "Type                object\n",
       "Amount             float64\n",
       "Monthly             object\n",
       "Yearly              object\n",
       "dtype: object"
      ]
     },
     "execution_count": 137,
     "metadata": {},
     "output_type": "execute_result"
    }
   ],
   "source": [
    "spend.dtypes"
   ]
  },
  {
   "cell_type": "code",
   "execution_count": 21,
   "id": "a02d9de3",
   "metadata": {
    "ExecuteTime": {
     "end_time": "2023-04-22T08:00:49.325665Z",
     "start_time": "2023-04-22T08:00:49.005879Z"
    }
   },
   "outputs": [
    {
     "data": {
      "text/plain": [
       "Sl No:      0\n",
       "Customer    0\n",
       "Month       0\n",
       "Type        0\n",
       "Amount      0\n",
       "dtype: int64"
      ]
     },
     "execution_count": 21,
     "metadata": {},
     "output_type": "execute_result"
    }
   ],
   "source": [
    "spend.isnull().sum()"
   ]
  },
  {
   "cell_type": "code",
   "execution_count": 22,
   "id": "e6ab8fe9",
   "metadata": {
    "ExecuteTime": {
     "end_time": "2023-04-22T08:00:56.950881Z",
     "start_time": "2023-04-22T08:00:56.926843Z"
    }
   },
   "outputs": [
    {
     "data": {
      "text/plain": [
       "No          0\n",
       "Customer    0\n",
       "Age         0\n",
       "City        0\n",
       "Product     0\n",
       "Limit       0\n",
       "Company     0\n",
       "Segment     0\n",
       "dtype: int64"
      ]
     },
     "execution_count": 22,
     "metadata": {},
     "output_type": "execute_result"
    }
   ],
   "source": [
    "customer.isnull().sum()"
   ]
  },
  {
   "cell_type": "code",
   "execution_count": 145,
   "id": "aa4f1227",
   "metadata": {
    "ExecuteTime": {
     "end_time": "2023-04-22T14:03:06.993839Z",
     "start_time": "2023-04-22T14:03:06.974856Z"
    }
   },
   "outputs": [
    {
     "data": {
      "text/plain": [
       "SL No:          24\n",
       "Customer        23\n",
       "Month           23\n",
       "Amount          23\n",
       "Unnamed: 4    1523\n",
       "dtype: int64"
      ]
     },
     "execution_count": 145,
     "metadata": {},
     "output_type": "execute_result"
    }
   ],
   "source": [
    "repay.isnull().sum()"
   ]
  },
  {
   "cell_type": "code",
   "execution_count": 146,
   "id": "934b9e20",
   "metadata": {
    "ExecuteTime": {
     "end_time": "2023-04-22T14:03:11.073169Z",
     "start_time": "2023-04-22T14:03:11.051227Z"
    }
   },
   "outputs": [
    {
     "data": {
      "text/html": [
       "<div>\n",
       "<style scoped>\n",
       "    .dataframe tbody tr th:only-of-type {\n",
       "        vertical-align: middle;\n",
       "    }\n",
       "\n",
       "    .dataframe tbody tr th {\n",
       "        vertical-align: top;\n",
       "    }\n",
       "\n",
       "    .dataframe thead th {\n",
       "        text-align: right;\n",
       "    }\n",
       "</style>\n",
       "<table border=\"1\" class=\"dataframe\">\n",
       "  <thead>\n",
       "    <tr style=\"text-align: right;\">\n",
       "      <th></th>\n",
       "      <th>SL No:</th>\n",
       "      <th>Customer</th>\n",
       "      <th>Month</th>\n",
       "      <th>Amount</th>\n",
       "      <th>Unnamed: 4</th>\n",
       "    </tr>\n",
       "  </thead>\n",
       "  <tbody>\n",
       "  </tbody>\n",
       "</table>\n",
       "</div>"
      ],
      "text/plain": [
       "Empty DataFrame\n",
       "Columns: [SL No:, Customer, Month, Amount, Unnamed: 4]\n",
       "Index: []"
      ]
     },
     "execution_count": 146,
     "metadata": {},
     "output_type": "execute_result"
    }
   ],
   "source": [
    "# dropping null values present in 'repay' data set\n",
    "repay.dropna(inplace=True)\n"
   ]
  },
  {
   "cell_type": "code",
   "execution_count": 147,
   "id": "2e740080",
   "metadata": {
    "ExecuteTime": {
     "end_time": "2023-04-22T14:03:17.868497Z",
     "start_time": "2023-04-22T14:03:17.849555Z"
    }
   },
   "outputs": [
    {
     "data": {
      "text/plain": [
       "SL No:          24\n",
       "Customer        23\n",
       "Month           23\n",
       "Amount          23\n",
       "Unnamed: 4    1523\n",
       "dtype: int64"
      ]
     },
     "execution_count": 147,
     "metadata": {},
     "output_type": "execute_result"
    }
   ],
   "source": [
    "repay.isnull().sum()"
   ]
  },
  {
   "cell_type": "raw",
   "id": "b2f86df1",
   "metadata": {},
   "source": [
    "repay"
   ]
  },
  {
   "cell_type": "raw",
   "id": "1fdedca9",
   "metadata": {},
   "source": []
  },
  {
   "cell_type": "code",
   "execution_count": 148,
   "id": "8dc7b918",
   "metadata": {
    "ExecuteTime": {
     "end_time": "2023-04-22T14:03:21.965855Z",
     "start_time": "2023-04-22T14:03:21.917983Z"
    }
   },
   "outputs": [
    {
     "data": {
      "text/html": [
       "<div>\n",
       "<style scoped>\n",
       "    .dataframe tbody tr th:only-of-type {\n",
       "        vertical-align: middle;\n",
       "    }\n",
       "\n",
       "    .dataframe tbody tr th {\n",
       "        vertical-align: top;\n",
       "    }\n",
       "\n",
       "    .dataframe thead th {\n",
       "        text-align: right;\n",
       "    }\n",
       "</style>\n",
       "<table border=\"1\" class=\"dataframe\">\n",
       "  <thead>\n",
       "    <tr style=\"text-align: right;\">\n",
       "      <th></th>\n",
       "      <th>SL No:</th>\n",
       "      <th>Customer</th>\n",
       "      <th>Month</th>\n",
       "      <th>Amount</th>\n",
       "      <th>Unnamed: 4</th>\n",
       "    </tr>\n",
       "  </thead>\n",
       "  <tbody>\n",
       "    <tr>\n",
       "      <th>0</th>\n",
       "      <td>NaN</td>\n",
       "      <td>A1</td>\n",
       "      <td>12-Jan-04</td>\n",
       "      <td>495414.75</td>\n",
       "      <td>NaN</td>\n",
       "    </tr>\n",
       "    <tr>\n",
       "      <th>1</th>\n",
       "      <td>2.0</td>\n",
       "      <td>A1</td>\n",
       "      <td>3-Jan-04</td>\n",
       "      <td>245899.02</td>\n",
       "      <td>NaN</td>\n",
       "    </tr>\n",
       "    <tr>\n",
       "      <th>2</th>\n",
       "      <td>3.0</td>\n",
       "      <td>A1</td>\n",
       "      <td>15-Jan-04</td>\n",
       "      <td>259490.06</td>\n",
       "      <td>NaN</td>\n",
       "    </tr>\n",
       "    <tr>\n",
       "      <th>3</th>\n",
       "      <td>4.0</td>\n",
       "      <td>A1</td>\n",
       "      <td>25-Jan-04</td>\n",
       "      <td>437555.12</td>\n",
       "      <td>NaN</td>\n",
       "    </tr>\n",
       "    <tr>\n",
       "      <th>4</th>\n",
       "      <td>5.0</td>\n",
       "      <td>A1</td>\n",
       "      <td>17-Jan-05</td>\n",
       "      <td>165972.88</td>\n",
       "      <td>NaN</td>\n",
       "    </tr>\n",
       "  </tbody>\n",
       "</table>\n",
       "</div>"
      ],
      "text/plain": [
       "   SL No: Customer      Month     Amount  Unnamed: 4\n",
       "0     NaN       A1  12-Jan-04  495414.75         NaN\n",
       "1     2.0       A1   3-Jan-04  245899.02         NaN\n",
       "2     3.0       A1  15-Jan-04  259490.06         NaN\n",
       "3     4.0       A1  25-Jan-04  437555.12         NaN\n",
       "4     5.0       A1  17-Jan-05  165972.88         NaN"
      ]
     },
     "execution_count": 148,
     "metadata": {},
     "output_type": "execute_result"
    }
   ],
   "source": [
    "repay.head()"
   ]
  },
  {
   "cell_type": "code",
   "execution_count": 26,
   "id": "3f13a846",
   "metadata": {
    "ExecuteTime": {
     "end_time": "2023-04-22T08:01:54.618874Z",
     "start_time": "2023-04-22T08:01:54.602849Z"
    }
   },
   "outputs": [],
   "source": [
    "#(1) In the above dataset,\n",
    "#(a) In case age is less than 18, replace it with mean of age values."
   ]
  },
  {
   "cell_type": "code",
   "execution_count": 27,
   "id": "61630d0d",
   "metadata": {
    "ExecuteTime": {
     "end_time": "2023-04-22T08:02:10.145320Z",
     "start_time": "2023-04-22T08:02:10.001356Z"
    }
   },
   "outputs": [],
   "source": [
    "mean_original = customer[\"Age\"].mean()"
   ]
  },
  {
   "cell_type": "code",
   "execution_count": 28,
   "id": "64f64ab1",
   "metadata": {
    "ExecuteTime": {
     "end_time": "2023-04-22T08:02:35.129075Z",
     "start_time": "2023-04-22T08:02:35.105038Z"
    }
   },
   "outputs": [
    {
     "name": "stdout",
     "output_type": "stream",
     "text": [
      "The mean of Age column is 46.49\n"
     ]
    }
   ],
   "source": [
    "print(\"The mean of Age column is\",mean_original)"
   ]
  },
  {
   "cell_type": "code",
   "execution_count": 29,
   "id": "6a29ba67",
   "metadata": {
    "ExecuteTime": {
     "end_time": "2023-04-22T08:02:58.859281Z",
     "start_time": "2023-04-22T08:02:58.843283Z"
    }
   },
   "outputs": [],
   "source": [
    "#replacing age less than 18 with mean of age values\n",
    "customer.loc[customer[\"Age\"] < 18,\"Age\"] = customer[\"Age\"].mean()"
   ]
  },
  {
   "cell_type": "code",
   "execution_count": 30,
   "id": "ecea2138",
   "metadata": {
    "ExecuteTime": {
     "end_time": "2023-04-22T08:03:10.880564Z",
     "start_time": "2023-04-22T08:03:10.856563Z"
    }
   },
   "outputs": [],
   "source": [
    "mean_new = customer[\"Age\"].mean()"
   ]
  },
  {
   "cell_type": "code",
   "execution_count": 31,
   "id": "592d7961",
   "metadata": {
    "ExecuteTime": {
     "end_time": "2023-04-22T08:03:20.754438Z",
     "start_time": "2023-04-22T08:03:20.730436Z"
    }
   },
   "outputs": [
    {
     "name": "stdout",
     "output_type": "stream",
     "text": [
      "The new mean of Age column is 48.399399999999986\n"
     ]
    }
   ],
   "source": [
    "print(\"The new mean of Age column is\",mean_new)"
   ]
  },
  {
   "cell_type": "code",
   "execution_count": 32,
   "id": "9f6d9867",
   "metadata": {
    "ExecuteTime": {
     "end_time": "2023-04-22T08:03:32.757214Z",
     "start_time": "2023-04-22T08:03:32.733202Z"
    }
   },
   "outputs": [
    {
     "data": {
      "text/plain": [
       "Series([], Name: Age, dtype: float64)"
      ]
     },
     "execution_count": 32,
     "metadata": {},
     "output_type": "execute_result"
    }
   ],
   "source": [
    "customer.loc[customer[\"Age\"] < 18,\"Age\"]"
   ]
  },
  {
   "cell_type": "code",
   "execution_count": 33,
   "id": "d840e367",
   "metadata": {
    "ExecuteTime": {
     "end_time": "2023-04-22T08:03:44.890087Z",
     "start_time": "2023-04-22T08:03:44.882079Z"
    }
   },
   "outputs": [
    {
     "name": "stdout",
     "output_type": "stream",
     "text": [
      "All the customers who have age less than 18 have been replaced by mean of the age column.\n"
     ]
    }
   ],
   "source": [
    "print(\"All the customers who have age less than 18 have been replaced by mean of the age column.\")"
   ]
  },
  {
   "cell_type": "code",
   "execution_count": 34,
   "id": "34cf1033",
   "metadata": {
    "ExecuteTime": {
     "end_time": "2023-04-22T08:09:30.201701Z",
     "start_time": "2023-04-22T08:09:30.185701Z"
    }
   },
   "outputs": [],
   "source": [
    "#(b) In case spend amount is more than the limit,\n",
    "#replace it with 50% of that customer’s limit. (customer’s limit provided in acquisition table is the per transaction limit on his card)"
   ]
  },
  {
   "cell_type": "code",
   "execution_count": 62,
   "id": "4bebadd0",
   "metadata": {
    "ExecuteTime": {
     "end_time": "2023-04-22T08:36:44.948104Z",
     "start_time": "2023-04-22T08:36:44.908061Z"
    }
   },
   "outputs": [
    {
     "data": {
      "text/html": [
       "<div>\n",
       "<style scoped>\n",
       "    .dataframe tbody tr th:only-of-type {\n",
       "        vertical-align: middle;\n",
       "    }\n",
       "\n",
       "    .dataframe tbody tr th {\n",
       "        vertical-align: top;\n",
       "    }\n",
       "\n",
       "    .dataframe thead th {\n",
       "        text-align: right;\n",
       "    }\n",
       "</style>\n",
       "<table border=\"1\" class=\"dataframe\">\n",
       "  <thead>\n",
       "    <tr style=\"text-align: right;\">\n",
       "      <th></th>\n",
       "      <th>No</th>\n",
       "      <th>Customer</th>\n",
       "      <th>Age</th>\n",
       "      <th>City</th>\n",
       "      <th>Product</th>\n",
       "      <th>Limit</th>\n",
       "      <th>Company</th>\n",
       "      <th>Segment</th>\n",
       "    </tr>\n",
       "  </thead>\n",
       "  <tbody>\n",
       "    <tr>\n",
       "      <th>0</th>\n",
       "      <td>1</td>\n",
       "      <td>A1</td>\n",
       "      <td>76.0</td>\n",
       "      <td>BANGALORE</td>\n",
       "      <td>Gold</td>\n",
       "      <td>500000.0</td>\n",
       "      <td>C1</td>\n",
       "      <td>Self Employed</td>\n",
       "    </tr>\n",
       "    <tr>\n",
       "      <th>1</th>\n",
       "      <td>2</td>\n",
       "      <td>A2</td>\n",
       "      <td>71.0</td>\n",
       "      <td>CALCUTTA</td>\n",
       "      <td>Silver</td>\n",
       "      <td>100000.0</td>\n",
       "      <td>C2</td>\n",
       "      <td>Salaried_MNC</td>\n",
       "    </tr>\n",
       "  </tbody>\n",
       "</table>\n",
       "</div>"
      ],
      "text/plain": [
       "   No Customer   Age       City Product     Limit Company        Segment\n",
       "0   1       A1  76.0  BANGALORE    Gold  500000.0      C1  Self Employed\n",
       "1   2       A2  71.0   CALCUTTA  Silver  100000.0      C2   Salaried_MNC"
      ]
     },
     "execution_count": 62,
     "metadata": {},
     "output_type": "execute_result"
    }
   ],
   "source": [
    "customer.head(2)"
   ]
  },
  {
   "cell_type": "code",
   "execution_count": 63,
   "id": "610ced2c",
   "metadata": {
    "ExecuteTime": {
     "end_time": "2023-04-22T08:36:48.072066Z",
     "start_time": "2023-04-22T08:36:48.040067Z"
    }
   },
   "outputs": [
    {
     "data": {
      "text/html": [
       "<div>\n",
       "<style scoped>\n",
       "    .dataframe tbody tr th:only-of-type {\n",
       "        vertical-align: middle;\n",
       "    }\n",
       "\n",
       "    .dataframe tbody tr th {\n",
       "        vertical-align: top;\n",
       "    }\n",
       "\n",
       "    .dataframe thead th {\n",
       "        text-align: right;\n",
       "    }\n",
       "</style>\n",
       "<table border=\"1\" class=\"dataframe\">\n",
       "  <thead>\n",
       "    <tr style=\"text-align: right;\">\n",
       "      <th></th>\n",
       "      <th>Sl No:</th>\n",
       "      <th>Customer</th>\n",
       "      <th>Month</th>\n",
       "      <th>Type</th>\n",
       "      <th>Amount</th>\n",
       "    </tr>\n",
       "  </thead>\n",
       "  <tbody>\n",
       "    <tr>\n",
       "      <th>0</th>\n",
       "      <td>1</td>\n",
       "      <td>A1</td>\n",
       "      <td>12-Jan-04</td>\n",
       "      <td>JEWELLERY</td>\n",
       "      <td>485470.80</td>\n",
       "    </tr>\n",
       "    <tr>\n",
       "      <th>1</th>\n",
       "      <td>2</td>\n",
       "      <td>A1</td>\n",
       "      <td>3-Jan-04</td>\n",
       "      <td>PETRO</td>\n",
       "      <td>410556.13</td>\n",
       "    </tr>\n",
       "  </tbody>\n",
       "</table>\n",
       "</div>"
      ],
      "text/plain": [
       "   Sl No: Customer      Month       Type     Amount\n",
       "0       1       A1  12-Jan-04  JEWELLERY  485470.80\n",
       "1       2       A1   3-Jan-04      PETRO  410556.13"
      ]
     },
     "execution_count": 63,
     "metadata": {},
     "output_type": "execute_result"
    }
   ],
   "source": [
    "spend.head(2)"
   ]
  },
  {
   "cell_type": "code",
   "execution_count": 49,
   "id": "a6762121",
   "metadata": {
    "ExecuteTime": {
     "end_time": "2023-04-22T08:32:02.835120Z",
     "start_time": "2023-04-22T08:32:02.803113Z"
    }
   },
   "outputs": [],
   "source": [
    "#merging customer and spend table on the basis of \"Customer\" column\n",
    "customer_spend = pd.merge(left=customer,\n",
    "                          right=spend,\n",
    "                          on=\"Customer\",\n",
    "                          how=\"inner\")"
   ]
  },
  {
   "cell_type": "code",
   "execution_count": 38,
   "id": "81dc1724",
   "metadata": {
    "ExecuteTime": {
     "end_time": "2023-04-22T08:25:36.453742Z",
     "start_time": "2023-04-22T08:25:36.405701Z"
    }
   },
   "outputs": [
    {
     "data": {
      "text/html": [
       "<div>\n",
       "<style scoped>\n",
       "    .dataframe tbody tr th:only-of-type {\n",
       "        vertical-align: middle;\n",
       "    }\n",
       "\n",
       "    .dataframe tbody tr th {\n",
       "        vertical-align: top;\n",
       "    }\n",
       "\n",
       "    .dataframe thead th {\n",
       "        text-align: right;\n",
       "    }\n",
       "</style>\n",
       "<table border=\"1\" class=\"dataframe\">\n",
       "  <thead>\n",
       "    <tr style=\"text-align: right;\">\n",
       "      <th></th>\n",
       "      <th>No</th>\n",
       "      <th>Customer</th>\n",
       "      <th>Age</th>\n",
       "      <th>City</th>\n",
       "      <th>Product</th>\n",
       "      <th>Limit</th>\n",
       "      <th>Company</th>\n",
       "      <th>Segment</th>\n",
       "      <th>Sl No:</th>\n",
       "      <th>Month</th>\n",
       "      <th>Type</th>\n",
       "      <th>Amount</th>\n",
       "    </tr>\n",
       "  </thead>\n",
       "  <tbody>\n",
       "    <tr>\n",
       "      <th>0</th>\n",
       "      <td>1</td>\n",
       "      <td>A1</td>\n",
       "      <td>76.0</td>\n",
       "      <td>BANGALORE</td>\n",
       "      <td>Gold</td>\n",
       "      <td>500000.0</td>\n",
       "      <td>C1</td>\n",
       "      <td>Self Employed</td>\n",
       "      <td>1</td>\n",
       "      <td>12-Jan-04</td>\n",
       "      <td>JEWELLERY</td>\n",
       "      <td>485470.80</td>\n",
       "    </tr>\n",
       "    <tr>\n",
       "      <th>1</th>\n",
       "      <td>1</td>\n",
       "      <td>A1</td>\n",
       "      <td>76.0</td>\n",
       "      <td>BANGALORE</td>\n",
       "      <td>Gold</td>\n",
       "      <td>500000.0</td>\n",
       "      <td>C1</td>\n",
       "      <td>Self Employed</td>\n",
       "      <td>2</td>\n",
       "      <td>3-Jan-04</td>\n",
       "      <td>PETRO</td>\n",
       "      <td>410556.13</td>\n",
       "    </tr>\n",
       "    <tr>\n",
       "      <th>2</th>\n",
       "      <td>1</td>\n",
       "      <td>A1</td>\n",
       "      <td>76.0</td>\n",
       "      <td>BANGALORE</td>\n",
       "      <td>Gold</td>\n",
       "      <td>500000.0</td>\n",
       "      <td>C1</td>\n",
       "      <td>Self Employed</td>\n",
       "      <td>3</td>\n",
       "      <td>15-Jan-04</td>\n",
       "      <td>CLOTHES</td>\n",
       "      <td>23740.46</td>\n",
       "    </tr>\n",
       "    <tr>\n",
       "      <th>3</th>\n",
       "      <td>1</td>\n",
       "      <td>A1</td>\n",
       "      <td>76.0</td>\n",
       "      <td>BANGALORE</td>\n",
       "      <td>Gold</td>\n",
       "      <td>500000.0</td>\n",
       "      <td>C1</td>\n",
       "      <td>Self Employed</td>\n",
       "      <td>4</td>\n",
       "      <td>25-Jan-04</td>\n",
       "      <td>FOOD</td>\n",
       "      <td>484342.47</td>\n",
       "    </tr>\n",
       "    <tr>\n",
       "      <th>4</th>\n",
       "      <td>1</td>\n",
       "      <td>A1</td>\n",
       "      <td>76.0</td>\n",
       "      <td>BANGALORE</td>\n",
       "      <td>Gold</td>\n",
       "      <td>500000.0</td>\n",
       "      <td>C1</td>\n",
       "      <td>Self Employed</td>\n",
       "      <td>5</td>\n",
       "      <td>17-Jan-05</td>\n",
       "      <td>CAMERA</td>\n",
       "      <td>369694.07</td>\n",
       "    </tr>\n",
       "  </tbody>\n",
       "</table>\n",
       "</div>"
      ],
      "text/plain": [
       "   No Customer   Age       City Product     Limit Company        Segment  \\\n",
       "0   1       A1  76.0  BANGALORE    Gold  500000.0      C1  Self Employed   \n",
       "1   1       A1  76.0  BANGALORE    Gold  500000.0      C1  Self Employed   \n",
       "2   1       A1  76.0  BANGALORE    Gold  500000.0      C1  Self Employed   \n",
       "3   1       A1  76.0  BANGALORE    Gold  500000.0      C1  Self Employed   \n",
       "4   1       A1  76.0  BANGALORE    Gold  500000.0      C1  Self Employed   \n",
       "\n",
       "   Sl No:      Month       Type     Amount  \n",
       "0       1  12-Jan-04  JEWELLERY  485470.80  \n",
       "1       2   3-Jan-04      PETRO  410556.13  \n",
       "2       3  15-Jan-04    CLOTHES   23740.46  \n",
       "3       4  25-Jan-04       FOOD  484342.47  \n",
       "4       5  17-Jan-05     CAMERA  369694.07  "
      ]
     },
     "execution_count": 38,
     "metadata": {},
     "output_type": "execute_result"
    }
   ],
   "source": [
    "customer_spend.head()"
   ]
  },
  {
   "cell_type": "code",
   "execution_count": 50,
   "id": "c8630d5b",
   "metadata": {
    "ExecuteTime": {
     "end_time": "2023-04-22T08:32:06.546942Z",
     "start_time": "2023-04-22T08:32:06.482940Z"
    }
   },
   "outputs": [
    {
     "data": {
      "text/html": [
       "<div>\n",
       "<style scoped>\n",
       "    .dataframe tbody tr th:only-of-type {\n",
       "        vertical-align: middle;\n",
       "    }\n",
       "\n",
       "    .dataframe tbody tr th {\n",
       "        vertical-align: top;\n",
       "    }\n",
       "\n",
       "    .dataframe thead th {\n",
       "        text-align: right;\n",
       "    }\n",
       "</style>\n",
       "<table border=\"1\" class=\"dataframe\">\n",
       "  <thead>\n",
       "    <tr style=\"text-align: right;\">\n",
       "      <th></th>\n",
       "      <th>No</th>\n",
       "      <th>Customer</th>\n",
       "      <th>Age</th>\n",
       "      <th>City</th>\n",
       "      <th>Product</th>\n",
       "      <th>Limit</th>\n",
       "      <th>Company</th>\n",
       "      <th>Segment</th>\n",
       "      <th>Sl No:</th>\n",
       "      <th>Month</th>\n",
       "      <th>Type</th>\n",
       "      <th>Amount</th>\n",
       "    </tr>\n",
       "  </thead>\n",
       "  <tbody>\n",
       "    <tr>\n",
       "      <th>18</th>\n",
       "      <td>2</td>\n",
       "      <td>A2</td>\n",
       "      <td>71.0</td>\n",
       "      <td>CALCUTTA</td>\n",
       "      <td>Silver</td>\n",
       "      <td>100000.0</td>\n",
       "      <td>C2</td>\n",
       "      <td>Salaried_MNC</td>\n",
       "      <td>104</td>\n",
       "      <td>3-Jan-04</td>\n",
       "      <td>RENTAL</td>\n",
       "      <td>199554.72</td>\n",
       "    </tr>\n",
       "    <tr>\n",
       "      <th>19</th>\n",
       "      <td>2</td>\n",
       "      <td>A2</td>\n",
       "      <td>71.0</td>\n",
       "      <td>CALCUTTA</td>\n",
       "      <td>Silver</td>\n",
       "      <td>100000.0</td>\n",
       "      <td>C2</td>\n",
       "      <td>Salaried_MNC</td>\n",
       "      <td>118</td>\n",
       "      <td>28-Feb-05</td>\n",
       "      <td>TRAIN TICKET</td>\n",
       "      <td>376887.49</td>\n",
       "    </tr>\n",
       "    <tr>\n",
       "      <th>20</th>\n",
       "      <td>2</td>\n",
       "      <td>A2</td>\n",
       "      <td>71.0</td>\n",
       "      <td>CALCUTTA</td>\n",
       "      <td>Silver</td>\n",
       "      <td>100000.0</td>\n",
       "      <td>C2</td>\n",
       "      <td>Salaried_MNC</td>\n",
       "      <td>132</td>\n",
       "      <td>6-Apr-04</td>\n",
       "      <td>BUS TICKET</td>\n",
       "      <td>439648.53</td>\n",
       "    </tr>\n",
       "    <tr>\n",
       "      <th>21</th>\n",
       "      <td>2</td>\n",
       "      <td>A2</td>\n",
       "      <td>71.0</td>\n",
       "      <td>CALCUTTA</td>\n",
       "      <td>Silver</td>\n",
       "      <td>100000.0</td>\n",
       "      <td>C2</td>\n",
       "      <td>Salaried_MNC</td>\n",
       "      <td>146</td>\n",
       "      <td>23-Nov-04</td>\n",
       "      <td>PETRO</td>\n",
       "      <td>384078.73</td>\n",
       "    </tr>\n",
       "    <tr>\n",
       "      <th>22</th>\n",
       "      <td>2</td>\n",
       "      <td>A2</td>\n",
       "      <td>71.0</td>\n",
       "      <td>CALCUTTA</td>\n",
       "      <td>Silver</td>\n",
       "      <td>100000.0</td>\n",
       "      <td>C2</td>\n",
       "      <td>Salaried_MNC</td>\n",
       "      <td>160</td>\n",
       "      <td>3-Sep-05</td>\n",
       "      <td>JEWELLERY</td>\n",
       "      <td>117089.16</td>\n",
       "    </tr>\n",
       "    <tr>\n",
       "      <th>...</th>\n",
       "      <td>...</td>\n",
       "      <td>...</td>\n",
       "      <td>...</td>\n",
       "      <td>...</td>\n",
       "      <td>...</td>\n",
       "      <td>...</td>\n",
       "      <td>...</td>\n",
       "      <td>...</td>\n",
       "      <td>...</td>\n",
       "      <td>...</td>\n",
       "      <td>...</td>\n",
       "      <td>...</td>\n",
       "    </tr>\n",
       "    <tr>\n",
       "      <th>1486</th>\n",
       "      <td>87</td>\n",
       "      <td>A87</td>\n",
       "      <td>27.0</td>\n",
       "      <td>CALCUTTA</td>\n",
       "      <td>Silver</td>\n",
       "      <td>100003.0</td>\n",
       "      <td>C10</td>\n",
       "      <td>Govt</td>\n",
       "      <td>89</td>\n",
       "      <td>30-Mar-06</td>\n",
       "      <td>RENTAL</td>\n",
       "      <td>483886.62</td>\n",
       "    </tr>\n",
       "    <tr>\n",
       "      <th>1496</th>\n",
       "      <td>97</td>\n",
       "      <td>A97</td>\n",
       "      <td>58.0</td>\n",
       "      <td>TRIVANDRUM</td>\n",
       "      <td>Platimum</td>\n",
       "      <td>10000.0</td>\n",
       "      <td>C20</td>\n",
       "      <td>Govt</td>\n",
       "      <td>99</td>\n",
       "      <td>12-Jan-04</td>\n",
       "      <td>AUTO</td>\n",
       "      <td>139018.26</td>\n",
       "    </tr>\n",
       "    <tr>\n",
       "      <th>1497</th>\n",
       "      <td>98</td>\n",
       "      <td>A98</td>\n",
       "      <td>51.0</td>\n",
       "      <td>CALCUTTA</td>\n",
       "      <td>Platimum</td>\n",
       "      <td>10001.0</td>\n",
       "      <td>C21</td>\n",
       "      <td>Normal Salary</td>\n",
       "      <td>100</td>\n",
       "      <td>3-Jan-04</td>\n",
       "      <td>SHOPPING</td>\n",
       "      <td>284521.06</td>\n",
       "    </tr>\n",
       "    <tr>\n",
       "      <th>1498</th>\n",
       "      <td>99</td>\n",
       "      <td>A99</td>\n",
       "      <td>35.0</td>\n",
       "      <td>CALCUTTA</td>\n",
       "      <td>Platimum</td>\n",
       "      <td>10002.0</td>\n",
       "      <td>C22</td>\n",
       "      <td>Self Employed</td>\n",
       "      <td>101</td>\n",
       "      <td>15-Jan-04</td>\n",
       "      <td>AIR TICKET</td>\n",
       "      <td>90184.22</td>\n",
       "    </tr>\n",
       "    <tr>\n",
       "      <th>1499</th>\n",
       "      <td>100</td>\n",
       "      <td>A100</td>\n",
       "      <td>36.0</td>\n",
       "      <td>COCHIN</td>\n",
       "      <td>Silver</td>\n",
       "      <td>100000.0</td>\n",
       "      <td>C5</td>\n",
       "      <td>Salaried_MNC</td>\n",
       "      <td>102</td>\n",
       "      <td>25-Jan-04</td>\n",
       "      <td>BUS TICKET</td>\n",
       "      <td>224786.88</td>\n",
       "    </tr>\n",
       "  </tbody>\n",
       "</table>\n",
       "<p>607 rows × 12 columns</p>\n",
       "</div>"
      ],
      "text/plain": [
       "       No Customer   Age        City   Product     Limit Company  \\\n",
       "18      2       A2  71.0    CALCUTTA    Silver  100000.0      C2   \n",
       "19      2       A2  71.0    CALCUTTA    Silver  100000.0      C2   \n",
       "20      2       A2  71.0    CALCUTTA    Silver  100000.0      C2   \n",
       "21      2       A2  71.0    CALCUTTA    Silver  100000.0      C2   \n",
       "22      2       A2  71.0    CALCUTTA    Silver  100000.0      C2   \n",
       "...   ...      ...   ...         ...       ...       ...     ...   \n",
       "1486   87      A87  27.0    CALCUTTA    Silver  100003.0     C10   \n",
       "1496   97      A97  58.0  TRIVANDRUM  Platimum   10000.0     C20   \n",
       "1497   98      A98  51.0    CALCUTTA  Platimum   10001.0     C21   \n",
       "1498   99      A99  35.0    CALCUTTA  Platimum   10002.0     C22   \n",
       "1499  100     A100  36.0      COCHIN    Silver  100000.0      C5   \n",
       "\n",
       "            Segment  Sl No:      Month          Type     Amount  \n",
       "18     Salaried_MNC     104   3-Jan-04        RENTAL  199554.72  \n",
       "19     Salaried_MNC     118  28-Feb-05  TRAIN TICKET  376887.49  \n",
       "20     Salaried_MNC     132   6-Apr-04    BUS TICKET  439648.53  \n",
       "21     Salaried_MNC     146  23-Nov-04         PETRO  384078.73  \n",
       "22     Salaried_MNC     160   3-Sep-05     JEWELLERY  117089.16  \n",
       "...             ...     ...        ...           ...        ...  \n",
       "1486           Govt      89  30-Mar-06        RENTAL  483886.62  \n",
       "1496           Govt      99  12-Jan-04          AUTO  139018.26  \n",
       "1497  Normal Salary     100   3-Jan-04      SHOPPING  284521.06  \n",
       "1498  Self Employed     101  15-Jan-04    AIR TICKET   90184.22  \n",
       "1499   Salaried_MNC     102  25-Jan-04    BUS TICKET  224786.88  \n",
       "\n",
       "[607 rows x 12 columns]"
      ]
     },
     "execution_count": 50,
     "metadata": {},
     "output_type": "execute_result"
    }
   ],
   "source": [
    "customer_spend.loc[customer_spend[\"Amount\"]>customer_spend[\"Limit\"]]"
   ]
  },
  {
   "cell_type": "code",
   "execution_count": 51,
   "id": "ba655832",
   "metadata": {
    "ExecuteTime": {
     "end_time": "2023-04-22T08:32:12.481316Z",
     "start_time": "2023-04-22T08:32:12.457280Z"
    }
   },
   "outputs": [],
   "source": [
    "customer_spend.loc[customer_spend[\"Amount\"] > customer_spend[\"Limit\"],\"Amount\"] = (50 * customer_spend[\"Limit\"]).div(100)"
   ]
  },
  {
   "cell_type": "code",
   "execution_count": 52,
   "id": "b0a5a747",
   "metadata": {
    "ExecuteTime": {
     "end_time": "2023-04-22T08:32:15.849603Z",
     "start_time": "2023-04-22T08:32:15.825595Z"
    }
   },
   "outputs": [
    {
     "data": {
      "text/html": [
       "<div>\n",
       "<style scoped>\n",
       "    .dataframe tbody tr th:only-of-type {\n",
       "        vertical-align: middle;\n",
       "    }\n",
       "\n",
       "    .dataframe tbody tr th {\n",
       "        vertical-align: top;\n",
       "    }\n",
       "\n",
       "    .dataframe thead th {\n",
       "        text-align: right;\n",
       "    }\n",
       "</style>\n",
       "<table border=\"1\" class=\"dataframe\">\n",
       "  <thead>\n",
       "    <tr style=\"text-align: right;\">\n",
       "      <th></th>\n",
       "      <th>No</th>\n",
       "      <th>Customer</th>\n",
       "      <th>Age</th>\n",
       "      <th>City</th>\n",
       "      <th>Product</th>\n",
       "      <th>Limit</th>\n",
       "      <th>Company</th>\n",
       "      <th>Segment</th>\n",
       "      <th>Sl No:</th>\n",
       "      <th>Month</th>\n",
       "      <th>Type</th>\n",
       "      <th>Amount</th>\n",
       "    </tr>\n",
       "  </thead>\n",
       "  <tbody>\n",
       "  </tbody>\n",
       "</table>\n",
       "</div>"
      ],
      "text/plain": [
       "Empty DataFrame\n",
       "Columns: [No, Customer, Age, City, Product, Limit, Company, Segment, Sl No:, Month, Type, Amount]\n",
       "Index: []"
      ]
     },
     "execution_count": 52,
     "metadata": {},
     "output_type": "execute_result"
    }
   ],
   "source": [
    "#there are no customers left whose spend amount is more than the limit\n",
    "customer_spend[customer_spend[\"Amount\"] > customer_spend['Limit']]"
   ]
  },
  {
   "cell_type": "code",
   "execution_count": 59,
   "id": "db81b9c3",
   "metadata": {
    "ExecuteTime": {
     "end_time": "2023-04-22T08:35:55.500277Z",
     "start_time": "2023-04-22T08:35:55.468279Z"
    }
   },
   "outputs": [],
   "source": [
    "customer_repay = pd.merge(left=repay,\n",
    "                          right=customer,\n",
    "                          on=\"Customer\",\n",
    "                          how=\"inner\")"
   ]
  },
  {
   "cell_type": "code",
   "execution_count": null,
   "id": "1d1df878",
   "metadata": {},
   "outputs": [],
   "source": []
  },
  {
   "cell_type": "code",
   "execution_count": 53,
   "id": "d7c33c24",
   "metadata": {
    "ExecuteTime": {
     "end_time": "2023-04-22T08:32:34.642347Z",
     "start_time": "2023-04-22T08:32:34.626345Z"
    }
   },
   "outputs": [],
   "source": [
    "#(c) Incase the repayment amount is more than the limit, replace the repayment with the limit."
   ]
  },
  {
   "cell_type": "code",
   "execution_count": 75,
   "id": "551464d0",
   "metadata": {
    "ExecuteTime": {
     "end_time": "2023-04-22T08:46:04.154032Z",
     "start_time": "2023-04-22T08:46:04.114022Z"
    }
   },
   "outputs": [
    {
     "data": {
      "text/html": [
       "<div>\n",
       "<style scoped>\n",
       "    .dataframe tbody tr th:only-of-type {\n",
       "        vertical-align: middle;\n",
       "    }\n",
       "\n",
       "    .dataframe tbody tr th {\n",
       "        vertical-align: top;\n",
       "    }\n",
       "\n",
       "    .dataframe thead th {\n",
       "        text-align: right;\n",
       "    }\n",
       "</style>\n",
       "<table border=\"1\" class=\"dataframe\">\n",
       "  <thead>\n",
       "    <tr style=\"text-align: right;\">\n",
       "      <th></th>\n",
       "      <th>SL No:</th>\n",
       "      <th>Customer</th>\n",
       "      <th>Month</th>\n",
       "      <th>Amount</th>\n",
       "      <th>Unnamed: 4</th>\n",
       "    </tr>\n",
       "  </thead>\n",
       "  <tbody>\n",
       "    <tr>\n",
       "      <th>0</th>\n",
       "      <td>NaN</td>\n",
       "      <td>A1</td>\n",
       "      <td>12-Jan-04</td>\n",
       "      <td>495414.75</td>\n",
       "      <td>NaN</td>\n",
       "    </tr>\n",
       "    <tr>\n",
       "      <th>1</th>\n",
       "      <td>2.0</td>\n",
       "      <td>A1</td>\n",
       "      <td>3-Jan-04</td>\n",
       "      <td>245899.02</td>\n",
       "      <td>NaN</td>\n",
       "    </tr>\n",
       "    <tr>\n",
       "      <th>2</th>\n",
       "      <td>3.0</td>\n",
       "      <td>A1</td>\n",
       "      <td>15-Jan-04</td>\n",
       "      <td>259490.06</td>\n",
       "      <td>NaN</td>\n",
       "    </tr>\n",
       "    <tr>\n",
       "      <th>3</th>\n",
       "      <td>4.0</td>\n",
       "      <td>A1</td>\n",
       "      <td>25-Jan-04</td>\n",
       "      <td>437555.12</td>\n",
       "      <td>NaN</td>\n",
       "    </tr>\n",
       "    <tr>\n",
       "      <th>4</th>\n",
       "      <td>5.0</td>\n",
       "      <td>A1</td>\n",
       "      <td>17-Jan-05</td>\n",
       "      <td>165972.88</td>\n",
       "      <td>NaN</td>\n",
       "    </tr>\n",
       "    <tr>\n",
       "      <th>...</th>\n",
       "      <td>...</td>\n",
       "      <td>...</td>\n",
       "      <td>...</td>\n",
       "      <td>...</td>\n",
       "      <td>...</td>\n",
       "    </tr>\n",
       "    <tr>\n",
       "      <th>1518</th>\n",
       "      <td>NaN</td>\n",
       "      <td>NaN</td>\n",
       "      <td>NaN</td>\n",
       "      <td>NaN</td>\n",
       "      <td>NaN</td>\n",
       "    </tr>\n",
       "    <tr>\n",
       "      <th>1519</th>\n",
       "      <td>NaN</td>\n",
       "      <td>NaN</td>\n",
       "      <td>NaN</td>\n",
       "      <td>NaN</td>\n",
       "      <td>NaN</td>\n",
       "    </tr>\n",
       "    <tr>\n",
       "      <th>1520</th>\n",
       "      <td>NaN</td>\n",
       "      <td>NaN</td>\n",
       "      <td>NaN</td>\n",
       "      <td>NaN</td>\n",
       "      <td>NaN</td>\n",
       "    </tr>\n",
       "    <tr>\n",
       "      <th>1521</th>\n",
       "      <td>NaN</td>\n",
       "      <td>NaN</td>\n",
       "      <td>NaN</td>\n",
       "      <td>NaN</td>\n",
       "      <td>NaN</td>\n",
       "    </tr>\n",
       "    <tr>\n",
       "      <th>1522</th>\n",
       "      <td>NaN</td>\n",
       "      <td>NaN</td>\n",
       "      <td>NaN</td>\n",
       "      <td>NaN</td>\n",
       "      <td>NaN</td>\n",
       "    </tr>\n",
       "  </tbody>\n",
       "</table>\n",
       "<p>1523 rows × 5 columns</p>\n",
       "</div>"
      ],
      "text/plain": [
       "      SL No: Customer      Month     Amount  Unnamed: 4\n",
       "0        NaN       A1  12-Jan-04  495414.75         NaN\n",
       "1        2.0       A1   3-Jan-04  245899.02         NaN\n",
       "2        3.0       A1  15-Jan-04  259490.06         NaN\n",
       "3        4.0       A1  25-Jan-04  437555.12         NaN\n",
       "4        5.0       A1  17-Jan-05  165972.88         NaN\n",
       "...      ...      ...        ...        ...         ...\n",
       "1518     NaN      NaN        NaN        NaN         NaN\n",
       "1519     NaN      NaN        NaN        NaN         NaN\n",
       "1520     NaN      NaN        NaN        NaN         NaN\n",
       "1521     NaN      NaN        NaN        NaN         NaN\n",
       "1522     NaN      NaN        NaN        NaN         NaN\n",
       "\n",
       "[1523 rows x 5 columns]"
      ]
     },
     "execution_count": 75,
     "metadata": {},
     "output_type": "execute_result"
    }
   ],
   "source": [
    "repay"
   ]
  },
  {
   "cell_type": "code",
   "execution_count": 65,
   "id": "58ab7125",
   "metadata": {
    "ExecuteTime": {
     "end_time": "2023-04-22T08:37:35.734960Z",
     "start_time": "2023-04-22T08:37:35.694922Z"
    }
   },
   "outputs": [
    {
     "data": {
      "text/html": [
       "<div>\n",
       "<style scoped>\n",
       "    .dataframe tbody tr th:only-of-type {\n",
       "        vertical-align: middle;\n",
       "    }\n",
       "\n",
       "    .dataframe tbody tr th {\n",
       "        vertical-align: top;\n",
       "    }\n",
       "\n",
       "    .dataframe thead th {\n",
       "        text-align: right;\n",
       "    }\n",
       "</style>\n",
       "<table border=\"1\" class=\"dataframe\">\n",
       "  <thead>\n",
       "    <tr style=\"text-align: right;\">\n",
       "      <th></th>\n",
       "      <th>No</th>\n",
       "      <th>Customer</th>\n",
       "      <th>Age</th>\n",
       "      <th>City</th>\n",
       "      <th>Product</th>\n",
       "      <th>Limit</th>\n",
       "      <th>Company</th>\n",
       "      <th>Segment</th>\n",
       "    </tr>\n",
       "  </thead>\n",
       "  <tbody>\n",
       "    <tr>\n",
       "      <th>0</th>\n",
       "      <td>1</td>\n",
       "      <td>A1</td>\n",
       "      <td>76.0</td>\n",
       "      <td>BANGALORE</td>\n",
       "      <td>Gold</td>\n",
       "      <td>500000.0</td>\n",
       "      <td>C1</td>\n",
       "      <td>Self Employed</td>\n",
       "    </tr>\n",
       "    <tr>\n",
       "      <th>1</th>\n",
       "      <td>2</td>\n",
       "      <td>A2</td>\n",
       "      <td>71.0</td>\n",
       "      <td>CALCUTTA</td>\n",
       "      <td>Silver</td>\n",
       "      <td>100000.0</td>\n",
       "      <td>C2</td>\n",
       "      <td>Salaried_MNC</td>\n",
       "    </tr>\n",
       "    <tr>\n",
       "      <th>2</th>\n",
       "      <td>3</td>\n",
       "      <td>A3</td>\n",
       "      <td>34.0</td>\n",
       "      <td>COCHIN</td>\n",
       "      <td>Platimum</td>\n",
       "      <td>10000.0</td>\n",
       "      <td>C3</td>\n",
       "      <td>Salaried_Pvt</td>\n",
       "    </tr>\n",
       "    <tr>\n",
       "      <th>3</th>\n",
       "      <td>4</td>\n",
       "      <td>A4</td>\n",
       "      <td>47.0</td>\n",
       "      <td>BOMBAY</td>\n",
       "      <td>Platimum</td>\n",
       "      <td>10001.0</td>\n",
       "      <td>C4</td>\n",
       "      <td>Govt</td>\n",
       "    </tr>\n",
       "    <tr>\n",
       "      <th>4</th>\n",
       "      <td>5</td>\n",
       "      <td>A5</td>\n",
       "      <td>56.0</td>\n",
       "      <td>BANGALORE</td>\n",
       "      <td>Platimum</td>\n",
       "      <td>10002.0</td>\n",
       "      <td>C5</td>\n",
       "      <td>Normal Salary</td>\n",
       "    </tr>\n",
       "    <tr>\n",
       "      <th>...</th>\n",
       "      <td>...</td>\n",
       "      <td>...</td>\n",
       "      <td>...</td>\n",
       "      <td>...</td>\n",
       "      <td>...</td>\n",
       "      <td>...</td>\n",
       "      <td>...</td>\n",
       "      <td>...</td>\n",
       "    </tr>\n",
       "    <tr>\n",
       "      <th>95</th>\n",
       "      <td>96</td>\n",
       "      <td>A96</td>\n",
       "      <td>54.0</td>\n",
       "      <td>CHENNAI</td>\n",
       "      <td>Silver</td>\n",
       "      <td>100000.0</td>\n",
       "      <td>C19</td>\n",
       "      <td>Salaried_Pvt</td>\n",
       "    </tr>\n",
       "    <tr>\n",
       "      <th>96</th>\n",
       "      <td>97</td>\n",
       "      <td>A97</td>\n",
       "      <td>58.0</td>\n",
       "      <td>TRIVANDRUM</td>\n",
       "      <td>Platimum</td>\n",
       "      <td>10000.0</td>\n",
       "      <td>C20</td>\n",
       "      <td>Govt</td>\n",
       "    </tr>\n",
       "    <tr>\n",
       "      <th>97</th>\n",
       "      <td>98</td>\n",
       "      <td>A98</td>\n",
       "      <td>51.0</td>\n",
       "      <td>CALCUTTA</td>\n",
       "      <td>Platimum</td>\n",
       "      <td>10001.0</td>\n",
       "      <td>C21</td>\n",
       "      <td>Normal Salary</td>\n",
       "    </tr>\n",
       "    <tr>\n",
       "      <th>98</th>\n",
       "      <td>99</td>\n",
       "      <td>A99</td>\n",
       "      <td>35.0</td>\n",
       "      <td>CALCUTTA</td>\n",
       "      <td>Platimum</td>\n",
       "      <td>10002.0</td>\n",
       "      <td>C22</td>\n",
       "      <td>Self Employed</td>\n",
       "    </tr>\n",
       "    <tr>\n",
       "      <th>99</th>\n",
       "      <td>100</td>\n",
       "      <td>A100</td>\n",
       "      <td>36.0</td>\n",
       "      <td>COCHIN</td>\n",
       "      <td>Silver</td>\n",
       "      <td>100000.0</td>\n",
       "      <td>C5</td>\n",
       "      <td>Salaried_MNC</td>\n",
       "    </tr>\n",
       "  </tbody>\n",
       "</table>\n",
       "<p>100 rows × 8 columns</p>\n",
       "</div>"
      ],
      "text/plain": [
       "     No Customer   Age        City   Product     Limit Company        Segment\n",
       "0     1       A1  76.0   BANGALORE      Gold  500000.0      C1  Self Employed\n",
       "1     2       A2  71.0    CALCUTTA    Silver  100000.0      C2   Salaried_MNC\n",
       "2     3       A3  34.0      COCHIN  Platimum   10000.0      C3   Salaried_Pvt\n",
       "3     4       A4  47.0      BOMBAY  Platimum   10001.0      C4           Govt\n",
       "4     5       A5  56.0   BANGALORE  Platimum   10002.0      C5  Normal Salary\n",
       "..  ...      ...   ...         ...       ...       ...     ...            ...\n",
       "95   96      A96  54.0     CHENNAI    Silver  100000.0     C19   Salaried_Pvt\n",
       "96   97      A97  58.0  TRIVANDRUM  Platimum   10000.0     C20           Govt\n",
       "97   98      A98  51.0    CALCUTTA  Platimum   10001.0     C21  Normal Salary\n",
       "98   99      A99  35.0    CALCUTTA  Platimum   10002.0     C22  Self Employed\n",
       "99  100     A100  36.0      COCHIN    Silver  100000.0      C5   Salaried_MNC\n",
       "\n",
       "[100 rows x 8 columns]"
      ]
     },
     "execution_count": 65,
     "metadata": {},
     "output_type": "execute_result"
    }
   ],
   "source": [
    "customer"
   ]
  },
  {
   "cell_type": "code",
   "execution_count": 77,
   "id": "82876a00",
   "metadata": {
    "ExecuteTime": {
     "end_time": "2023-04-22T08:46:58.685940Z",
     "start_time": "2023-04-22T08:46:58.661900Z"
    }
   },
   "outputs": [],
   "source": [
    "customer_repay = pd.merge(left=repay,\n",
    "                           right=customer,\n",
    "                           on=\"Customer\",\n",
    "                           how=\"inner\")"
   ]
  },
  {
   "cell_type": "code",
   "execution_count": 78,
   "id": "1d33d30e",
   "metadata": {
    "ExecuteTime": {
     "end_time": "2023-04-22T08:47:07.532320Z",
     "start_time": "2023-04-22T08:47:07.484352Z"
    }
   },
   "outputs": [
    {
     "data": {
      "text/html": [
       "<div>\n",
       "<style scoped>\n",
       "    .dataframe tbody tr th:only-of-type {\n",
       "        vertical-align: middle;\n",
       "    }\n",
       "\n",
       "    .dataframe tbody tr th {\n",
       "        vertical-align: top;\n",
       "    }\n",
       "\n",
       "    .dataframe thead th {\n",
       "        text-align: right;\n",
       "    }\n",
       "</style>\n",
       "<table border=\"1\" class=\"dataframe\">\n",
       "  <thead>\n",
       "    <tr style=\"text-align: right;\">\n",
       "      <th></th>\n",
       "      <th>SL No:</th>\n",
       "      <th>Customer</th>\n",
       "      <th>Month</th>\n",
       "      <th>Amount</th>\n",
       "      <th>Unnamed: 4</th>\n",
       "      <th>No</th>\n",
       "      <th>Age</th>\n",
       "      <th>City</th>\n",
       "      <th>Product</th>\n",
       "      <th>Limit</th>\n",
       "      <th>Company</th>\n",
       "      <th>Segment</th>\n",
       "    </tr>\n",
       "  </thead>\n",
       "  <tbody>\n",
       "    <tr>\n",
       "      <th>0</th>\n",
       "      <td>NaN</td>\n",
       "      <td>A1</td>\n",
       "      <td>12-Jan-04</td>\n",
       "      <td>495414.75</td>\n",
       "      <td>NaN</td>\n",
       "      <td>1</td>\n",
       "      <td>76.0</td>\n",
       "      <td>BANGALORE</td>\n",
       "      <td>Gold</td>\n",
       "      <td>500000.0</td>\n",
       "      <td>C1</td>\n",
       "      <td>Self Employed</td>\n",
       "    </tr>\n",
       "    <tr>\n",
       "      <th>1</th>\n",
       "      <td>2.0</td>\n",
       "      <td>A1</td>\n",
       "      <td>3-Jan-04</td>\n",
       "      <td>245899.02</td>\n",
       "      <td>NaN</td>\n",
       "      <td>1</td>\n",
       "      <td>76.0</td>\n",
       "      <td>BANGALORE</td>\n",
       "      <td>Gold</td>\n",
       "      <td>500000.0</td>\n",
       "      <td>C1</td>\n",
       "      <td>Self Employed</td>\n",
       "    </tr>\n",
       "    <tr>\n",
       "      <th>2</th>\n",
       "      <td>3.0</td>\n",
       "      <td>A1</td>\n",
       "      <td>15-Jan-04</td>\n",
       "      <td>259490.06</td>\n",
       "      <td>NaN</td>\n",
       "      <td>1</td>\n",
       "      <td>76.0</td>\n",
       "      <td>BANGALORE</td>\n",
       "      <td>Gold</td>\n",
       "      <td>500000.0</td>\n",
       "      <td>C1</td>\n",
       "      <td>Self Employed</td>\n",
       "    </tr>\n",
       "    <tr>\n",
       "      <th>3</th>\n",
       "      <td>4.0</td>\n",
       "      <td>A1</td>\n",
       "      <td>25-Jan-04</td>\n",
       "      <td>437555.12</td>\n",
       "      <td>NaN</td>\n",
       "      <td>1</td>\n",
       "      <td>76.0</td>\n",
       "      <td>BANGALORE</td>\n",
       "      <td>Gold</td>\n",
       "      <td>500000.0</td>\n",
       "      <td>C1</td>\n",
       "      <td>Self Employed</td>\n",
       "    </tr>\n",
       "    <tr>\n",
       "      <th>4</th>\n",
       "      <td>5.0</td>\n",
       "      <td>A1</td>\n",
       "      <td>17-Jan-05</td>\n",
       "      <td>165972.88</td>\n",
       "      <td>NaN</td>\n",
       "      <td>1</td>\n",
       "      <td>76.0</td>\n",
       "      <td>BANGALORE</td>\n",
       "      <td>Gold</td>\n",
       "      <td>500000.0</td>\n",
       "      <td>C1</td>\n",
       "      <td>Self Employed</td>\n",
       "    </tr>\n",
       "    <tr>\n",
       "      <th>...</th>\n",
       "      <td>...</td>\n",
       "      <td>...</td>\n",
       "      <td>...</td>\n",
       "      <td>...</td>\n",
       "      <td>...</td>\n",
       "      <td>...</td>\n",
       "      <td>...</td>\n",
       "      <td>...</td>\n",
       "      <td>...</td>\n",
       "      <td>...</td>\n",
       "      <td>...</td>\n",
       "      <td>...</td>\n",
       "    </tr>\n",
       "    <tr>\n",
       "      <th>1495</th>\n",
       "      <td>277.0</td>\n",
       "      <td>A7</td>\n",
       "      <td>22-Nov-05</td>\n",
       "      <td>55108.71</td>\n",
       "      <td>NaN</td>\n",
       "      <td>7</td>\n",
       "      <td>26.0</td>\n",
       "      <td>COCHIN</td>\n",
       "      <td>Silver</td>\n",
       "      <td>100001.0</td>\n",
       "      <td>C7</td>\n",
       "      <td>Salaried_MNC</td>\n",
       "    </tr>\n",
       "    <tr>\n",
       "      <th>1496</th>\n",
       "      <td>295.0</td>\n",
       "      <td>A7</td>\n",
       "      <td>3-Dec-05</td>\n",
       "      <td>429700.12</td>\n",
       "      <td>NaN</td>\n",
       "      <td>7</td>\n",
       "      <td>26.0</td>\n",
       "      <td>COCHIN</td>\n",
       "      <td>Silver</td>\n",
       "      <td>100001.0</td>\n",
       "      <td>C7</td>\n",
       "      <td>Salaried_MNC</td>\n",
       "    </tr>\n",
       "    <tr>\n",
       "      <th>1497</th>\n",
       "      <td>313.0</td>\n",
       "      <td>A7</td>\n",
       "      <td>23-Feb-05</td>\n",
       "      <td>344628.72</td>\n",
       "      <td>NaN</td>\n",
       "      <td>7</td>\n",
       "      <td>26.0</td>\n",
       "      <td>COCHIN</td>\n",
       "      <td>Silver</td>\n",
       "      <td>100001.0</td>\n",
       "      <td>C7</td>\n",
       "      <td>Salaried_MNC</td>\n",
       "    </tr>\n",
       "    <tr>\n",
       "      <th>1498</th>\n",
       "      <td>331.0</td>\n",
       "      <td>A7</td>\n",
       "      <td>31-Mar-06</td>\n",
       "      <td>336264.37</td>\n",
       "      <td>NaN</td>\n",
       "      <td>7</td>\n",
       "      <td>26.0</td>\n",
       "      <td>COCHIN</td>\n",
       "      <td>Silver</td>\n",
       "      <td>100001.0</td>\n",
       "      <td>C7</td>\n",
       "      <td>Salaried_MNC</td>\n",
       "    </tr>\n",
       "    <tr>\n",
       "      <th>1499</th>\n",
       "      <td>349.0</td>\n",
       "      <td>A7</td>\n",
       "      <td>3-Jan-04</td>\n",
       "      <td>473662.61</td>\n",
       "      <td>NaN</td>\n",
       "      <td>7</td>\n",
       "      <td>26.0</td>\n",
       "      <td>COCHIN</td>\n",
       "      <td>Silver</td>\n",
       "      <td>100001.0</td>\n",
       "      <td>C7</td>\n",
       "      <td>Salaried_MNC</td>\n",
       "    </tr>\n",
       "  </tbody>\n",
       "</table>\n",
       "<p>1500 rows × 12 columns</p>\n",
       "</div>"
      ],
      "text/plain": [
       "      SL No: Customer      Month     Amount  Unnamed: 4  No   Age       City  \\\n",
       "0        NaN       A1  12-Jan-04  495414.75         NaN   1  76.0  BANGALORE   \n",
       "1        2.0       A1   3-Jan-04  245899.02         NaN   1  76.0  BANGALORE   \n",
       "2        3.0       A1  15-Jan-04  259490.06         NaN   1  76.0  BANGALORE   \n",
       "3        4.0       A1  25-Jan-04  437555.12         NaN   1  76.0  BANGALORE   \n",
       "4        5.0       A1  17-Jan-05  165972.88         NaN   1  76.0  BANGALORE   \n",
       "...      ...      ...        ...        ...         ...  ..   ...        ...   \n",
       "1495   277.0       A7  22-Nov-05   55108.71         NaN   7  26.0     COCHIN   \n",
       "1496   295.0       A7   3-Dec-05  429700.12         NaN   7  26.0     COCHIN   \n",
       "1497   313.0       A7  23-Feb-05  344628.72         NaN   7  26.0     COCHIN   \n",
       "1498   331.0       A7  31-Mar-06  336264.37         NaN   7  26.0     COCHIN   \n",
       "1499   349.0       A7   3-Jan-04  473662.61         NaN   7  26.0     COCHIN   \n",
       "\n",
       "     Product     Limit Company        Segment  \n",
       "0       Gold  500000.0      C1  Self Employed  \n",
       "1       Gold  500000.0      C1  Self Employed  \n",
       "2       Gold  500000.0      C1  Self Employed  \n",
       "3       Gold  500000.0      C1  Self Employed  \n",
       "4       Gold  500000.0      C1  Self Employed  \n",
       "...      ...       ...     ...            ...  \n",
       "1495  Silver  100001.0      C7   Salaried_MNC  \n",
       "1496  Silver  100001.0      C7   Salaried_MNC  \n",
       "1497  Silver  100001.0      C7   Salaried_MNC  \n",
       "1498  Silver  100001.0      C7   Salaried_MNC  \n",
       "1499  Silver  100001.0      C7   Salaried_MNC  \n",
       "\n",
       "[1500 rows x 12 columns]"
      ]
     },
     "execution_count": 78,
     "metadata": {},
     "output_type": "execute_result"
    }
   ],
   "source": [
    "customer_repay"
   ]
  },
  {
   "cell_type": "code",
   "execution_count": 79,
   "id": "42a8188c",
   "metadata": {
    "ExecuteTime": {
     "end_time": "2023-04-22T08:47:30.731329Z",
     "start_time": "2023-04-22T08:47:30.683333Z"
    }
   },
   "outputs": [
    {
     "data": {
      "text/html": [
       "<div>\n",
       "<style scoped>\n",
       "    .dataframe tbody tr th:only-of-type {\n",
       "        vertical-align: middle;\n",
       "    }\n",
       "\n",
       "    .dataframe tbody tr th {\n",
       "        vertical-align: top;\n",
       "    }\n",
       "\n",
       "    .dataframe thead th {\n",
       "        text-align: right;\n",
       "    }\n",
       "</style>\n",
       "<table border=\"1\" class=\"dataframe\">\n",
       "  <thead>\n",
       "    <tr style=\"text-align: right;\">\n",
       "      <th></th>\n",
       "      <th>SL No:</th>\n",
       "      <th>Customer</th>\n",
       "      <th>Month</th>\n",
       "      <th>Amount</th>\n",
       "      <th>Unnamed: 4</th>\n",
       "      <th>No</th>\n",
       "      <th>Age</th>\n",
       "      <th>City</th>\n",
       "      <th>Product</th>\n",
       "      <th>Limit</th>\n",
       "      <th>Company</th>\n",
       "      <th>Segment</th>\n",
       "    </tr>\n",
       "  </thead>\n",
       "  <tbody>\n",
       "    <tr>\n",
       "      <th>18</th>\n",
       "      <td>8.0</td>\n",
       "      <td>A8</td>\n",
       "      <td>5-Feb-04</td>\n",
       "      <td>156913.59</td>\n",
       "      <td>NaN</td>\n",
       "      <td>8</td>\n",
       "      <td>67.0</td>\n",
       "      <td>PATNA</td>\n",
       "      <td>Silver</td>\n",
       "      <td>100002.0</td>\n",
       "      <td>C8</td>\n",
       "      <td>Salaried_Pvt</td>\n",
       "    </tr>\n",
       "    <tr>\n",
       "      <th>19</th>\n",
       "      <td>110.0</td>\n",
       "      <td>A8</td>\n",
       "      <td>12-Jan-04</td>\n",
       "      <td>350999.98</td>\n",
       "      <td>NaN</td>\n",
       "      <td>8</td>\n",
       "      <td>67.0</td>\n",
       "      <td>PATNA</td>\n",
       "      <td>Silver</td>\n",
       "      <td>100002.0</td>\n",
       "      <td>C8</td>\n",
       "      <td>Salaried_Pvt</td>\n",
       "    </tr>\n",
       "    <tr>\n",
       "      <th>20</th>\n",
       "      <td>124.0</td>\n",
       "      <td>A8</td>\n",
       "      <td>31-Mar-06</td>\n",
       "      <td>155642.95</td>\n",
       "      <td>NaN</td>\n",
       "      <td>8</td>\n",
       "      <td>67.0</td>\n",
       "      <td>PATNA</td>\n",
       "      <td>Silver</td>\n",
       "      <td>100002.0</td>\n",
       "      <td>C8</td>\n",
       "      <td>Salaried_Pvt</td>\n",
       "    </tr>\n",
       "    <tr>\n",
       "      <th>21</th>\n",
       "      <td>138.0</td>\n",
       "      <td>A8</td>\n",
       "      <td>9-May-05</td>\n",
       "      <td>145457.38</td>\n",
       "      <td>NaN</td>\n",
       "      <td>8</td>\n",
       "      <td>67.0</td>\n",
       "      <td>PATNA</td>\n",
       "      <td>Silver</td>\n",
       "      <td>100002.0</td>\n",
       "      <td>C8</td>\n",
       "      <td>Salaried_Pvt</td>\n",
       "    </tr>\n",
       "    <tr>\n",
       "      <th>22</th>\n",
       "      <td>152.0</td>\n",
       "      <td>A8</td>\n",
       "      <td>8-May-06</td>\n",
       "      <td>361184.89</td>\n",
       "      <td>NaN</td>\n",
       "      <td>8</td>\n",
       "      <td>67.0</td>\n",
       "      <td>PATNA</td>\n",
       "      <td>Silver</td>\n",
       "      <td>100002.0</td>\n",
       "      <td>C8</td>\n",
       "      <td>Salaried_Pvt</td>\n",
       "    </tr>\n",
       "    <tr>\n",
       "      <th>...</th>\n",
       "      <td>...</td>\n",
       "      <td>...</td>\n",
       "      <td>...</td>\n",
       "      <td>...</td>\n",
       "      <td>...</td>\n",
       "      <td>...</td>\n",
       "      <td>...</td>\n",
       "      <td>...</td>\n",
       "      <td>...</td>\n",
       "      <td>...</td>\n",
       "      <td>...</td>\n",
       "      <td>...</td>\n",
       "    </tr>\n",
       "    <tr>\n",
       "      <th>1494</th>\n",
       "      <td>259.0</td>\n",
       "      <td>A7</td>\n",
       "      <td>6-May-06</td>\n",
       "      <td>400375.97</td>\n",
       "      <td>NaN</td>\n",
       "      <td>7</td>\n",
       "      <td>26.0</td>\n",
       "      <td>COCHIN</td>\n",
       "      <td>Silver</td>\n",
       "      <td>100001.0</td>\n",
       "      <td>C7</td>\n",
       "      <td>Salaried_MNC</td>\n",
       "    </tr>\n",
       "    <tr>\n",
       "      <th>1496</th>\n",
       "      <td>295.0</td>\n",
       "      <td>A7</td>\n",
       "      <td>3-Dec-05</td>\n",
       "      <td>429700.12</td>\n",
       "      <td>NaN</td>\n",
       "      <td>7</td>\n",
       "      <td>26.0</td>\n",
       "      <td>COCHIN</td>\n",
       "      <td>Silver</td>\n",
       "      <td>100001.0</td>\n",
       "      <td>C7</td>\n",
       "      <td>Salaried_MNC</td>\n",
       "    </tr>\n",
       "    <tr>\n",
       "      <th>1497</th>\n",
       "      <td>313.0</td>\n",
       "      <td>A7</td>\n",
       "      <td>23-Feb-05</td>\n",
       "      <td>344628.72</td>\n",
       "      <td>NaN</td>\n",
       "      <td>7</td>\n",
       "      <td>26.0</td>\n",
       "      <td>COCHIN</td>\n",
       "      <td>Silver</td>\n",
       "      <td>100001.0</td>\n",
       "      <td>C7</td>\n",
       "      <td>Salaried_MNC</td>\n",
       "    </tr>\n",
       "    <tr>\n",
       "      <th>1498</th>\n",
       "      <td>331.0</td>\n",
       "      <td>A7</td>\n",
       "      <td>31-Mar-06</td>\n",
       "      <td>336264.37</td>\n",
       "      <td>NaN</td>\n",
       "      <td>7</td>\n",
       "      <td>26.0</td>\n",
       "      <td>COCHIN</td>\n",
       "      <td>Silver</td>\n",
       "      <td>100001.0</td>\n",
       "      <td>C7</td>\n",
       "      <td>Salaried_MNC</td>\n",
       "    </tr>\n",
       "    <tr>\n",
       "      <th>1499</th>\n",
       "      <td>349.0</td>\n",
       "      <td>A7</td>\n",
       "      <td>3-Jan-04</td>\n",
       "      <td>473662.61</td>\n",
       "      <td>NaN</td>\n",
       "      <td>7</td>\n",
       "      <td>26.0</td>\n",
       "      <td>COCHIN</td>\n",
       "      <td>Silver</td>\n",
       "      <td>100001.0</td>\n",
       "      <td>C7</td>\n",
       "      <td>Salaried_MNC</td>\n",
       "    </tr>\n",
       "  </tbody>\n",
       "</table>\n",
       "<p>600 rows × 12 columns</p>\n",
       "</div>"
      ],
      "text/plain": [
       "      SL No: Customer      Month     Amount  Unnamed: 4  No   Age    City  \\\n",
       "18       8.0       A8   5-Feb-04  156913.59         NaN   8  67.0   PATNA   \n",
       "19     110.0       A8  12-Jan-04  350999.98         NaN   8  67.0   PATNA   \n",
       "20     124.0       A8  31-Mar-06  155642.95         NaN   8  67.0   PATNA   \n",
       "21     138.0       A8   9-May-05  145457.38         NaN   8  67.0   PATNA   \n",
       "22     152.0       A8   8-May-06  361184.89         NaN   8  67.0   PATNA   \n",
       "...      ...      ...        ...        ...         ...  ..   ...     ...   \n",
       "1494   259.0       A7   6-May-06  400375.97         NaN   7  26.0  COCHIN   \n",
       "1496   295.0       A7   3-Dec-05  429700.12         NaN   7  26.0  COCHIN   \n",
       "1497   313.0       A7  23-Feb-05  344628.72         NaN   7  26.0  COCHIN   \n",
       "1498   331.0       A7  31-Mar-06  336264.37         NaN   7  26.0  COCHIN   \n",
       "1499   349.0       A7   3-Jan-04  473662.61         NaN   7  26.0  COCHIN   \n",
       "\n",
       "     Product     Limit Company       Segment  \n",
       "18    Silver  100002.0      C8  Salaried_Pvt  \n",
       "19    Silver  100002.0      C8  Salaried_Pvt  \n",
       "20    Silver  100002.0      C8  Salaried_Pvt  \n",
       "21    Silver  100002.0      C8  Salaried_Pvt  \n",
       "22    Silver  100002.0      C8  Salaried_Pvt  \n",
       "...      ...       ...     ...           ...  \n",
       "1494  Silver  100001.0      C7  Salaried_MNC  \n",
       "1496  Silver  100001.0      C7  Salaried_MNC  \n",
       "1497  Silver  100001.0      C7  Salaried_MNC  \n",
       "1498  Silver  100001.0      C7  Salaried_MNC  \n",
       "1499  Silver  100001.0      C7  Salaried_MNC  \n",
       "\n",
       "[600 rows x 12 columns]"
      ]
     },
     "execution_count": 79,
     "metadata": {},
     "output_type": "execute_result"
    }
   ],
   "source": [
    "customer_repay[customer_repay[\"Amount\"] > customer_repay[\"Limit\"]]"
   ]
  },
  {
   "cell_type": "code",
   "execution_count": 80,
   "id": "df8c2d83",
   "metadata": {
    "ExecuteTime": {
     "end_time": "2023-04-22T08:47:54.929972Z",
     "start_time": "2023-04-22T08:47:54.905976Z"
    }
   },
   "outputs": [],
   "source": [
    "customer_repay.loc[customer_repay[\"Amount\"] > customer_repay[\"Limit\"],\"Amount\"] = customer_repay[\"Limit\"]"
   ]
  },
  {
   "cell_type": "code",
   "execution_count": 81,
   "id": "3d4d710c",
   "metadata": {
    "ExecuteTime": {
     "end_time": "2023-04-22T08:48:14.695165Z",
     "start_time": "2023-04-22T08:48:14.663156Z"
    }
   },
   "outputs": [
    {
     "data": {
      "text/html": [
       "<div>\n",
       "<style scoped>\n",
       "    .dataframe tbody tr th:only-of-type {\n",
       "        vertical-align: middle;\n",
       "    }\n",
       "\n",
       "    .dataframe tbody tr th {\n",
       "        vertical-align: top;\n",
       "    }\n",
       "\n",
       "    .dataframe thead th {\n",
       "        text-align: right;\n",
       "    }\n",
       "</style>\n",
       "<table border=\"1\" class=\"dataframe\">\n",
       "  <thead>\n",
       "    <tr style=\"text-align: right;\">\n",
       "      <th></th>\n",
       "      <th>SL No:</th>\n",
       "      <th>Customer</th>\n",
       "      <th>Month</th>\n",
       "      <th>Amount</th>\n",
       "      <th>Unnamed: 4</th>\n",
       "      <th>No</th>\n",
       "      <th>Age</th>\n",
       "      <th>City</th>\n",
       "      <th>Product</th>\n",
       "      <th>Limit</th>\n",
       "      <th>Company</th>\n",
       "      <th>Segment</th>\n",
       "    </tr>\n",
       "  </thead>\n",
       "  <tbody>\n",
       "  </tbody>\n",
       "</table>\n",
       "</div>"
      ],
      "text/plain": [
       "Empty DataFrame\n",
       "Columns: [SL No:, Customer, Month, Amount, Unnamed: 4, No, Age, City, Product, Limit, Company, Segment]\n",
       "Index: []"
      ]
     },
     "execution_count": 81,
     "metadata": {},
     "output_type": "execute_result"
    }
   ],
   "source": [
    "#there are no customers left where repayment amount is more than the limit.\n",
    "customer_repay[customer_repay[\"Amount\"] > customer_repay[\"Limit\"]]"
   ]
  },
  {
   "cell_type": "code",
   "execution_count": 82,
   "id": "462f33f6",
   "metadata": {
    "ExecuteTime": {
     "end_time": "2023-04-22T08:48:42.781285Z",
     "start_time": "2023-04-22T08:48:42.757249Z"
    }
   },
   "outputs": [],
   "source": [
    "#(2) From the above dataset create the following summaries:\n",
    "#(a) How many distinct customers exist?"
   ]
  },
  {
   "cell_type": "code",
   "execution_count": 87,
   "id": "80baeabe",
   "metadata": {
    "ExecuteTime": {
     "end_time": "2023-04-22T08:50:24.349251Z",
     "start_time": "2023-04-22T08:50:24.341290Z"
    }
   },
   "outputs": [],
   "source": [
    "distinctcustomer=customer[\"Customer\"].nunique()"
   ]
  },
  {
   "cell_type": "code",
   "execution_count": 89,
   "id": "d75711b7",
   "metadata": {
    "ExecuteTime": {
     "end_time": "2023-04-22T08:50:48.243604Z",
     "start_time": "2023-04-22T08:50:48.235639Z"
    }
   },
   "outputs": [
    {
     "name": "stdout",
     "output_type": "stream",
     "text": [
      "Number of distinct customers are 100\n"
     ]
    }
   ],
   "source": [
    "print(\"Number of distinct customers are\",distinctcustomer)"
   ]
  },
  {
   "cell_type": "code",
   "execution_count": 90,
   "id": "138498bc",
   "metadata": {
    "ExecuteTime": {
     "end_time": "2023-04-22T08:51:04.395518Z",
     "start_time": "2023-04-22T08:51:04.379518Z"
    }
   },
   "outputs": [],
   "source": [
    "#(b) How many distinct categories exist?"
   ]
  },
  {
   "cell_type": "code",
   "execution_count": 91,
   "id": "0d7b0dcd",
   "metadata": {
    "ExecuteTime": {
     "end_time": "2023-04-22T08:51:36.479699Z",
     "start_time": "2023-04-22T08:51:36.341548Z"
    }
   },
   "outputs": [
    {
     "data": {
      "text/plain": [
       "Govt             29\n",
       "Self Employed    23\n",
       "Normal Salary    22\n",
       "Salaried_MNC     13\n",
       "Salaried_Pvt     13\n",
       "Name: Segment, dtype: int64"
      ]
     },
     "execution_count": 91,
     "metadata": {},
     "output_type": "execute_result"
    }
   ],
   "source": [
    "#customers from different segments\n",
    "customer[\"Segment\"].value_counts()"
   ]
  },
  {
   "cell_type": "code",
   "execution_count": 92,
   "id": "7489eb15",
   "metadata": {
    "ExecuteTime": {
     "end_time": "2023-04-22T12:44:07.344242Z",
     "start_time": "2023-04-22T12:44:07.323262Z"
    }
   },
   "outputs": [],
   "source": [
    "#(c) What is the average monthly spend by customers?"
   ]
  },
  {
   "cell_type": "code",
   "execution_count": 97,
   "id": "9f91ef2d",
   "metadata": {
    "ExecuteTime": {
     "end_time": "2023-04-22T12:48:07.139043Z",
     "start_time": "2023-04-22T12:48:06.746412Z"
    }
   },
   "outputs": [],
   "source": [
    "#converting Month column of \"spend\" table to date time format\n",
    "spend['Month'] = pd.to_datetime(spend['Month'])"
   ]
  },
  {
   "cell_type": "code",
   "execution_count": 98,
   "id": "b4004c3b",
   "metadata": {
    "ExecuteTime": {
     "end_time": "2023-04-22T12:48:17.540384Z",
     "start_time": "2023-04-22T12:48:17.364657Z"
    }
   },
   "outputs": [],
   "source": [
    "#creating new columns which show \"Month\" and \"Year\"\n",
    "spend['Monthly'] = spend['Month'].apply(lambda x:pd.Timestamp.strftime(x,format=\"%B\"))\n",
    "spend['Yearly'] = spend['Month'].apply(lambda x:pd.Timestamp.strftime(x,format=\"%Y\"))"
   ]
  },
  {
   "cell_type": "code",
   "execution_count": 99,
   "id": "f82eed58",
   "metadata": {
    "ExecuteTime": {
     "end_time": "2023-04-22T12:48:31.384125Z",
     "start_time": "2023-04-22T12:48:31.248522Z"
    }
   },
   "outputs": [
    {
     "data": {
      "text/html": [
       "<div>\n",
       "<style scoped>\n",
       "    .dataframe tbody tr th:only-of-type {\n",
       "        vertical-align: middle;\n",
       "    }\n",
       "\n",
       "    .dataframe tbody tr th {\n",
       "        vertical-align: top;\n",
       "    }\n",
       "\n",
       "    .dataframe thead th {\n",
       "        text-align: right;\n",
       "    }\n",
       "</style>\n",
       "<table border=\"1\" class=\"dataframe\">\n",
       "  <thead>\n",
       "    <tr style=\"text-align: right;\">\n",
       "      <th></th>\n",
       "      <th>Sl No:</th>\n",
       "      <th>Customer</th>\n",
       "      <th>Month</th>\n",
       "      <th>Type</th>\n",
       "      <th>Amount</th>\n",
       "      <th>Monthly</th>\n",
       "      <th>Yearly</th>\n",
       "    </tr>\n",
       "  </thead>\n",
       "  <tbody>\n",
       "    <tr>\n",
       "      <th>0</th>\n",
       "      <td>1</td>\n",
       "      <td>A1</td>\n",
       "      <td>2004-01-12</td>\n",
       "      <td>JEWELLERY</td>\n",
       "      <td>485470.80</td>\n",
       "      <td>January</td>\n",
       "      <td>2004</td>\n",
       "    </tr>\n",
       "    <tr>\n",
       "      <th>1</th>\n",
       "      <td>2</td>\n",
       "      <td>A1</td>\n",
       "      <td>2004-01-03</td>\n",
       "      <td>PETRO</td>\n",
       "      <td>410556.13</td>\n",
       "      <td>January</td>\n",
       "      <td>2004</td>\n",
       "    </tr>\n",
       "    <tr>\n",
       "      <th>2</th>\n",
       "      <td>3</td>\n",
       "      <td>A1</td>\n",
       "      <td>2004-01-15</td>\n",
       "      <td>CLOTHES</td>\n",
       "      <td>23740.46</td>\n",
       "      <td>January</td>\n",
       "      <td>2004</td>\n",
       "    </tr>\n",
       "    <tr>\n",
       "      <th>3</th>\n",
       "      <td>4</td>\n",
       "      <td>A1</td>\n",
       "      <td>2004-01-25</td>\n",
       "      <td>FOOD</td>\n",
       "      <td>484342.47</td>\n",
       "      <td>January</td>\n",
       "      <td>2004</td>\n",
       "    </tr>\n",
       "    <tr>\n",
       "      <th>4</th>\n",
       "      <td>5</td>\n",
       "      <td>A1</td>\n",
       "      <td>2005-01-17</td>\n",
       "      <td>CAMERA</td>\n",
       "      <td>369694.07</td>\n",
       "      <td>January</td>\n",
       "      <td>2005</td>\n",
       "    </tr>\n",
       "  </tbody>\n",
       "</table>\n",
       "</div>"
      ],
      "text/plain": [
       "   Sl No: Customer      Month       Type     Amount  Monthly Yearly\n",
       "0       1       A1 2004-01-12  JEWELLERY  485470.80  January   2004\n",
       "1       2       A1 2004-01-03      PETRO  410556.13  January   2004\n",
       "2       3       A1 2004-01-15    CLOTHES   23740.46  January   2004\n",
       "3       4       A1 2004-01-25       FOOD  484342.47  January   2004\n",
       "4       5       A1 2005-01-17     CAMERA  369694.07  January   2005"
      ]
     },
     "execution_count": 99,
     "metadata": {},
     "output_type": "execute_result"
    }
   ],
   "source": [
    "spend.head()"
   ]
  },
  {
   "cell_type": "code",
   "execution_count": 100,
   "id": "197b0cf3",
   "metadata": {
    "ExecuteTime": {
     "end_time": "2023-04-22T12:49:00.667606Z",
     "start_time": "2023-04-22T12:49:00.297950Z"
    }
   },
   "outputs": [],
   "source": [
    "#grouping the dataset based on 'Yearly' and 'monthly'\n",
    "customer_spend_group= round(spend.groupby(['Yearly','Monthly']).mean(),2)"
   ]
  },
  {
   "cell_type": "code",
   "execution_count": 101,
   "id": "1459ac44",
   "metadata": {
    "ExecuteTime": {
     "end_time": "2023-04-22T12:50:36.219727Z",
     "start_time": "2023-04-22T12:50:36.108026Z"
    }
   },
   "outputs": [
    {
     "data": {
      "text/html": [
       "<div>\n",
       "<style scoped>\n",
       "    .dataframe tbody tr th:only-of-type {\n",
       "        vertical-align: middle;\n",
       "    }\n",
       "\n",
       "    .dataframe tbody tr th {\n",
       "        vertical-align: top;\n",
       "    }\n",
       "\n",
       "    .dataframe thead th {\n",
       "        text-align: right;\n",
       "    }\n",
       "</style>\n",
       "<table border=\"1\" class=\"dataframe\">\n",
       "  <thead>\n",
       "    <tr style=\"text-align: right;\">\n",
       "      <th></th>\n",
       "      <th></th>\n",
       "      <th>Sl No:</th>\n",
       "      <th>Amount</th>\n",
       "    </tr>\n",
       "    <tr>\n",
       "      <th>Yearly</th>\n",
       "      <th>Monthly</th>\n",
       "      <th></th>\n",
       "      <th></th>\n",
       "    </tr>\n",
       "  </thead>\n",
       "  <tbody>\n",
       "    <tr>\n",
       "      <th rowspan=\"7\" valign=\"top\">2004</th>\n",
       "      <th>April</th>\n",
       "      <td>730.50</td>\n",
       "      <td>235272.04</td>\n",
       "    </tr>\n",
       "    <tr>\n",
       "      <th>February</th>\n",
       "      <td>749.50</td>\n",
       "      <td>221215.27</td>\n",
       "    </tr>\n",
       "    <tr>\n",
       "      <th>January</th>\n",
       "      <td>751.62</td>\n",
       "      <td>251712.07</td>\n",
       "    </tr>\n",
       "    <tr>\n",
       "      <th>March</th>\n",
       "      <td>725.50</td>\n",
       "      <td>232146.12</td>\n",
       "    </tr>\n",
       "    <tr>\n",
       "      <th>May</th>\n",
       "      <td>733.50</td>\n",
       "      <td>217539.24</td>\n",
       "    </tr>\n",
       "    <tr>\n",
       "      <th>November</th>\n",
       "      <td>745.50</td>\n",
       "      <td>270486.40</td>\n",
       "    </tr>\n",
       "    <tr>\n",
       "      <th>September</th>\n",
       "      <td>741.50</td>\n",
       "      <td>310923.38</td>\n",
       "    </tr>\n",
       "    <tr>\n",
       "      <th rowspan=\"11\" valign=\"top\">2005</th>\n",
       "      <th>April</th>\n",
       "      <td>730.00</td>\n",
       "      <td>252181.33</td>\n",
       "    </tr>\n",
       "    <tr>\n",
       "      <th>August</th>\n",
       "      <td>749.50</td>\n",
       "      <td>233734.63</td>\n",
       "    </tr>\n",
       "    <tr>\n",
       "      <th>December</th>\n",
       "      <td>762.50</td>\n",
       "      <td>147503.06</td>\n",
       "    </tr>\n",
       "    <tr>\n",
       "      <th>February</th>\n",
       "      <td>750.67</td>\n",
       "      <td>229802.28</td>\n",
       "    </tr>\n",
       "    <tr>\n",
       "      <th>January</th>\n",
       "      <td>746.50</td>\n",
       "      <td>292741.37</td>\n",
       "    </tr>\n",
       "    <tr>\n",
       "      <th>July</th>\n",
       "      <td>757.50</td>\n",
       "      <td>229116.66</td>\n",
       "    </tr>\n",
       "    <tr>\n",
       "      <th>June</th>\n",
       "      <td>755.50</td>\n",
       "      <td>262688.11</td>\n",
       "    </tr>\n",
       "    <tr>\n",
       "      <th>May</th>\n",
       "      <td>747.30</td>\n",
       "      <td>245696.52</td>\n",
       "    </tr>\n",
       "    <tr>\n",
       "      <th>November</th>\n",
       "      <td>749.50</td>\n",
       "      <td>286143.32</td>\n",
       "    </tr>\n",
       "    <tr>\n",
       "      <th>October</th>\n",
       "      <td>760.50</td>\n",
       "      <td>194568.64</td>\n",
       "    </tr>\n",
       "    <tr>\n",
       "      <th>September</th>\n",
       "      <td>759.50</td>\n",
       "      <td>188666.20</td>\n",
       "    </tr>\n",
       "    <tr>\n",
       "      <th rowspan=\"12\" valign=\"top\">2006</th>\n",
       "      <th>April</th>\n",
       "      <td>744.41</td>\n",
       "      <td>232468.97</td>\n",
       "    </tr>\n",
       "    <tr>\n",
       "      <th>August</th>\n",
       "      <td>770.50</td>\n",
       "      <td>240699.72</td>\n",
       "    </tr>\n",
       "    <tr>\n",
       "      <th>December</th>\n",
       "      <td>774.50</td>\n",
       "      <td>270470.98</td>\n",
       "    </tr>\n",
       "    <tr>\n",
       "      <th>February</th>\n",
       "      <td>757.83</td>\n",
       "      <td>253858.26</td>\n",
       "    </tr>\n",
       "    <tr>\n",
       "      <th>January</th>\n",
       "      <td>763.50</td>\n",
       "      <td>282058.01</td>\n",
       "    </tr>\n",
       "    <tr>\n",
       "      <th>July</th>\n",
       "      <td>754.50</td>\n",
       "      <td>287505.10</td>\n",
       "    </tr>\n",
       "    <tr>\n",
       "      <th>June</th>\n",
       "      <td>768.50</td>\n",
       "      <td>177252.39</td>\n",
       "    </tr>\n",
       "    <tr>\n",
       "      <th>March</th>\n",
       "      <td>750.90</td>\n",
       "      <td>247166.08</td>\n",
       "    </tr>\n",
       "    <tr>\n",
       "      <th>May</th>\n",
       "      <td>744.25</td>\n",
       "      <td>236162.74</td>\n",
       "    </tr>\n",
       "    <tr>\n",
       "      <th>November</th>\n",
       "      <td>758.50</td>\n",
       "      <td>182841.29</td>\n",
       "    </tr>\n",
       "    <tr>\n",
       "      <th>October</th>\n",
       "      <td>772.50</td>\n",
       "      <td>236136.34</td>\n",
       "    </tr>\n",
       "    <tr>\n",
       "      <th>September</th>\n",
       "      <td>771.50</td>\n",
       "      <td>158520.09</td>\n",
       "    </tr>\n",
       "  </tbody>\n",
       "</table>\n",
       "</div>"
      ],
      "text/plain": [
       "                  Sl No:     Amount\n",
       "Yearly Monthly                     \n",
       "2004   April      730.50  235272.04\n",
       "       February   749.50  221215.27\n",
       "       January    751.62  251712.07\n",
       "       March      725.50  232146.12\n",
       "       May        733.50  217539.24\n",
       "       November   745.50  270486.40\n",
       "       September  741.50  310923.38\n",
       "2005   April      730.00  252181.33\n",
       "       August     749.50  233734.63\n",
       "       December   762.50  147503.06\n",
       "       February   750.67  229802.28\n",
       "       January    746.50  292741.37\n",
       "       July       757.50  229116.66\n",
       "       June       755.50  262688.11\n",
       "       May        747.30  245696.52\n",
       "       November   749.50  286143.32\n",
       "       October    760.50  194568.64\n",
       "       September  759.50  188666.20\n",
       "2006   April      744.41  232468.97\n",
       "       August     770.50  240699.72\n",
       "       December   774.50  270470.98\n",
       "       February   757.83  253858.26\n",
       "       January    763.50  282058.01\n",
       "       July       754.50  287505.10\n",
       "       June       768.50  177252.39\n",
       "       March      750.90  247166.08\n",
       "       May        744.25  236162.74\n",
       "       November   758.50  182841.29\n",
       "       October    772.50  236136.34\n",
       "       September  771.50  158520.09"
      ]
     },
     "execution_count": 101,
     "metadata": {},
     "output_type": "execute_result"
    }
   ],
   "source": [
    "customer_spend_group"
   ]
  },
  {
   "cell_type": "code",
   "execution_count": 104,
   "id": "36f01003",
   "metadata": {
    "ExecuteTime": {
     "end_time": "2023-04-22T12:51:07.313172Z",
     "start_time": "2023-04-22T12:51:07.294741Z"
    }
   },
   "outputs": [],
   "source": [
    "#(d) What is the average monthly repayment by customers"
   ]
  },
  {
   "cell_type": "code",
   "execution_count": 206,
   "id": "413c0b82",
   "metadata": {
    "ExecuteTime": {
     "end_time": "2023-04-22T14:59:31.318340Z",
     "start_time": "2023-04-22T14:59:31.208825Z"
    }
   },
   "outputs": [],
   "source": [
    "#converting Month column of \"spend\" table to date time format\n",
    "repay['Month'] = pd.to_datetime(repay['Month'])"
   ]
  },
  {
   "cell_type": "code",
   "execution_count": 1,
   "id": "9d1bb161",
   "metadata": {
    "ExecuteTime": {
     "end_time": "2023-04-23T14:17:02.915442Z",
     "start_time": "2023-04-23T14:17:01.280084Z"
    }
   },
   "outputs": [
    {
     "ename": "NameError",
     "evalue": "name 'repay' is not defined",
     "output_type": "error",
     "traceback": [
      "\u001b[1;31m---------------------------------------------------------------------------\u001b[0m",
      "\u001b[1;31mNameError\u001b[0m                                 Traceback (most recent call last)",
      "\u001b[1;32m~\\AppData\\Local\\Temp\\ipykernel_11500\\885193305.py\u001b[0m in \u001b[0;36m<module>\u001b[1;34m\u001b[0m\n\u001b[0;32m      1\u001b[0m \u001b[1;31m#creating new columns which show \"Month\" and \"Year\"\u001b[0m\u001b[1;33m\u001b[0m\u001b[1;33m\u001b[0m\u001b[0m\n\u001b[1;32m----> 2\u001b[1;33m \u001b[0mrepay\u001b[0m\u001b[1;33m[\u001b[0m\u001b[1;34m'Monthly'\u001b[0m\u001b[1;33m]\u001b[0m\u001b[1;33m=\u001b[0m\u001b[0mrepay\u001b[0m\u001b[1;33m[\u001b[0m\u001b[1;34m'Month'\u001b[0m\u001b[1;33m]\u001b[0m\u001b[1;33m.\u001b[0m\u001b[0mapply\u001b[0m\u001b[1;33m(\u001b[0m\u001b[1;32mlambda\u001b[0m \u001b[0mx\u001b[0m\u001b[1;33m:\u001b[0m\u001b[0mpd\u001b[0m\u001b[1;33m.\u001b[0m\u001b[0mTimestamp\u001b[0m\u001b[1;33m.\u001b[0m\u001b[0mstrftime\u001b[0m\u001b[1;33m(\u001b[0m\u001b[0mx\u001b[0m\u001b[1;33m,\u001b[0m\u001b[0mformat\u001b[0m\u001b[1;33m=\u001b[0m\u001b[1;34m\"%B\"\u001b[0m\u001b[1;33m)\u001b[0m\u001b[1;33m)\u001b[0m\u001b[1;33m\u001b[0m\u001b[1;33m\u001b[0m\u001b[0m\n\u001b[0m\u001b[0;32m      3\u001b[0m \u001b[0mrepay\u001b[0m\u001b[1;33m[\u001b[0m\u001b[1;34m'Yearly'\u001b[0m\u001b[1;33m]\u001b[0m\u001b[1;33m=\u001b[0m\u001b[0mrepay\u001b[0m\u001b[1;33m[\u001b[0m\u001b[1;34m'Month'\u001b[0m\u001b[1;33m]\u001b[0m\u001b[1;33m.\u001b[0m\u001b[0mapply\u001b[0m\u001b[1;33m(\u001b[0m\u001b[1;32mlambda\u001b[0m \u001b[0mx\u001b[0m\u001b[1;33m:\u001b[0m\u001b[0mpd\u001b[0m\u001b[1;33m.\u001b[0m\u001b[0mTimestamp\u001b[0m\u001b[1;33m.\u001b[0m\u001b[0mstrftime\u001b[0m\u001b[1;33m(\u001b[0m\u001b[0mx\u001b[0m\u001b[1;33m,\u001b[0m\u001b[0mformat\u001b[0m\u001b[1;33m=\u001b[0m\u001b[1;34m\"%Y\"\u001b[0m\u001b[1;33m)\u001b[0m\u001b[1;33m)\u001b[0m\u001b[1;33m\u001b[0m\u001b[1;33m\u001b[0m\u001b[0m\n",
      "\u001b[1;31mNameError\u001b[0m: name 'repay' is not defined"
     ]
    }
   ],
   "source": [
    "#creating new columns which show \"Month\" and \"Year\"\n",
    "repay['Monthly']=repay['Month'].apply(lambda x:pd.Timestamp.strftime(x,format=\"%B\"))\n",
    "repay['Yearly']=repay['Month'].apply(lambda x:pd.Timestamp.strftime(x,format=\"%Y\"))"
   ]
  },
  {
   "cell_type": "code",
   "execution_count": 150,
   "id": "78c74e2f",
   "metadata": {
    "ExecuteTime": {
     "end_time": "2023-04-22T14:04:02.980285Z",
     "start_time": "2023-04-22T14:04:02.654081Z"
    }
   },
   "outputs": [
    {
     "ename": "KeyError",
     "evalue": "'Yearly'",
     "output_type": "error",
     "traceback": [
      "\u001b[1;31m---------------------------------------------------------------------------\u001b[0m",
      "\u001b[1;31mKeyError\u001b[0m                                  Traceback (most recent call last)",
      "\u001b[1;32m~\\AppData\\Local\\Temp\\ipykernel_8968\\1826207001.py\u001b[0m in \u001b[0;36m<module>\u001b[1;34m\u001b[0m\n\u001b[0;32m      1\u001b[0m \u001b[1;31m#grouping the dataset based on 'Yearly' and 'monthly'\u001b[0m\u001b[1;33m\u001b[0m\u001b[1;33m\u001b[0m\u001b[0m\n\u001b[1;32m----> 2\u001b[1;33m \u001b[0mcustomer_repay_group\u001b[0m\u001b[1;33m=\u001b[0m \u001b[0mround\u001b[0m\u001b[1;33m(\u001b[0m\u001b[0mrepay\u001b[0m\u001b[1;33m.\u001b[0m\u001b[0mgroupby\u001b[0m\u001b[1;33m(\u001b[0m\u001b[1;33m[\u001b[0m\u001b[1;34m'Yearly'\u001b[0m\u001b[1;33m,\u001b[0m\u001b[1;34m'Monthly'\u001b[0m\u001b[1;33m]\u001b[0m\u001b[1;33m)\u001b[0m\u001b[1;33m.\u001b[0m\u001b[0mmean\u001b[0m\u001b[1;33m(\u001b[0m\u001b[1;33m)\u001b[0m\u001b[1;33m,\u001b[0m\u001b[1;36m2\u001b[0m\u001b[1;33m)\u001b[0m\u001b[1;33m\u001b[0m\u001b[1;33m\u001b[0m\u001b[0m\n\u001b[0m",
      "\u001b[1;32m~\\anaconda3\\lib\\site-packages\\pandas\\core\\frame.py\u001b[0m in \u001b[0;36mgroupby\u001b[1;34m(self, by, axis, level, as_index, sort, group_keys, squeeze, observed, dropna)\u001b[0m\n\u001b[0;32m   7719\u001b[0m         \u001b[1;31m# error: Argument \"squeeze\" to \"DataFrameGroupBy\" has incompatible type\u001b[0m\u001b[1;33m\u001b[0m\u001b[1;33m\u001b[0m\u001b[0m\n\u001b[0;32m   7720\u001b[0m         \u001b[1;31m# \"Union[bool, NoDefault]\"; expected \"bool\"\u001b[0m\u001b[1;33m\u001b[0m\u001b[1;33m\u001b[0m\u001b[0m\n\u001b[1;32m-> 7721\u001b[1;33m         return DataFrameGroupBy(\n\u001b[0m\u001b[0;32m   7722\u001b[0m             \u001b[0mobj\u001b[0m\u001b[1;33m=\u001b[0m\u001b[0mself\u001b[0m\u001b[1;33m,\u001b[0m\u001b[1;33m\u001b[0m\u001b[1;33m\u001b[0m\u001b[0m\n\u001b[0;32m   7723\u001b[0m             \u001b[0mkeys\u001b[0m\u001b[1;33m=\u001b[0m\u001b[0mby\u001b[0m\u001b[1;33m,\u001b[0m\u001b[1;33m\u001b[0m\u001b[1;33m\u001b[0m\u001b[0m\n",
      "\u001b[1;32m~\\anaconda3\\lib\\site-packages\\pandas\\core\\groupby\\groupby.py\u001b[0m in \u001b[0;36m__init__\u001b[1;34m(self, obj, keys, axis, level, grouper, exclusions, selection, as_index, sort, group_keys, squeeze, observed, mutated, dropna)\u001b[0m\n\u001b[0;32m    880\u001b[0m             \u001b[1;32mfrom\u001b[0m \u001b[0mpandas\u001b[0m\u001b[1;33m.\u001b[0m\u001b[0mcore\u001b[0m\u001b[1;33m.\u001b[0m\u001b[0mgroupby\u001b[0m\u001b[1;33m.\u001b[0m\u001b[0mgrouper\u001b[0m \u001b[1;32mimport\u001b[0m \u001b[0mget_grouper\u001b[0m\u001b[1;33m\u001b[0m\u001b[1;33m\u001b[0m\u001b[0m\n\u001b[0;32m    881\u001b[0m \u001b[1;33m\u001b[0m\u001b[0m\n\u001b[1;32m--> 882\u001b[1;33m             grouper, exclusions, obj = get_grouper(\n\u001b[0m\u001b[0;32m    883\u001b[0m                 \u001b[0mobj\u001b[0m\u001b[1;33m,\u001b[0m\u001b[1;33m\u001b[0m\u001b[1;33m\u001b[0m\u001b[0m\n\u001b[0;32m    884\u001b[0m                 \u001b[0mkeys\u001b[0m\u001b[1;33m,\u001b[0m\u001b[1;33m\u001b[0m\u001b[1;33m\u001b[0m\u001b[0m\n",
      "\u001b[1;32m~\\anaconda3\\lib\\site-packages\\pandas\\core\\groupby\\grouper.py\u001b[0m in \u001b[0;36mget_grouper\u001b[1;34m(obj, key, axis, level, sort, observed, mutated, validate, dropna)\u001b[0m\n\u001b[0;32m    880\u001b[0m                 \u001b[0min_axis\u001b[0m\u001b[1;33m,\u001b[0m \u001b[0mlevel\u001b[0m\u001b[1;33m,\u001b[0m \u001b[0mgpr\u001b[0m \u001b[1;33m=\u001b[0m \u001b[1;32mFalse\u001b[0m\u001b[1;33m,\u001b[0m \u001b[0mgpr\u001b[0m\u001b[1;33m,\u001b[0m \u001b[1;32mNone\u001b[0m\u001b[1;33m\u001b[0m\u001b[1;33m\u001b[0m\u001b[0m\n\u001b[0;32m    881\u001b[0m             \u001b[1;32melse\u001b[0m\u001b[1;33m:\u001b[0m\u001b[1;33m\u001b[0m\u001b[1;33m\u001b[0m\u001b[0m\n\u001b[1;32m--> 882\u001b[1;33m                 \u001b[1;32mraise\u001b[0m \u001b[0mKeyError\u001b[0m\u001b[1;33m(\u001b[0m\u001b[0mgpr\u001b[0m\u001b[1;33m)\u001b[0m\u001b[1;33m\u001b[0m\u001b[1;33m\u001b[0m\u001b[0m\n\u001b[0m\u001b[0;32m    883\u001b[0m         \u001b[1;32melif\u001b[0m \u001b[0misinstance\u001b[0m\u001b[1;33m(\u001b[0m\u001b[0mgpr\u001b[0m\u001b[1;33m,\u001b[0m \u001b[0mGrouper\u001b[0m\u001b[1;33m)\u001b[0m \u001b[1;32mand\u001b[0m \u001b[0mgpr\u001b[0m\u001b[1;33m.\u001b[0m\u001b[0mkey\u001b[0m \u001b[1;32mis\u001b[0m \u001b[1;32mnot\u001b[0m \u001b[1;32mNone\u001b[0m\u001b[1;33m:\u001b[0m\u001b[1;33m\u001b[0m\u001b[1;33m\u001b[0m\u001b[0m\n\u001b[0;32m    884\u001b[0m             \u001b[1;31m# Add key to exclusions\u001b[0m\u001b[1;33m\u001b[0m\u001b[1;33m\u001b[0m\u001b[0m\n",
      "\u001b[1;31mKeyError\u001b[0m: 'Yearly'"
     ]
    }
   ],
   "source": [
    "#grouping the dataset based on 'Yearly' and 'monthly'\n",
    "customer_repay_group= round(repay.groupby(['Yearly','Monthly']).mean(),2)"
   ]
  },
  {
   "cell_type": "code",
   "execution_count": 112,
   "id": "b516fb2e",
   "metadata": {
    "ExecuteTime": {
     "end_time": "2023-04-22T12:55:09.046967Z",
     "start_time": "2023-04-22T12:55:09.024026Z"
    }
   },
   "outputs": [
    {
     "ename": "NameError",
     "evalue": "name 'customer_repay_group' is not defined",
     "output_type": "error",
     "traceback": [
      "\u001b[1;31m---------------------------------------------------------------------------\u001b[0m",
      "\u001b[1;31mNameError\u001b[0m                                 Traceback (most recent call last)",
      "\u001b[1;32m~\\AppData\\Local\\Temp\\ipykernel_8968\\3011452248.py\u001b[0m in \u001b[0;36m<module>\u001b[1;34m\u001b[0m\n\u001b[1;32m----> 1\u001b[1;33m \u001b[0mcustomer_repay_group\u001b[0m\u001b[1;33m\u001b[0m\u001b[1;33m\u001b[0m\u001b[0m\n\u001b[0m",
      "\u001b[1;31mNameError\u001b[0m: name 'customer_repay_group' is not defined"
     ]
    }
   ],
   "source": [
    "customer_repay_group"
   ]
  },
  {
   "cell_type": "code",
   "execution_count": 113,
   "id": "ab96f701",
   "metadata": {
    "ExecuteTime": {
     "end_time": "2023-04-22T13:18:24.899361Z",
     "start_time": "2023-04-22T13:18:24.880415Z"
    }
   },
   "outputs": [],
   "source": [
    "#(e) If the monthly rate of interest is 2.9%, what is the profit for the bank for each month?"
   ]
  },
  {
   "cell_type": "code",
   "execution_count": 114,
   "id": "757ebe0d",
   "metadata": {
    "ExecuteTime": {
     "end_time": "2023-04-22T13:18:37.219407Z",
     "start_time": "2023-04-22T13:18:36.011498Z"
    }
   },
   "outputs": [],
   "source": [
    "#merging all the three tables. Alreaady merged customer and spend table in 'customer_spend'. Using \"customer_spend\" and \"repay\"\n",
    "#table to form the final \"customer_spend_repay\" table\n",
    "customer_spend_repay = pd.merge(left=customer_spend,right=repay,on=\"Customer\",how=\"inner\")"
   ]
  },
  {
   "cell_type": "code",
   "execution_count": 115,
   "id": "872e39f7",
   "metadata": {
    "ExecuteTime": {
     "end_time": "2023-04-22T13:18:53.977867Z",
     "start_time": "2023-04-22T13:18:53.879127Z"
    }
   },
   "outputs": [
    {
     "data": {
      "text/html": [
       "<div>\n",
       "<style scoped>\n",
       "    .dataframe tbody tr th:only-of-type {\n",
       "        vertical-align: middle;\n",
       "    }\n",
       "\n",
       "    .dataframe tbody tr th {\n",
       "        vertical-align: top;\n",
       "    }\n",
       "\n",
       "    .dataframe thead th {\n",
       "        text-align: right;\n",
       "    }\n",
       "</style>\n",
       "<table border=\"1\" class=\"dataframe\">\n",
       "  <thead>\n",
       "    <tr style=\"text-align: right;\">\n",
       "      <th></th>\n",
       "      <th>No</th>\n",
       "      <th>Customer</th>\n",
       "      <th>Age</th>\n",
       "      <th>City</th>\n",
       "      <th>Product</th>\n",
       "      <th>Limit</th>\n",
       "      <th>Company</th>\n",
       "      <th>Segment</th>\n",
       "      <th>Sl No:</th>\n",
       "      <th>Month_x</th>\n",
       "      <th>Type</th>\n",
       "      <th>Amount_x</th>\n",
       "      <th>SL No:</th>\n",
       "      <th>Month_y</th>\n",
       "      <th>Amount_y</th>\n",
       "      <th>Unnamed: 4</th>\n",
       "    </tr>\n",
       "  </thead>\n",
       "  <tbody>\n",
       "    <tr>\n",
       "      <th>0</th>\n",
       "      <td>1</td>\n",
       "      <td>A1</td>\n",
       "      <td>76.0</td>\n",
       "      <td>BANGALORE</td>\n",
       "      <td>Gold</td>\n",
       "      <td>500000.0</td>\n",
       "      <td>C1</td>\n",
       "      <td>Self Employed</td>\n",
       "      <td>1</td>\n",
       "      <td>12-Jan-04</td>\n",
       "      <td>JEWELLERY</td>\n",
       "      <td>485470.8</td>\n",
       "      <td>NaN</td>\n",
       "      <td>2004-01-12</td>\n",
       "      <td>495414.75</td>\n",
       "      <td>NaN</td>\n",
       "    </tr>\n",
       "    <tr>\n",
       "      <th>1</th>\n",
       "      <td>1</td>\n",
       "      <td>A1</td>\n",
       "      <td>76.0</td>\n",
       "      <td>BANGALORE</td>\n",
       "      <td>Gold</td>\n",
       "      <td>500000.0</td>\n",
       "      <td>C1</td>\n",
       "      <td>Self Employed</td>\n",
       "      <td>1</td>\n",
       "      <td>12-Jan-04</td>\n",
       "      <td>JEWELLERY</td>\n",
       "      <td>485470.8</td>\n",
       "      <td>2.0</td>\n",
       "      <td>2004-01-03</td>\n",
       "      <td>245899.02</td>\n",
       "      <td>NaN</td>\n",
       "    </tr>\n",
       "  </tbody>\n",
       "</table>\n",
       "</div>"
      ],
      "text/plain": [
       "   No Customer   Age       City Product     Limit Company        Segment  \\\n",
       "0   1       A1  76.0  BANGALORE    Gold  500000.0      C1  Self Employed   \n",
       "1   1       A1  76.0  BANGALORE    Gold  500000.0      C1  Self Employed   \n",
       "\n",
       "   Sl No:    Month_x       Type  Amount_x  SL No:    Month_y   Amount_y  \\\n",
       "0       1  12-Jan-04  JEWELLERY  485470.8     NaN 2004-01-12  495414.75   \n",
       "1       1  12-Jan-04  JEWELLERY  485470.8     2.0 2004-01-03  245899.02   \n",
       "\n",
       "   Unnamed: 4  \n",
       "0         NaN  \n",
       "1         NaN  "
      ]
     },
     "execution_count": 115,
     "metadata": {},
     "output_type": "execute_result"
    }
   ],
   "source": [
    "customer_spend_repay.head(2)"
   ]
  },
  {
   "cell_type": "code",
   "execution_count": 116,
   "id": "575e16ed",
   "metadata": {
    "ExecuteTime": {
     "end_time": "2023-04-22T13:19:07.654515Z",
     "start_time": "2023-04-22T13:19:07.486138Z"
    }
   },
   "outputs": [],
   "source": [
    "# renaming the columns for clearity\n",
    "customer_spend_repay.rename(columns={\"Amount_x\":\"Spend_Amount\",\"Amount_y\":\"Repay_Amount\"},inplace=True)"
   ]
  },
  {
   "cell_type": "code",
   "execution_count": 117,
   "id": "0d4fdb52",
   "metadata": {
    "ExecuteTime": {
     "end_time": "2023-04-22T13:19:20.937301Z",
     "start_time": "2023-04-22T13:19:20.746375Z"
    }
   },
   "outputs": [
    {
     "ename": "KeyError",
     "evalue": "'Yearly'",
     "output_type": "error",
     "traceback": [
      "\u001b[1;31m---------------------------------------------------------------------------\u001b[0m",
      "\u001b[1;31mKeyError\u001b[0m                                  Traceback (most recent call last)",
      "\u001b[1;32m~\\AppData\\Local\\Temp\\ipykernel_8968\\2338189049.py\u001b[0m in \u001b[0;36m<module>\u001b[1;34m\u001b[0m\n\u001b[0;32m      1\u001b[0m \u001b[1;31m# grouping the data based on \"Yearly\",\"Month_x\" columns to get the 'Spend_Amount'and 'Repay_Amount'\u001b[0m\u001b[1;33m\u001b[0m\u001b[1;33m\u001b[0m\u001b[0m\n\u001b[1;32m----> 2\u001b[1;33m \u001b[0minterest_group\u001b[0m \u001b[1;33m=\u001b[0m \u001b[0mcustomer_spend_repay\u001b[0m\u001b[1;33m.\u001b[0m\u001b[0mgroupby\u001b[0m\u001b[1;33m(\u001b[0m\u001b[1;33m[\u001b[0m\u001b[1;34m\"Yearly\"\u001b[0m\u001b[1;33m,\u001b[0m\u001b[1;34m\"Monthly\"\u001b[0m\u001b[1;33m]\u001b[0m\u001b[1;33m)\u001b[0m\u001b[1;33m[\u001b[0m\u001b[1;34m'Spend_Amount'\u001b[0m\u001b[1;33m,\u001b[0m\u001b[1;34m'Repay_Amount'\u001b[0m\u001b[1;33m]\u001b[0m\u001b[1;33m.\u001b[0m\u001b[0msum\u001b[0m\u001b[1;33m(\u001b[0m\u001b[1;33m)\u001b[0m\u001b[1;33m\u001b[0m\u001b[1;33m\u001b[0m\u001b[0m\n\u001b[0m",
      "\u001b[1;32m~\\anaconda3\\lib\\site-packages\\pandas\\core\\frame.py\u001b[0m in \u001b[0;36mgroupby\u001b[1;34m(self, by, axis, level, as_index, sort, group_keys, squeeze, observed, dropna)\u001b[0m\n\u001b[0;32m   7719\u001b[0m         \u001b[1;31m# error: Argument \"squeeze\" to \"DataFrameGroupBy\" has incompatible type\u001b[0m\u001b[1;33m\u001b[0m\u001b[1;33m\u001b[0m\u001b[0m\n\u001b[0;32m   7720\u001b[0m         \u001b[1;31m# \"Union[bool, NoDefault]\"; expected \"bool\"\u001b[0m\u001b[1;33m\u001b[0m\u001b[1;33m\u001b[0m\u001b[0m\n\u001b[1;32m-> 7721\u001b[1;33m         return DataFrameGroupBy(\n\u001b[0m\u001b[0;32m   7722\u001b[0m             \u001b[0mobj\u001b[0m\u001b[1;33m=\u001b[0m\u001b[0mself\u001b[0m\u001b[1;33m,\u001b[0m\u001b[1;33m\u001b[0m\u001b[1;33m\u001b[0m\u001b[0m\n\u001b[0;32m   7723\u001b[0m             \u001b[0mkeys\u001b[0m\u001b[1;33m=\u001b[0m\u001b[0mby\u001b[0m\u001b[1;33m,\u001b[0m\u001b[1;33m\u001b[0m\u001b[1;33m\u001b[0m\u001b[0m\n",
      "\u001b[1;32m~\\anaconda3\\lib\\site-packages\\pandas\\core\\groupby\\groupby.py\u001b[0m in \u001b[0;36m__init__\u001b[1;34m(self, obj, keys, axis, level, grouper, exclusions, selection, as_index, sort, group_keys, squeeze, observed, mutated, dropna)\u001b[0m\n\u001b[0;32m    880\u001b[0m             \u001b[1;32mfrom\u001b[0m \u001b[0mpandas\u001b[0m\u001b[1;33m.\u001b[0m\u001b[0mcore\u001b[0m\u001b[1;33m.\u001b[0m\u001b[0mgroupby\u001b[0m\u001b[1;33m.\u001b[0m\u001b[0mgrouper\u001b[0m \u001b[1;32mimport\u001b[0m \u001b[0mget_grouper\u001b[0m\u001b[1;33m\u001b[0m\u001b[1;33m\u001b[0m\u001b[0m\n\u001b[0;32m    881\u001b[0m \u001b[1;33m\u001b[0m\u001b[0m\n\u001b[1;32m--> 882\u001b[1;33m             grouper, exclusions, obj = get_grouper(\n\u001b[0m\u001b[0;32m    883\u001b[0m                 \u001b[0mobj\u001b[0m\u001b[1;33m,\u001b[0m\u001b[1;33m\u001b[0m\u001b[1;33m\u001b[0m\u001b[0m\n\u001b[0;32m    884\u001b[0m                 \u001b[0mkeys\u001b[0m\u001b[1;33m,\u001b[0m\u001b[1;33m\u001b[0m\u001b[1;33m\u001b[0m\u001b[0m\n",
      "\u001b[1;32m~\\anaconda3\\lib\\site-packages\\pandas\\core\\groupby\\grouper.py\u001b[0m in \u001b[0;36mget_grouper\u001b[1;34m(obj, key, axis, level, sort, observed, mutated, validate, dropna)\u001b[0m\n\u001b[0;32m    880\u001b[0m                 \u001b[0min_axis\u001b[0m\u001b[1;33m,\u001b[0m \u001b[0mlevel\u001b[0m\u001b[1;33m,\u001b[0m \u001b[0mgpr\u001b[0m \u001b[1;33m=\u001b[0m \u001b[1;32mFalse\u001b[0m\u001b[1;33m,\u001b[0m \u001b[0mgpr\u001b[0m\u001b[1;33m,\u001b[0m \u001b[1;32mNone\u001b[0m\u001b[1;33m\u001b[0m\u001b[1;33m\u001b[0m\u001b[0m\n\u001b[0;32m    881\u001b[0m             \u001b[1;32melse\u001b[0m\u001b[1;33m:\u001b[0m\u001b[1;33m\u001b[0m\u001b[1;33m\u001b[0m\u001b[0m\n\u001b[1;32m--> 882\u001b[1;33m                 \u001b[1;32mraise\u001b[0m \u001b[0mKeyError\u001b[0m\u001b[1;33m(\u001b[0m\u001b[0mgpr\u001b[0m\u001b[1;33m)\u001b[0m\u001b[1;33m\u001b[0m\u001b[1;33m\u001b[0m\u001b[0m\n\u001b[0m\u001b[0;32m    883\u001b[0m         \u001b[1;32melif\u001b[0m \u001b[0misinstance\u001b[0m\u001b[1;33m(\u001b[0m\u001b[0mgpr\u001b[0m\u001b[1;33m,\u001b[0m \u001b[0mGrouper\u001b[0m\u001b[1;33m)\u001b[0m \u001b[1;32mand\u001b[0m \u001b[0mgpr\u001b[0m\u001b[1;33m.\u001b[0m\u001b[0mkey\u001b[0m \u001b[1;32mis\u001b[0m \u001b[1;32mnot\u001b[0m \u001b[1;32mNone\u001b[0m\u001b[1;33m:\u001b[0m\u001b[1;33m\u001b[0m\u001b[1;33m\u001b[0m\u001b[0m\n\u001b[0;32m    884\u001b[0m             \u001b[1;31m# Add key to exclusions\u001b[0m\u001b[1;33m\u001b[0m\u001b[1;33m\u001b[0m\u001b[0m\n",
      "\u001b[1;31mKeyError\u001b[0m: 'Yearly'"
     ]
    }
   ],
   "source": [
    "# grouping the data based on \"Yearly\",\"Month_x\" columns to get the 'Spend_Amount'and 'Repay_Amount'\n",
    "interest_group = customer_spend_repay.groupby([\"Yearly\",\"Monthly\"])['Spend_Amount','Repay_Amount'].sum()"
   ]
  },
  {
   "cell_type": "code",
   "execution_count": 151,
   "id": "fef39ae6",
   "metadata": {
    "ExecuteTime": {
     "end_time": "2023-04-22T14:41:07.058585Z",
     "start_time": "2023-04-22T14:41:07.030659Z"
    }
   },
   "outputs": [
    {
     "ename": "NameError",
     "evalue": "name 'interest_group' is not defined",
     "output_type": "error",
     "traceback": [
      "\u001b[1;31m---------------------------------------------------------------------------\u001b[0m",
      "\u001b[1;31mNameError\u001b[0m                                 Traceback (most recent call last)",
      "\u001b[1;32m~\\AppData\\Local\\Temp\\ipykernel_8968\\3788546465.py\u001b[0m in \u001b[0;36m<module>\u001b[1;34m\u001b[0m\n\u001b[1;32m----> 1\u001b[1;33m \u001b[0minterest_group\u001b[0m\u001b[1;33m\u001b[0m\u001b[1;33m\u001b[0m\u001b[0m\n\u001b[0m",
      "\u001b[1;31mNameError\u001b[0m: name 'interest_group' is not defined"
     ]
    }
   ],
   "source": [
    "interest_group"
   ]
  },
  {
   "cell_type": "code",
   "execution_count": 152,
   "id": "b9fa3480",
   "metadata": {
    "ExecuteTime": {
     "end_time": "2023-04-22T14:41:26.697151Z",
     "start_time": "2023-04-22T14:41:26.422104Z"
    }
   },
   "outputs": [
    {
     "ename": "NameError",
     "evalue": "name 'interest_group' is not defined",
     "output_type": "error",
     "traceback": [
      "\u001b[1;31m---------------------------------------------------------------------------\u001b[0m",
      "\u001b[1;31mNameError\u001b[0m                                 Traceback (most recent call last)",
      "\u001b[1;32m~\\AppData\\Local\\Temp\\ipykernel_8968\\1220076680.py\u001b[0m in \u001b[0;36m<module>\u001b[1;34m\u001b[0m\n\u001b[0;32m      1\u001b[0m \u001b[1;31m# Monthly Profit = Monthly repayment – Monthly spend.\u001b[0m\u001b[1;33m\u001b[0m\u001b[1;33m\u001b[0m\u001b[0m\n\u001b[1;32m----> 2\u001b[1;33m \u001b[0minterest_group\u001b[0m\u001b[1;33m[\u001b[0m\u001b[1;34m'Monthly Profit'\u001b[0m\u001b[1;33m]\u001b[0m \u001b[1;33m=\u001b[0m \u001b[0minterest_group\u001b[0m\u001b[1;33m[\u001b[0m\u001b[1;34m'Repay_Amount'\u001b[0m\u001b[1;33m]\u001b[0m \u001b[1;33m-\u001b[0m \u001b[0minterest_group\u001b[0m\u001b[1;33m[\u001b[0m\u001b[1;34m'Spend_Amount'\u001b[0m\u001b[1;33m]\u001b[0m\u001b[1;33m\u001b[0m\u001b[1;33m\u001b[0m\u001b[0m\n\u001b[0m",
      "\u001b[1;31mNameError\u001b[0m: name 'interest_group' is not defined"
     ]
    }
   ],
   "source": [
    "# Monthly Profit = Monthly repayment – Monthly spend.\n",
    "interest_group['Monthly Profit'] = interest_group['Repay_Amount'] - interest_group['Spend_Amount']"
   ]
  },
  {
   "cell_type": "code",
   "execution_count": 153,
   "id": "9f26bdb3",
   "metadata": {
    "ExecuteTime": {
     "end_time": "2023-04-22T14:41:37.897184Z",
     "start_time": "2023-04-22T14:41:37.876235Z"
    }
   },
   "outputs": [
    {
     "ename": "NameError",
     "evalue": "name 'interest_group' is not defined",
     "output_type": "error",
     "traceback": [
      "\u001b[1;31m---------------------------------------------------------------------------\u001b[0m",
      "\u001b[1;31mNameError\u001b[0m                                 Traceback (most recent call last)",
      "\u001b[1;32m~\\AppData\\Local\\Temp\\ipykernel_8968\\3788546465.py\u001b[0m in \u001b[0;36m<module>\u001b[1;34m\u001b[0m\n\u001b[1;32m----> 1\u001b[1;33m \u001b[0minterest_group\u001b[0m\u001b[1;33m\u001b[0m\u001b[1;33m\u001b[0m\u001b[0m\n\u001b[0m",
      "\u001b[1;31mNameError\u001b[0m: name 'interest_group' is not defined"
     ]
    }
   ],
   "source": [
    "interest_group"
   ]
  },
  {
   "cell_type": "code",
   "execution_count": 154,
   "id": "f461a7eb",
   "metadata": {
    "ExecuteTime": {
     "end_time": "2023-04-22T14:41:50.009304Z",
     "start_time": "2023-04-22T14:41:49.895954Z"
    }
   },
   "outputs": [
    {
     "ename": "NameError",
     "evalue": "name 'interest_group' is not defined",
     "output_type": "error",
     "traceback": [
      "\u001b[1;31m---------------------------------------------------------------------------\u001b[0m",
      "\u001b[1;31mNameError\u001b[0m                                 Traceback (most recent call last)",
      "\u001b[1;32m~\\AppData\\Local\\Temp\\ipykernel_8968\\1149842284.py\u001b[0m in \u001b[0;36m<module>\u001b[1;34m\u001b[0m\n\u001b[0;32m      1\u001b[0m \u001b[1;31m#interest earned is 2.9% of Monthly Profit\u001b[0m\u001b[1;33m\u001b[0m\u001b[1;33m\u001b[0m\u001b[0m\n\u001b[1;32m----> 2\u001b[1;33m \u001b[0minterest_group\u001b[0m\u001b[1;33m[\u001b[0m\u001b[1;34m'Interest Earned'\u001b[0m\u001b[1;33m]\u001b[0m \u001b[1;33m=\u001b[0m \u001b[1;33m(\u001b[0m\u001b[1;36m2.9\u001b[0m\u001b[1;33m*\u001b[0m \u001b[0minterest_group\u001b[0m\u001b[1;33m[\u001b[0m\u001b[1;34m'Monthly Profit'\u001b[0m\u001b[1;33m]\u001b[0m\u001b[1;33m)\u001b[0m\u001b[1;33m/\u001b[0m\u001b[1;36m100\u001b[0m\u001b[1;33m\u001b[0m\u001b[1;33m\u001b[0m\u001b[0m\n\u001b[0m",
      "\u001b[1;31mNameError\u001b[0m: name 'interest_group' is not defined"
     ]
    }
   ],
   "source": [
    "#interest earned is 2.9% of Monthly Profit\n",
    "interest_group['Interest Earned'] = (2.9* interest_group['Monthly Profit'])/100"
   ]
  },
  {
   "cell_type": "code",
   "execution_count": 155,
   "id": "ff014aeb",
   "metadata": {
    "ExecuteTime": {
     "end_time": "2023-04-22T14:41:57.410047Z",
     "start_time": "2023-04-22T14:41:57.378094Z"
    }
   },
   "outputs": [
    {
     "ename": "NameError",
     "evalue": "name 'interest_group' is not defined",
     "output_type": "error",
     "traceback": [
      "\u001b[1;31m---------------------------------------------------------------------------\u001b[0m",
      "\u001b[1;31mNameError\u001b[0m                                 Traceback (most recent call last)",
      "\u001b[1;32m~\\AppData\\Local\\Temp\\ipykernel_8968\\3788546465.py\u001b[0m in \u001b[0;36m<module>\u001b[1;34m\u001b[0m\n\u001b[1;32m----> 1\u001b[1;33m \u001b[0minterest_group\u001b[0m\u001b[1;33m\u001b[0m\u001b[1;33m\u001b[0m\u001b[0m\n\u001b[0m",
      "\u001b[1;31mNameError\u001b[0m: name 'interest_group' is not defined"
     ]
    }
   ],
   "source": [
    "interest_group"
   ]
  },
  {
   "cell_type": "code",
   "execution_count": 156,
   "id": "ccbc4443",
   "metadata": {
    "ExecuteTime": {
     "end_time": "2023-04-22T14:42:41.503996Z",
     "start_time": "2023-04-22T14:42:41.498009Z"
    }
   },
   "outputs": [],
   "source": [
    "#(f) What are the top 5 product types?"
   ]
  },
  {
   "cell_type": "code",
   "execution_count": 157,
   "id": "5f62cd08",
   "metadata": {
    "ExecuteTime": {
     "end_time": "2023-04-22T14:42:50.471574Z",
     "start_time": "2023-04-22T14:42:49.904551Z"
    }
   },
   "outputs": [
    {
     "data": {
      "text/html": [
       "<div>\n",
       "<style scoped>\n",
       "    .dataframe tbody tr th:only-of-type {\n",
       "        vertical-align: middle;\n",
       "    }\n",
       "\n",
       "    .dataframe tbody tr th {\n",
       "        vertical-align: top;\n",
       "    }\n",
       "\n",
       "    .dataframe thead th {\n",
       "        text-align: right;\n",
       "    }\n",
       "</style>\n",
       "<table border=\"1\" class=\"dataframe\">\n",
       "  <thead>\n",
       "    <tr style=\"text-align: right;\">\n",
       "      <th></th>\n",
       "      <th>Sl No:</th>\n",
       "      <th>Customer</th>\n",
       "      <th>Month</th>\n",
       "      <th>Type</th>\n",
       "      <th>Amount</th>\n",
       "      <th>Monthly</th>\n",
       "      <th>Yearly</th>\n",
       "    </tr>\n",
       "  </thead>\n",
       "  <tbody>\n",
       "    <tr>\n",
       "      <th>0</th>\n",
       "      <td>1</td>\n",
       "      <td>A1</td>\n",
       "      <td>2004-01-12</td>\n",
       "      <td>JEWELLERY</td>\n",
       "      <td>485470.80</td>\n",
       "      <td>January</td>\n",
       "      <td>2004</td>\n",
       "    </tr>\n",
       "    <tr>\n",
       "      <th>1</th>\n",
       "      <td>2</td>\n",
       "      <td>A1</td>\n",
       "      <td>2004-01-03</td>\n",
       "      <td>PETRO</td>\n",
       "      <td>410556.13</td>\n",
       "      <td>January</td>\n",
       "      <td>2004</td>\n",
       "    </tr>\n",
       "    <tr>\n",
       "      <th>2</th>\n",
       "      <td>3</td>\n",
       "      <td>A1</td>\n",
       "      <td>2004-01-15</td>\n",
       "      <td>CLOTHES</td>\n",
       "      <td>23740.46</td>\n",
       "      <td>January</td>\n",
       "      <td>2004</td>\n",
       "    </tr>\n",
       "    <tr>\n",
       "      <th>3</th>\n",
       "      <td>4</td>\n",
       "      <td>A1</td>\n",
       "      <td>2004-01-25</td>\n",
       "      <td>FOOD</td>\n",
       "      <td>484342.47</td>\n",
       "      <td>January</td>\n",
       "      <td>2004</td>\n",
       "    </tr>\n",
       "    <tr>\n",
       "      <th>4</th>\n",
       "      <td>5</td>\n",
       "      <td>A1</td>\n",
       "      <td>2005-01-17</td>\n",
       "      <td>CAMERA</td>\n",
       "      <td>369694.07</td>\n",
       "      <td>January</td>\n",
       "      <td>2005</td>\n",
       "    </tr>\n",
       "  </tbody>\n",
       "</table>\n",
       "</div>"
      ],
      "text/plain": [
       "   Sl No: Customer      Month       Type     Amount  Monthly Yearly\n",
       "0       1       A1 2004-01-12  JEWELLERY  485470.80  January   2004\n",
       "1       2       A1 2004-01-03      PETRO  410556.13  January   2004\n",
       "2       3       A1 2004-01-15    CLOTHES   23740.46  January   2004\n",
       "3       4       A1 2004-01-25       FOOD  484342.47  January   2004\n",
       "4       5       A1 2005-01-17     CAMERA  369694.07  January   2005"
      ]
     },
     "execution_count": 157,
     "metadata": {},
     "output_type": "execute_result"
    }
   ],
   "source": [
    "spend.head()"
   ]
  },
  {
   "cell_type": "code",
   "execution_count": 158,
   "id": "3c17b812",
   "metadata": {
    "ExecuteTime": {
     "end_time": "2023-04-22T14:43:01.963437Z",
     "start_time": "2023-04-22T14:43:01.419825Z"
    }
   },
   "outputs": [
    {
     "data": {
      "text/plain": [
       "PETRO           200\n",
       "FOOD            160\n",
       "CAMERA          160\n",
       "AIR TICKET      147\n",
       "TRAIN TICKET    132\n",
       "Name: Type, dtype: int64"
      ]
     },
     "execution_count": 158,
     "metadata": {},
     "output_type": "execute_result"
    }
   ],
   "source": [
    "#top 5 product types on which customer is spending\n",
    "spend['Type'].value_counts().head()"
   ]
  },
  {
   "cell_type": "code",
   "execution_count": 159,
   "id": "34c7fdf8",
   "metadata": {
    "ExecuteTime": {
     "end_time": "2023-04-22T14:43:35.829456Z",
     "start_time": "2023-04-22T14:43:15.753003Z"
    }
   },
   "outputs": [
    {
     "data": {
      "image/png": "[encoded data removed]",
      "text/plain": [
       "<Figure size 640x480 with 1 Axes>"
      ]
     },
     "metadata": {},
     "output_type": "display_data"
    }
   ],
   "source": [
    "spend['Type'].value_counts().head(5).plot(kind='bar')\n",
    "plt.show()"
   ]
  },
  {
   "cell_type": "code",
   "execution_count": 160,
   "id": "c4334d9b",
   "metadata": {
    "ExecuteTime": {
     "end_time": "2023-04-22T14:43:44.259211Z",
     "start_time": "2023-04-22T14:43:44.247240Z"
    }
   },
   "outputs": [],
   "source": [
    "#(g) Which city is having maximum spend"
   ]
  },
  {
   "cell_type": "code",
   "execution_count": 161,
   "id": "0adb2f0a",
   "metadata": {
    "ExecuteTime": {
     "end_time": "2023-04-22T14:43:51.197267Z",
     "start_time": "2023-04-22T14:43:50.666885Z"
    }
   },
   "outputs": [],
   "source": [
    "city_spend = customer_spend.groupby(\"City\")[\"Amount\"].sum().sort_values(ascending=False)"
   ]
  },
  {
   "cell_type": "code",
   "execution_count": 162,
   "id": "7ff2aa88",
   "metadata": {
    "ExecuteTime": {
     "end_time": "2023-04-22T14:43:59.480806Z",
     "start_time": "2023-04-22T14:43:59.463849Z"
    }
   },
   "outputs": [
    {
     "data": {
      "text/plain": [
       "City\n",
       "COCHIN        45963513.50\n",
       "CALCUTTA      41108132.30\n",
       "BANGALORE     40461647.02\n",
       "BOMBAY        28603127.38\n",
       "CHENNAI       22128635.65\n",
       "TRIVANDRUM    15337155.87\n",
       "PATNA         15260586.97\n",
       "DELHI         10918286.54\n",
       "Name: Amount, dtype: float64"
      ]
     },
     "execution_count": 162,
     "metadata": {},
     "output_type": "execute_result"
    }
   ],
   "source": [
    "city_spend"
   ]
  },
  {
   "cell_type": "code",
   "execution_count": 163,
   "id": "66dd024c",
   "metadata": {
    "ExecuteTime": {
     "end_time": "2023-04-22T14:44:08.875059Z",
     "start_time": "2023-04-22T14:44:07.801086Z"
    }
   },
   "outputs": [
    {
     "data": {
      "image/png": "[encoded data removed]",
      "text/plain": [
       "<Figure size 500x1000 with 1 Axes>"
      ]
     },
     "metadata": {},
     "output_type": "display_data"
    }
   ],
   "source": [
    "plt.figure(figsize=(5,10))\n",
    "city_spend.plot(kind=\"pie\",autopct=\"%1.0f%%\",shadow=True,labeldistance=1.0,explode=[0.1,0.0,0.0,0.0,0.0,0.0,0.0,0.0])\n",
    "plt.title(\"Amount spent on credit card by customers from different cities\")\n",
    "plt.show()"
   ]
  },
  {
   "cell_type": "code",
   "execution_count": 164,
   "id": "109f5352",
   "metadata": {
    "ExecuteTime": {
     "end_time": "2023-04-22T14:44:31.077384Z",
     "start_time": "2023-04-22T14:44:31.062424Z"
    }
   },
   "outputs": [
    {
     "name": "stdout",
     "output_type": "stream",
     "text": [
      "From above pie chart we can see that Cochin is having maximum spend.\n"
     ]
    }
   ],
   "source": [
    "print(\"From above pie chart we can see that Cochin is having maximum spend.\")"
   ]
  },
  {
   "cell_type": "code",
   "execution_count": 165,
   "id": "69ae4c6f",
   "metadata": {
    "ExecuteTime": {
     "end_time": "2023-04-22T14:44:42.652441Z",
     "start_time": "2023-04-22T14:44:42.610600Z"
    }
   },
   "outputs": [],
   "source": [
    "#(h) Which age group is spending more money?"
   ]
  },
  {
   "cell_type": "code",
   "execution_count": 166,
   "id": "792d523d",
   "metadata": {
    "ExecuteTime": {
     "end_time": "2023-04-22T14:44:50.827595Z",
     "start_time": "2023-04-22T14:44:50.322245Z"
    }
   },
   "outputs": [],
   "source": [
    "#creating new column \"Age Group\" with 8 bins between 18 to 88 \n",
    "customer_spend[\"Age Group\"] =  pd.cut(customer_spend[\"Age\"],bins=np.arange(18,88,8),labels=[\"18-26\",\"26-34\", \"34-42\" ,\"42-50\" ,\"50-58\",\"58-66\",\"66-74\",\"74-82\"],include_lowest=True)"
   ]
  },
  {
   "cell_type": "code",
   "execution_count": 167,
   "id": "a3666173",
   "metadata": {
    "ExecuteTime": {
     "end_time": "2023-04-22T14:44:57.608367Z",
     "start_time": "2023-04-22T14:44:57.402498Z"
    }
   },
   "outputs": [
    {
     "data": {
      "text/html": [
       "<div>\n",
       "<style scoped>\n",
       "    .dataframe tbody tr th:only-of-type {\n",
       "        vertical-align: middle;\n",
       "    }\n",
       "\n",
       "    .dataframe tbody tr th {\n",
       "        vertical-align: top;\n",
       "    }\n",
       "\n",
       "    .dataframe thead th {\n",
       "        text-align: right;\n",
       "    }\n",
       "</style>\n",
       "<table border=\"1\" class=\"dataframe\">\n",
       "  <thead>\n",
       "    <tr style=\"text-align: right;\">\n",
       "      <th></th>\n",
       "      <th>No</th>\n",
       "      <th>Customer</th>\n",
       "      <th>Age</th>\n",
       "      <th>City</th>\n",
       "      <th>Product</th>\n",
       "      <th>Limit</th>\n",
       "      <th>Company</th>\n",
       "      <th>Segment</th>\n",
       "      <th>Sl No:</th>\n",
       "      <th>Month</th>\n",
       "      <th>Type</th>\n",
       "      <th>Amount</th>\n",
       "      <th>Age Group</th>\n",
       "    </tr>\n",
       "  </thead>\n",
       "  <tbody>\n",
       "    <tr>\n",
       "      <th>0</th>\n",
       "      <td>1</td>\n",
       "      <td>A1</td>\n",
       "      <td>76.0</td>\n",
       "      <td>BANGALORE</td>\n",
       "      <td>Gold</td>\n",
       "      <td>500000.0</td>\n",
       "      <td>C1</td>\n",
       "      <td>Self Employed</td>\n",
       "      <td>1</td>\n",
       "      <td>12-Jan-04</td>\n",
       "      <td>JEWELLERY</td>\n",
       "      <td>485470.80</td>\n",
       "      <td>74-82</td>\n",
       "    </tr>\n",
       "    <tr>\n",
       "      <th>1</th>\n",
       "      <td>1</td>\n",
       "      <td>A1</td>\n",
       "      <td>76.0</td>\n",
       "      <td>BANGALORE</td>\n",
       "      <td>Gold</td>\n",
       "      <td>500000.0</td>\n",
       "      <td>C1</td>\n",
       "      <td>Self Employed</td>\n",
       "      <td>2</td>\n",
       "      <td>3-Jan-04</td>\n",
       "      <td>PETRO</td>\n",
       "      <td>410556.13</td>\n",
       "      <td>74-82</td>\n",
       "    </tr>\n",
       "    <tr>\n",
       "      <th>2</th>\n",
       "      <td>1</td>\n",
       "      <td>A1</td>\n",
       "      <td>76.0</td>\n",
       "      <td>BANGALORE</td>\n",
       "      <td>Gold</td>\n",
       "      <td>500000.0</td>\n",
       "      <td>C1</td>\n",
       "      <td>Self Employed</td>\n",
       "      <td>3</td>\n",
       "      <td>15-Jan-04</td>\n",
       "      <td>CLOTHES</td>\n",
       "      <td>23740.46</td>\n",
       "      <td>74-82</td>\n",
       "    </tr>\n",
       "    <tr>\n",
       "      <th>3</th>\n",
       "      <td>1</td>\n",
       "      <td>A1</td>\n",
       "      <td>76.0</td>\n",
       "      <td>BANGALORE</td>\n",
       "      <td>Gold</td>\n",
       "      <td>500000.0</td>\n",
       "      <td>C1</td>\n",
       "      <td>Self Employed</td>\n",
       "      <td>4</td>\n",
       "      <td>25-Jan-04</td>\n",
       "      <td>FOOD</td>\n",
       "      <td>484342.47</td>\n",
       "      <td>74-82</td>\n",
       "    </tr>\n",
       "    <tr>\n",
       "      <th>4</th>\n",
       "      <td>1</td>\n",
       "      <td>A1</td>\n",
       "      <td>76.0</td>\n",
       "      <td>BANGALORE</td>\n",
       "      <td>Gold</td>\n",
       "      <td>500000.0</td>\n",
       "      <td>C1</td>\n",
       "      <td>Self Employed</td>\n",
       "      <td>5</td>\n",
       "      <td>17-Jan-05</td>\n",
       "      <td>CAMERA</td>\n",
       "      <td>369694.07</td>\n",
       "      <td>74-82</td>\n",
       "    </tr>\n",
       "  </tbody>\n",
       "</table>\n",
       "</div>"
      ],
      "text/plain": [
       "   No Customer   Age       City Product     Limit Company        Segment  \\\n",
       "0   1       A1  76.0  BANGALORE    Gold  500000.0      C1  Self Employed   \n",
       "1   1       A1  76.0  BANGALORE    Gold  500000.0      C1  Self Employed   \n",
       "2   1       A1  76.0  BANGALORE    Gold  500000.0      C1  Self Employed   \n",
       "3   1       A1  76.0  BANGALORE    Gold  500000.0      C1  Self Employed   \n",
       "4   1       A1  76.0  BANGALORE    Gold  500000.0      C1  Self Employed   \n",
       "\n",
       "   Sl No:      Month       Type     Amount Age Group  \n",
       "0       1  12-Jan-04  JEWELLERY  485470.80     74-82  \n",
       "1       2   3-Jan-04      PETRO  410556.13     74-82  \n",
       "2       3  15-Jan-04    CLOTHES   23740.46     74-82  \n",
       "3       4  25-Jan-04       FOOD  484342.47     74-82  \n",
       "4       5  17-Jan-05     CAMERA  369694.07     74-82  "
      ]
     },
     "execution_count": 167,
     "metadata": {},
     "output_type": "execute_result"
    }
   ],
   "source": [
    "customer_spend.head()"
   ]
  },
  {
   "cell_type": "code",
   "execution_count": 168,
   "id": "627cb0c1",
   "metadata": {
    "ExecuteTime": {
     "end_time": "2023-04-22T14:45:07.764917Z",
     "start_time": "2023-04-22T14:45:07.628727Z"
    }
   },
   "outputs": [],
   "source": [
    "#grouping data based on \"Age Group\" and finding the amount spend by each age group and arranging in descending oreder\n",
    "age_spend = customer_spend.groupby(\"Age Group\")['Amount'].sum().sort_values(ascending=False)"
   ]
  },
  {
   "cell_type": "code",
   "execution_count": 169,
   "id": "a53aa72a",
   "metadata": {
    "ExecuteTime": {
     "end_time": "2023-04-22T14:45:15.820570Z",
     "start_time": "2023-04-22T14:45:15.796803Z"
    }
   },
   "outputs": [
    {
     "data": {
      "text/plain": [
       "Age Group\n",
       "42-50    53242390.70\n",
       "34-42    38037826.50\n",
       "26-34    30553459.81\n",
       "18-26    25233896.65\n",
       "50-58    22454066.68\n",
       "74-82    19770884.32\n",
       "66-74    17705877.44\n",
       "58-66    12782683.13\n",
       "Name: Amount, dtype: float64"
      ]
     },
     "execution_count": 169,
     "metadata": {},
     "output_type": "execute_result"
    }
   ],
   "source": [
    "age_spend"
   ]
  },
  {
   "cell_type": "code",
   "execution_count": 170,
   "id": "0802b4ae",
   "metadata": {
    "ExecuteTime": {
     "end_time": "2023-04-22T14:45:26.447137Z",
     "start_time": "2023-04-22T14:45:25.531389Z"
    }
   },
   "outputs": [
    {
     "data": {
      "image/png": "[encoded data removed]",
      "text/plain": [
       "<Figure size 500x1000 with 1 Axes>"
      ]
     },
     "metadata": {},
     "output_type": "display_data"
    }
   ],
   "source": [
    "plt.figure(figsize=(5,10))\n",
    "age_spend.plot(kind = \"pie\",autopct=\"%1.0f%%\",explode=[0.1,0.0,0.0,0.0,0.0,0.0,0.0,0.0],shadow=True)\n",
    "plt.show()"
   ]
  },
  {
   "cell_type": "code",
   "execution_count": 171,
   "id": "1e013815",
   "metadata": {
    "ExecuteTime": {
     "end_time": "2023-04-22T14:45:36.409578Z",
     "start_time": "2023-04-22T14:45:36.399604Z"
    }
   },
   "outputs": [
    {
     "name": "stdout",
     "output_type": "stream",
     "text": [
      "From the pie chart shown above we can say that age group 42 - 50 is spending more money\n"
     ]
    }
   ],
   "source": [
    "print(\"From the pie chart shown above we can say that age group 42 - 50 is spending more money\")"
   ]
  },
  {
   "cell_type": "code",
   "execution_count": 172,
   "id": "3449ee2a",
   "metadata": {
    "ExecuteTime": {
     "end_time": "2023-04-22T14:45:56.985677Z",
     "start_time": "2023-04-22T14:45:56.975702Z"
    }
   },
   "outputs": [],
   "source": [
    "#(i) Who are the top 10 customers in terms of repayment?"
   ]
  },
  {
   "cell_type": "code",
   "execution_count": 173,
   "id": "290a08b7",
   "metadata": {
    "ExecuteTime": {
     "end_time": "2023-04-22T14:46:05.740004Z",
     "start_time": "2023-04-22T14:46:05.445279Z"
    }
   },
   "outputs": [
    {
     "data": {
      "text/html": [
       "<div>\n",
       "<style scoped>\n",
       "    .dataframe tbody tr th:only-of-type {\n",
       "        vertical-align: middle;\n",
       "    }\n",
       "\n",
       "    .dataframe tbody tr th {\n",
       "        vertical-align: top;\n",
       "    }\n",
       "\n",
       "    .dataframe thead th {\n",
       "        text-align: right;\n",
       "    }\n",
       "</style>\n",
       "<table border=\"1\" class=\"dataframe\">\n",
       "  <thead>\n",
       "    <tr style=\"text-align: right;\">\n",
       "      <th></th>\n",
       "      <th>Amount</th>\n",
       "    </tr>\n",
       "    <tr>\n",
       "      <th>Customer</th>\n",
       "      <th></th>\n",
       "    </tr>\n",
       "  </thead>\n",
       "  <tbody>\n",
       "    <tr>\n",
       "      <th>A61</th>\n",
       "      <td>10539142.91</td>\n",
       "    </tr>\n",
       "    <tr>\n",
       "      <th>A60</th>\n",
       "      <td>9876290.74</td>\n",
       "    </tr>\n",
       "    <tr>\n",
       "      <th>A13</th>\n",
       "      <td>9572000.66</td>\n",
       "    </tr>\n",
       "    <tr>\n",
       "      <th>A43</th>\n",
       "      <td>8489871.46</td>\n",
       "    </tr>\n",
       "    <tr>\n",
       "      <th>A45</th>\n",
       "      <td>8448334.87</td>\n",
       "    </tr>\n",
       "    <tr>\n",
       "      <th>A12</th>\n",
       "      <td>8334760.16</td>\n",
       "    </tr>\n",
       "    <tr>\n",
       "      <th>A14</th>\n",
       "      <td>7943268.63</td>\n",
       "    </tr>\n",
       "    <tr>\n",
       "      <th>A44</th>\n",
       "      <td>7744730.12</td>\n",
       "    </tr>\n",
       "    <tr>\n",
       "      <th>A39</th>\n",
       "      <td>7622483.30</td>\n",
       "    </tr>\n",
       "    <tr>\n",
       "      <th>A42</th>\n",
       "      <td>7615460.86</td>\n",
       "    </tr>\n",
       "  </tbody>\n",
       "</table>\n",
       "</div>"
      ],
      "text/plain": [
       "               Amount\n",
       "Customer             \n",
       "A61       10539142.91\n",
       "A60        9876290.74\n",
       "A13        9572000.66\n",
       "A43        8489871.46\n",
       "A45        8448334.87\n",
       "A12        8334760.16\n",
       "A14        7943268.63\n",
       "A44        7744730.12\n",
       "A39        7622483.30\n",
       "A42        7615460.86"
      ]
     },
     "execution_count": 173,
     "metadata": {},
     "output_type": "execute_result"
    }
   ],
   "source": [
    "#grouping based on \"Customer\" column to find top 10 customers\n",
    "customer_repay.groupby(\"Customer\")[[\"Amount\"]].sum().sort_values(by=\"Amount\",ascending=False).head(10)"
   ]
  },
  {
   "cell_type": "code",
   "execution_count": 174,
   "id": "823ca3c0",
   "metadata": {
    "ExecuteTime": {
     "end_time": "2023-04-22T14:46:21.096650Z",
     "start_time": "2023-04-22T14:46:21.084716Z"
    }
   },
   "outputs": [],
   "source": [
    "#(3) Calculate the city wise spend on each product on yearly basis. Also include a graphical representation for the same."
   ]
  },
  {
   "cell_type": "code",
   "execution_count": 175,
   "id": "0f4c2fc5",
   "metadata": {
    "ExecuteTime": {
     "end_time": "2023-04-22T14:46:30.246766Z",
     "start_time": "2023-04-22T14:46:29.936138Z"
    }
   },
   "outputs": [],
   "source": [
    "#converting \"Month\" column to date time \n",
    "customer_spend[\"Month\"] = pd.to_datetime(customer_spend[\"Month\"])"
   ]
  },
  {
   "cell_type": "code",
   "execution_count": 176,
   "id": "36589b90",
   "metadata": {
    "ExecuteTime": {
     "end_time": "2023-04-22T14:46:37.961187Z",
     "start_time": "2023-04-22T14:46:37.429311Z"
    }
   },
   "outputs": [],
   "source": [
    "#creating new column \"year\" \n",
    "customer_spend['Year'] = customer_spend['Month'].apply(lambda x:pd.Timestamp.strftime(x,format=\"%Y\"))"
   ]
  },
  {
   "cell_type": "code",
   "execution_count": 177,
   "id": "0befe7f3",
   "metadata": {
    "ExecuteTime": {
     "end_time": "2023-04-22T14:46:47.026992Z",
     "start_time": "2023-04-22T14:46:46.535708Z"
    }
   },
   "outputs": [],
   "source": [
    "customer_spend_pivot = pd.pivot_table(data = customer_spend,index=[\"City\",\"Year\"],columns='Product',aggfunc=\"sum\",values=\"Amount\")"
   ]
  },
  {
   "cell_type": "code",
   "execution_count": 178,
   "id": "45b7db84",
   "metadata": {
    "ExecuteTime": {
     "end_time": "2023-04-22T14:46:58.138192Z",
     "start_time": "2023-04-22T14:46:58.010499Z"
    }
   },
   "outputs": [
    {
     "data": {
      "text/html": [
       "<div>\n",
       "<style scoped>\n",
       "    .dataframe tbody tr th:only-of-type {\n",
       "        vertical-align: middle;\n",
       "    }\n",
       "\n",
       "    .dataframe tbody tr th {\n",
       "        vertical-align: top;\n",
       "    }\n",
       "\n",
       "    .dataframe thead th {\n",
       "        text-align: right;\n",
       "    }\n",
       "</style>\n",
       "<table border=\"1\" class=\"dataframe\">\n",
       "  <thead>\n",
       "    <tr style=\"text-align: right;\">\n",
       "      <th></th>\n",
       "      <th>Product</th>\n",
       "      <th>Gold</th>\n",
       "      <th>Platimum</th>\n",
       "      <th>Silver</th>\n",
       "    </tr>\n",
       "    <tr>\n",
       "      <th>City</th>\n",
       "      <th>Year</th>\n",
       "      <th></th>\n",
       "      <th></th>\n",
       "      <th></th>\n",
       "    </tr>\n",
       "  </thead>\n",
       "  <tbody>\n",
       "    <tr>\n",
       "      <th rowspan=\"3\" valign=\"top\">BANGALORE</th>\n",
       "      <th>2004</th>\n",
       "      <td>9289878.54</td>\n",
       "      <td>1112732.30</td>\n",
       "      <td>1291852.58</td>\n",
       "    </tr>\n",
       "    <tr>\n",
       "      <th>2005</th>\n",
       "      <td>12892362.99</td>\n",
       "      <td>912284.97</td>\n",
       "      <td>830612.34</td>\n",
       "    </tr>\n",
       "    <tr>\n",
       "      <th>2006</th>\n",
       "      <td>12030611.09</td>\n",
       "      <td>685831.27</td>\n",
       "      <td>1415480.94</td>\n",
       "    </tr>\n",
       "    <tr>\n",
       "      <th rowspan=\"3\" valign=\"top\">BOMBAY</th>\n",
       "      <th>2004</th>\n",
       "      <td>6987853.53</td>\n",
       "      <td>897264.94</td>\n",
       "      <td>532089.03</td>\n",
       "    </tr>\n",
       "    <tr>\n",
       "      <th>2005</th>\n",
       "      <td>8983018.28</td>\n",
       "      <td>711804.94</td>\n",
       "      <td>508988.54</td>\n",
       "    </tr>\n",
       "    <tr>\n",
       "      <th>2006</th>\n",
       "      <td>7917144.31</td>\n",
       "      <td>972130.01</td>\n",
       "      <td>1092833.80</td>\n",
       "    </tr>\n",
       "    <tr>\n",
       "      <th rowspan=\"3\" valign=\"top\">CALCUTTA</th>\n",
       "      <th>2004</th>\n",
       "      <td>7477140.98</td>\n",
       "      <td>2037690.30</td>\n",
       "      <td>500006.00</td>\n",
       "    </tr>\n",
       "    <tr>\n",
       "      <th>2005</th>\n",
       "      <td>10303355.80</td>\n",
       "      <td>4434696.31</td>\n",
       "      <td>440147.06</td>\n",
       "    </tr>\n",
       "    <tr>\n",
       "      <th>2006</th>\n",
       "      <td>11167532.77</td>\n",
       "      <td>3589606.66</td>\n",
       "      <td>1157956.42</td>\n",
       "    </tr>\n",
       "    <tr>\n",
       "      <th rowspan=\"3\" valign=\"top\">CHENNAI</th>\n",
       "      <th>2004</th>\n",
       "      <td>1059618.50</td>\n",
       "      <td>3535652.38</td>\n",
       "      <td>282056.86</td>\n",
       "    </tr>\n",
       "    <tr>\n",
       "      <th>2005</th>\n",
       "      <td>3740945.58</td>\n",
       "      <td>5053956.32</td>\n",
       "      <td>377184.49</td>\n",
       "    </tr>\n",
       "    <tr>\n",
       "      <th>2006</th>\n",
       "      <td>2704288.62</td>\n",
       "      <td>5024923.40</td>\n",
       "      <td>350009.50</td>\n",
       "    </tr>\n",
       "    <tr>\n",
       "      <th rowspan=\"3\" valign=\"top\">COCHIN</th>\n",
       "      <th>2004</th>\n",
       "      <td>7315850.15</td>\n",
       "      <td>3419904.07</td>\n",
       "      <td>814229.62</td>\n",
       "    </tr>\n",
       "    <tr>\n",
       "      <th>2005</th>\n",
       "      <td>12110613.03</td>\n",
       "      <td>4960921.71</td>\n",
       "      <td>652269.38</td>\n",
       "    </tr>\n",
       "    <tr>\n",
       "      <th>2006</th>\n",
       "      <td>10499142.38</td>\n",
       "      <td>4920592.29</td>\n",
       "      <td>1269990.87</td>\n",
       "    </tr>\n",
       "    <tr>\n",
       "      <th rowspan=\"3\" valign=\"top\">DELHI</th>\n",
       "      <th>2004</th>\n",
       "      <td>2806495.00</td>\n",
       "      <td>283512.89</td>\n",
       "      <td>768172.30</td>\n",
       "    </tr>\n",
       "    <tr>\n",
       "      <th>2005</th>\n",
       "      <td>1964845.27</td>\n",
       "      <td>494157.86</td>\n",
       "      <td>612311.21</td>\n",
       "    </tr>\n",
       "    <tr>\n",
       "      <th>2006</th>\n",
       "      <td>2957103.32</td>\n",
       "      <td>176788.72</td>\n",
       "      <td>854899.97</td>\n",
       "    </tr>\n",
       "    <tr>\n",
       "      <th rowspan=\"3\" valign=\"top\">PATNA</th>\n",
       "      <th>2004</th>\n",
       "      <td>2072567.90</td>\n",
       "      <td>1113069.60</td>\n",
       "      <td>756684.10</td>\n",
       "    </tr>\n",
       "    <tr>\n",
       "      <th>2005</th>\n",
       "      <td>3252615.77</td>\n",
       "      <td>2883231.07</td>\n",
       "      <td>950094.19</td>\n",
       "    </tr>\n",
       "    <tr>\n",
       "      <th>2006</th>\n",
       "      <td>2276181.69</td>\n",
       "      <td>1256137.65</td>\n",
       "      <td>700005.00</td>\n",
       "    </tr>\n",
       "    <tr>\n",
       "      <th rowspan=\"3\" valign=\"top\">TRIVANDRUM</th>\n",
       "      <th>2004</th>\n",
       "      <td>2415102.84</td>\n",
       "      <td>2161676.67</td>\n",
       "      <td>209667.48</td>\n",
       "    </tr>\n",
       "    <tr>\n",
       "      <th>2005</th>\n",
       "      <td>1240375.85</td>\n",
       "      <td>3601443.30</td>\n",
       "      <td>269912.99</td>\n",
       "    </tr>\n",
       "    <tr>\n",
       "      <th>2006</th>\n",
       "      <td>2735710.87</td>\n",
       "      <td>2147403.75</td>\n",
       "      <td>555862.12</td>\n",
       "    </tr>\n",
       "  </tbody>\n",
       "</table>\n",
       "</div>"
      ],
      "text/plain": [
       "Product                 Gold    Platimum      Silver\n",
       "City       Year                                     \n",
       "BANGALORE  2004   9289878.54  1112732.30  1291852.58\n",
       "           2005  12892362.99   912284.97   830612.34\n",
       "           2006  12030611.09   685831.27  1415480.94\n",
       "BOMBAY     2004   6987853.53   897264.94   532089.03\n",
       "           2005   8983018.28   711804.94   508988.54\n",
       "           2006   7917144.31   972130.01  1092833.80\n",
       "CALCUTTA   2004   7477140.98  2037690.30   500006.00\n",
       "           2005  10303355.80  4434696.31   440147.06\n",
       "           2006  11167532.77  3589606.66  1157956.42\n",
       "CHENNAI    2004   1059618.50  3535652.38   282056.86\n",
       "           2005   3740945.58  5053956.32   377184.49\n",
       "           2006   2704288.62  5024923.40   350009.50\n",
       "COCHIN     2004   7315850.15  3419904.07   814229.62\n",
       "           2005  12110613.03  4960921.71   652269.38\n",
       "           2006  10499142.38  4920592.29  1269990.87\n",
       "DELHI      2004   2806495.00   283512.89   768172.30\n",
       "           2005   1964845.27   494157.86   612311.21\n",
       "           2006   2957103.32   176788.72   854899.97\n",
       "PATNA      2004   2072567.90  1113069.60   756684.10\n",
       "           2005   3252615.77  2883231.07   950094.19\n",
       "           2006   2276181.69  1256137.65   700005.00\n",
       "TRIVANDRUM 2004   2415102.84  2161676.67   209667.48\n",
       "           2005   1240375.85  3601443.30   269912.99\n",
       "           2006   2735710.87  2147403.75   555862.12"
      ]
     },
     "execution_count": 178,
     "metadata": {},
     "output_type": "execute_result"
    }
   ],
   "source": [
    "customer_spend_pivot"
   ]
  },
  {
   "cell_type": "code",
   "execution_count": 179,
   "id": "3846f9ca",
   "metadata": {
    "ExecuteTime": {
     "end_time": "2023-04-22T14:47:09.168568Z",
     "start_time": "2023-04-22T14:47:07.919710Z"
    }
   },
   "outputs": [
    {
     "data": {
      "image/png": "[encoded data removed]",
      "text/plain": [
       "<Figure size 1800x500 with 1 Axes>"
      ]
     },
     "metadata": {},
     "output_type": "display_data"
    }
   ],
   "source": [
    "customer_spend_pivot.plot(kind=\"bar\",figsize=(18,5),width=0.8)\n",
    "plt.ylabel(\"Spend Amount\")\n",
    "plt.title(\"Amount spended by customers according to year and city\")\n",
    "plt.show()"
   ]
  },
  {
   "cell_type": "code",
   "execution_count": 183,
   "id": "c69b4c05",
   "metadata": {
    "ExecuteTime": {
     "end_time": "2023-04-22T14:47:42.401429Z",
     "start_time": "2023-04-22T14:47:42.381445Z"
    }
   },
   "outputs": [],
   "source": [
    "#(4) Create graphs for\n",
    "#(a) Monthly comparison of total spends, city wise"
   ]
  },
  {
   "cell_type": "code",
   "execution_count": 184,
   "id": "13891b02",
   "metadata": {
    "ExecuteTime": {
     "end_time": "2023-04-22T14:47:52.072986Z",
     "start_time": "2023-04-22T14:47:51.925265Z"
    }
   },
   "outputs": [],
   "source": [
    "#creating new column \"Monthly\" \n",
    "customer_spend['Monthly'] = customer_spend['Month'].apply(lambda x:pd.Timestamp.strftime(x,format=\"%B\"))"
   ]
  },
  {
   "cell_type": "code",
   "execution_count": 185,
   "id": "67ee9083",
   "metadata": {
    "ExecuteTime": {
     "end_time": "2023-04-22T14:48:00.345535Z",
     "start_time": "2023-04-22T14:48:00.294635Z"
    }
   },
   "outputs": [],
   "source": [
    "#grouping data based on \"Monthly\" and \"City\" columns\n",
    "month_city = customer_spend.groupby([\"Monthly\",\"City\"])[[\"Amount\"]].sum().sort_index().reset_index()"
   ]
  },
  {
   "cell_type": "code",
   "execution_count": 186,
   "id": "a0cb1ced",
   "metadata": {
    "ExecuteTime": {
     "end_time": "2023-04-22T14:48:08.045584Z",
     "start_time": "2023-04-22T14:48:08.011672Z"
    }
   },
   "outputs": [],
   "source": [
    "#creating pivot table based on \"Monthly\" and \"City\" columns\n",
    "month_city =pd.pivot_table(data=customer_spend,values='Amount',index='City',columns='Monthly',aggfunc='sum')"
   ]
  },
  {
   "cell_type": "code",
   "execution_count": 187,
   "id": "66d394d6",
   "metadata": {
    "ExecuteTime": {
     "end_time": "2023-04-22T14:48:17.120693Z",
     "start_time": "2023-04-22T14:48:17.055867Z"
    }
   },
   "outputs": [
    {
     "data": {
      "text/html": [
       "<div>\n",
       "<style scoped>\n",
       "    .dataframe tbody tr th:only-of-type {\n",
       "        vertical-align: middle;\n",
       "    }\n",
       "\n",
       "    .dataframe tbody tr th {\n",
       "        vertical-align: top;\n",
       "    }\n",
       "\n",
       "    .dataframe thead th {\n",
       "        text-align: right;\n",
       "    }\n",
       "</style>\n",
       "<table border=\"1\" class=\"dataframe\">\n",
       "  <thead>\n",
       "    <tr style=\"text-align: right;\">\n",
       "      <th>Monthly</th>\n",
       "      <th>April</th>\n",
       "      <th>August</th>\n",
       "      <th>December</th>\n",
       "      <th>February</th>\n",
       "      <th>January</th>\n",
       "      <th>July</th>\n",
       "      <th>June</th>\n",
       "      <th>March</th>\n",
       "      <th>May</th>\n",
       "      <th>November</th>\n",
       "      <th>October</th>\n",
       "      <th>September</th>\n",
       "    </tr>\n",
       "    <tr>\n",
       "      <th>City</th>\n",
       "      <th></th>\n",
       "      <th></th>\n",
       "      <th></th>\n",
       "      <th></th>\n",
       "      <th></th>\n",
       "      <th></th>\n",
       "      <th></th>\n",
       "      <th></th>\n",
       "      <th></th>\n",
       "      <th></th>\n",
       "      <th></th>\n",
       "      <th></th>\n",
       "    </tr>\n",
       "  </thead>\n",
       "  <tbody>\n",
       "    <tr>\n",
       "      <th>BANGALORE</th>\n",
       "      <td>4207980.48</td>\n",
       "      <td>695061.95</td>\n",
       "      <td>422167.24</td>\n",
       "      <td>6734494.76</td>\n",
       "      <td>9041796.84</td>\n",
       "      <td>2228217.69</td>\n",
       "      <td>1330685.90</td>\n",
       "      <td>5362903.07</td>\n",
       "      <td>6383115.13</td>\n",
       "      <td>2260603.07</td>\n",
       "      <td>1091602.61</td>\n",
       "      <td>703018.28</td>\n",
       "    </tr>\n",
       "    <tr>\n",
       "      <th>BOMBAY</th>\n",
       "      <td>1873785.01</td>\n",
       "      <td>1066744.75</td>\n",
       "      <td>140040.71</td>\n",
       "      <td>4276988.30</td>\n",
       "      <td>5948993.33</td>\n",
       "      <td>177726.32</td>\n",
       "      <td>1172594.97</td>\n",
       "      <td>5227850.50</td>\n",
       "      <td>3891945.60</td>\n",
       "      <td>2872049.40</td>\n",
       "      <td>676005.70</td>\n",
       "      <td>1278402.79</td>\n",
       "    </tr>\n",
       "    <tr>\n",
       "      <th>CALCUTTA</th>\n",
       "      <td>3457507.95</td>\n",
       "      <td>1548354.02</td>\n",
       "      <td>55001.50</td>\n",
       "      <td>8150545.61</td>\n",
       "      <td>9064864.90</td>\n",
       "      <td>2234573.27</td>\n",
       "      <td>2293045.81</td>\n",
       "      <td>4939040.04</td>\n",
       "      <td>5578246.87</td>\n",
       "      <td>2078880.93</td>\n",
       "      <td>196357.83</td>\n",
       "      <td>1511713.57</td>\n",
       "    </tr>\n",
       "    <tr>\n",
       "      <th>CHENNAI</th>\n",
       "      <td>2518656.99</td>\n",
       "      <td>305875.97</td>\n",
       "      <td>223628.27</td>\n",
       "      <td>4385815.95</td>\n",
       "      <td>4466961.36</td>\n",
       "      <td>693825.77</td>\n",
       "      <td>1244242.16</td>\n",
       "      <td>3183643.71</td>\n",
       "      <td>2856199.62</td>\n",
       "      <td>1347779.28</td>\n",
       "      <td>156247.17</td>\n",
       "      <td>745759.40</td>\n",
       "    </tr>\n",
       "    <tr>\n",
       "      <th>COCHIN</th>\n",
       "      <td>3882744.94</td>\n",
       "      <td>2317306.61</td>\n",
       "      <td>909533.05</td>\n",
       "      <td>5747886.38</td>\n",
       "      <td>11714373.54</td>\n",
       "      <td>1290897.30</td>\n",
       "      <td>2495745.07</td>\n",
       "      <td>5645146.53</td>\n",
       "      <td>6581085.69</td>\n",
       "      <td>3127999.60</td>\n",
       "      <td>868551.89</td>\n",
       "      <td>1382242.90</td>\n",
       "    </tr>\n",
       "    <tr>\n",
       "      <th>DELHI</th>\n",
       "      <td>777240.75</td>\n",
       "      <td>155402.16</td>\n",
       "      <td>842342.02</td>\n",
       "      <td>1494064.06</td>\n",
       "      <td>2714261.45</td>\n",
       "      <td>50001.50</td>\n",
       "      <td>511276.09</td>\n",
       "      <td>2267149.02</td>\n",
       "      <td>1600322.07</td>\n",
       "      <td>391610.96</td>\n",
       "      <td>64615.46</td>\n",
       "      <td>50001.00</td>\n",
       "    </tr>\n",
       "    <tr>\n",
       "      <th>PATNA</th>\n",
       "      <td>2338179.53</td>\n",
       "      <td>419383.64</td>\n",
       "      <td>50000.00</td>\n",
       "      <td>2353333.55</td>\n",
       "      <td>4916205.55</td>\n",
       "      <td>50000.00</td>\n",
       "      <td>746186.13</td>\n",
       "      <td>1437166.61</td>\n",
       "      <td>2136586.80</td>\n",
       "      <td>413677.87</td>\n",
       "      <td>329537.34</td>\n",
       "      <td>70329.95</td>\n",
       "    </tr>\n",
       "    <tr>\n",
       "      <th>TRIVANDRUM</th>\n",
       "      <td>1199293.45</td>\n",
       "      <td>453773.94</td>\n",
       "      <td>640922.26</td>\n",
       "      <td>2857123.89</td>\n",
       "      <td>3704336.99</td>\n",
       "      <td>260484.50</td>\n",
       "      <td>400336.83</td>\n",
       "      <td>2392316.51</td>\n",
       "      <td>2813534.48</td>\n",
       "      <td>143387.40</td>\n",
       "      <td>285581.92</td>\n",
       "      <td>186063.70</td>\n",
       "    </tr>\n",
       "  </tbody>\n",
       "</table>\n",
       "</div>"
      ],
      "text/plain": [
       "Monthly          April      August   December    February      January  \\\n",
       "City                                                                     \n",
       "BANGALORE   4207980.48   695061.95  422167.24  6734494.76   9041796.84   \n",
       "BOMBAY      1873785.01  1066744.75  140040.71  4276988.30   5948993.33   \n",
       "CALCUTTA    3457507.95  1548354.02   55001.50  8150545.61   9064864.90   \n",
       "CHENNAI     2518656.99   305875.97  223628.27  4385815.95   4466961.36   \n",
       "COCHIN      3882744.94  2317306.61  909533.05  5747886.38  11714373.54   \n",
       "DELHI        777240.75   155402.16  842342.02  1494064.06   2714261.45   \n",
       "PATNA       2338179.53   419383.64   50000.00  2353333.55   4916205.55   \n",
       "TRIVANDRUM  1199293.45   453773.94  640922.26  2857123.89   3704336.99   \n",
       "\n",
       "Monthly           July        June       March         May    November  \\\n",
       "City                                                                     \n",
       "BANGALORE   2228217.69  1330685.90  5362903.07  6383115.13  2260603.07   \n",
       "BOMBAY       177726.32  1172594.97  5227850.50  3891945.60  2872049.40   \n",
       "CALCUTTA    2234573.27  2293045.81  4939040.04  5578246.87  2078880.93   \n",
       "CHENNAI      693825.77  1244242.16  3183643.71  2856199.62  1347779.28   \n",
       "COCHIN      1290897.30  2495745.07  5645146.53  6581085.69  3127999.60   \n",
       "DELHI         50001.50   511276.09  2267149.02  1600322.07   391610.96   \n",
       "PATNA         50000.00   746186.13  1437166.61  2136586.80   413677.87   \n",
       "TRIVANDRUM   260484.50   400336.83  2392316.51  2813534.48   143387.40   \n",
       "\n",
       "Monthly        October   September  \n",
       "City                                \n",
       "BANGALORE   1091602.61   703018.28  \n",
       "BOMBAY       676005.70  1278402.79  \n",
       "CALCUTTA     196357.83  1511713.57  \n",
       "CHENNAI      156247.17   745759.40  \n",
       "COCHIN       868551.89  1382242.90  \n",
       "DELHI         64615.46    50001.00  \n",
       "PATNA        329537.34    70329.95  \n",
       "TRIVANDRUM   285581.92   186063.70  "
      ]
     },
     "execution_count": 187,
     "metadata": {},
     "output_type": "execute_result"
    }
   ],
   "source": [
    "month_city"
   ]
  },
  {
   "cell_type": "code",
   "execution_count": 188,
   "id": "d81325fc",
   "metadata": {
    "ExecuteTime": {
     "end_time": "2023-04-22T14:48:25.797809Z",
     "start_time": "2023-04-22T14:48:24.762071Z"
    }
   },
   "outputs": [
    {
     "data": {
      "image/png": "[encoded data removed]",
      "text/plain": [
       "<Figure size 1800x600 with 1 Axes>"
      ]
     },
     "metadata": {},
     "output_type": "display_data"
    }
   ],
   "source": [
    "month_city.plot(kind=\"bar\",figsize=(18,6),width=0.8)\n",
    "plt.show()"
   ]
  },
  {
   "cell_type": "code",
   "execution_count": 189,
   "id": "44696581",
   "metadata": {
    "ExecuteTime": {
     "end_time": "2023-04-22T14:48:37.437808Z",
     "start_time": "2023-04-22T14:48:37.422845Z"
    }
   },
   "outputs": [],
   "source": [
    "#(b) Comparison of yearly spend on air tickets"
   ]
  },
  {
   "cell_type": "code",
   "execution_count": 190,
   "id": "f1d88f4f",
   "metadata": {
    "ExecuteTime": {
     "end_time": "2023-04-22T14:48:44.263036Z",
     "start_time": "2023-04-22T14:48:44.214168Z"
    }
   },
   "outputs": [
    {
     "data": {
      "text/html": [
       "<div>\n",
       "<style scoped>\n",
       "    .dataframe tbody tr th:only-of-type {\n",
       "        vertical-align: middle;\n",
       "    }\n",
       "\n",
       "    .dataframe tbody tr th {\n",
       "        vertical-align: top;\n",
       "    }\n",
       "\n",
       "    .dataframe thead th {\n",
       "        text-align: right;\n",
       "    }\n",
       "</style>\n",
       "<table border=\"1\" class=\"dataframe\">\n",
       "  <thead>\n",
       "    <tr style=\"text-align: right;\">\n",
       "      <th></th>\n",
       "      <th>No</th>\n",
       "      <th>Customer</th>\n",
       "      <th>Age</th>\n",
       "      <th>City</th>\n",
       "      <th>Product</th>\n",
       "      <th>Limit</th>\n",
       "      <th>Company</th>\n",
       "      <th>Segment</th>\n",
       "      <th>Sl No:</th>\n",
       "      <th>Month</th>\n",
       "      <th>Type</th>\n",
       "      <th>Amount</th>\n",
       "      <th>Age Group</th>\n",
       "      <th>Year</th>\n",
       "      <th>Monthly</th>\n",
       "    </tr>\n",
       "  </thead>\n",
       "  <tbody>\n",
       "    <tr>\n",
       "      <th>0</th>\n",
       "      <td>1</td>\n",
       "      <td>A1</td>\n",
       "      <td>76.0</td>\n",
       "      <td>BANGALORE</td>\n",
       "      <td>Gold</td>\n",
       "      <td>500000.0</td>\n",
       "      <td>C1</td>\n",
       "      <td>Self Employed</td>\n",
       "      <td>1</td>\n",
       "      <td>2004-01-12</td>\n",
       "      <td>JEWELLERY</td>\n",
       "      <td>485470.80</td>\n",
       "      <td>74-82</td>\n",
       "      <td>2004</td>\n",
       "      <td>January</td>\n",
       "    </tr>\n",
       "    <tr>\n",
       "      <th>1</th>\n",
       "      <td>1</td>\n",
       "      <td>A1</td>\n",
       "      <td>76.0</td>\n",
       "      <td>BANGALORE</td>\n",
       "      <td>Gold</td>\n",
       "      <td>500000.0</td>\n",
       "      <td>C1</td>\n",
       "      <td>Self Employed</td>\n",
       "      <td>2</td>\n",
       "      <td>2004-01-03</td>\n",
       "      <td>PETRO</td>\n",
       "      <td>410556.13</td>\n",
       "      <td>74-82</td>\n",
       "      <td>2004</td>\n",
       "      <td>January</td>\n",
       "    </tr>\n",
       "    <tr>\n",
       "      <th>2</th>\n",
       "      <td>1</td>\n",
       "      <td>A1</td>\n",
       "      <td>76.0</td>\n",
       "      <td>BANGALORE</td>\n",
       "      <td>Gold</td>\n",
       "      <td>500000.0</td>\n",
       "      <td>C1</td>\n",
       "      <td>Self Employed</td>\n",
       "      <td>3</td>\n",
       "      <td>2004-01-15</td>\n",
       "      <td>CLOTHES</td>\n",
       "      <td>23740.46</td>\n",
       "      <td>74-82</td>\n",
       "      <td>2004</td>\n",
       "      <td>January</td>\n",
       "    </tr>\n",
       "    <tr>\n",
       "      <th>3</th>\n",
       "      <td>1</td>\n",
       "      <td>A1</td>\n",
       "      <td>76.0</td>\n",
       "      <td>BANGALORE</td>\n",
       "      <td>Gold</td>\n",
       "      <td>500000.0</td>\n",
       "      <td>C1</td>\n",
       "      <td>Self Employed</td>\n",
       "      <td>4</td>\n",
       "      <td>2004-01-25</td>\n",
       "      <td>FOOD</td>\n",
       "      <td>484342.47</td>\n",
       "      <td>74-82</td>\n",
       "      <td>2004</td>\n",
       "      <td>January</td>\n",
       "    </tr>\n",
       "    <tr>\n",
       "      <th>4</th>\n",
       "      <td>1</td>\n",
       "      <td>A1</td>\n",
       "      <td>76.0</td>\n",
       "      <td>BANGALORE</td>\n",
       "      <td>Gold</td>\n",
       "      <td>500000.0</td>\n",
       "      <td>C1</td>\n",
       "      <td>Self Employed</td>\n",
       "      <td>5</td>\n",
       "      <td>2005-01-17</td>\n",
       "      <td>CAMERA</td>\n",
       "      <td>369694.07</td>\n",
       "      <td>74-82</td>\n",
       "      <td>2005</td>\n",
       "      <td>January</td>\n",
       "    </tr>\n",
       "  </tbody>\n",
       "</table>\n",
       "</div>"
      ],
      "text/plain": [
       "   No Customer   Age       City Product     Limit Company        Segment  \\\n",
       "0   1       A1  76.0  BANGALORE    Gold  500000.0      C1  Self Employed   \n",
       "1   1       A1  76.0  BANGALORE    Gold  500000.0      C1  Self Employed   \n",
       "2   1       A1  76.0  BANGALORE    Gold  500000.0      C1  Self Employed   \n",
       "3   1       A1  76.0  BANGALORE    Gold  500000.0      C1  Self Employed   \n",
       "4   1       A1  76.0  BANGALORE    Gold  500000.0      C1  Self Employed   \n",
       "\n",
       "   Sl No:      Month       Type     Amount Age Group  Year  Monthly  \n",
       "0       1 2004-01-12  JEWELLERY  485470.80     74-82  2004  January  \n",
       "1       2 2004-01-03      PETRO  410556.13     74-82  2004  January  \n",
       "2       3 2004-01-15    CLOTHES   23740.46     74-82  2004  January  \n",
       "3       4 2004-01-25       FOOD  484342.47     74-82  2004  January  \n",
       "4       5 2005-01-17     CAMERA  369694.07     74-82  2005  January  "
      ]
     },
     "execution_count": 190,
     "metadata": {},
     "output_type": "execute_result"
    }
   ],
   "source": [
    "customer_spend.head()"
   ]
  },
  {
   "cell_type": "code",
   "execution_count": 191,
   "id": "b3fe9159",
   "metadata": {
    "ExecuteTime": {
     "end_time": "2023-04-22T14:48:54.185422Z",
     "start_time": "2023-04-22T14:48:54.154501Z"
    }
   },
   "outputs": [],
   "source": [
    "air_tickets = customer_spend.groupby([\"Year\",\"Type\"])[[\"Amount\"]].sum().reset_index()"
   ]
  },
  {
   "cell_type": "code",
   "execution_count": 192,
   "id": "615bef14",
   "metadata": {
    "ExecuteTime": {
     "end_time": "2023-04-22T14:49:02.565086Z",
     "start_time": "2023-04-22T14:49:02.507204Z"
    }
   },
   "outputs": [],
   "source": [
    "filtered = air_tickets.loc[air_tickets[\"Type\"]==\"AIR TICKET\"]"
   ]
  },
  {
   "cell_type": "code",
   "execution_count": 193,
   "id": "4d5d2799",
   "metadata": {
    "ExecuteTime": {
     "end_time": "2023-04-22T14:49:09.621823Z",
     "start_time": "2023-04-22T14:49:09.602120Z"
    }
   },
   "outputs": [
    {
     "data": {
      "text/html": [
       "<div>\n",
       "<style scoped>\n",
       "    .dataframe tbody tr th:only-of-type {\n",
       "        vertical-align: middle;\n",
       "    }\n",
       "\n",
       "    .dataframe tbody tr th {\n",
       "        vertical-align: top;\n",
       "    }\n",
       "\n",
       "    .dataframe thead th {\n",
       "        text-align: right;\n",
       "    }\n",
       "</style>\n",
       "<table border=\"1\" class=\"dataframe\">\n",
       "  <thead>\n",
       "    <tr style=\"text-align: right;\">\n",
       "      <th></th>\n",
       "      <th>Year</th>\n",
       "      <th>Type</th>\n",
       "      <th>Amount</th>\n",
       "    </tr>\n",
       "  </thead>\n",
       "  <tbody>\n",
       "    <tr>\n",
       "      <th>0</th>\n",
       "      <td>2004</td>\n",
       "      <td>AIR TICKET</td>\n",
       "      <td>4357225.35</td>\n",
       "    </tr>\n",
       "    <tr>\n",
       "      <th>15</th>\n",
       "      <td>2005</td>\n",
       "      <td>AIR TICKET</td>\n",
       "      <td>10550152.21</td>\n",
       "    </tr>\n",
       "    <tr>\n",
       "      <th>30</th>\n",
       "      <td>2006</td>\n",
       "      <td>AIR TICKET</td>\n",
       "      <td>5248469.56</td>\n",
       "    </tr>\n",
       "  </tbody>\n",
       "</table>\n",
       "</div>"
      ],
      "text/plain": [
       "    Year        Type       Amount\n",
       "0   2004  AIR TICKET   4357225.35\n",
       "15  2005  AIR TICKET  10550152.21\n",
       "30  2006  AIR TICKET   5248469.56"
      ]
     },
     "execution_count": 193,
     "metadata": {},
     "output_type": "execute_result"
    }
   ],
   "source": [
    "filtered"
   ]
  },
  {
   "cell_type": "code",
   "execution_count": 194,
   "id": "82f08161",
   "metadata": {
    "ExecuteTime": {
     "end_time": "2023-04-22T14:49:20.267732Z",
     "start_time": "2023-04-22T14:49:19.815250Z"
    }
   },
   "outputs": [
    {
     "data": {
      "image/png": "[encoded data removed]",
      "text/plain": [
       "<Figure size 640x480 with 1 Axes>"
      ]
     },
     "metadata": {},
     "output_type": "display_data"
    }
   ],
   "source": [
    "plt.bar(filtered[\"Year\"],height=filtered[\"Amount\"],color=\"orange\")\n",
    "plt.xlabel(\"Year\")\n",
    "plt.ylabel(\"Amount Spent\")\n",
    "plt.title(\"Comparison of yearly spend on air tickets\")\n",
    "plt.show()"
   ]
  },
  {
   "cell_type": "code",
   "execution_count": 195,
   "id": "976924b6",
   "metadata": {
    "ExecuteTime": {
     "end_time": "2023-04-22T14:49:30.869094Z",
     "start_time": "2023-04-22T14:49:30.849151Z"
    }
   },
   "outputs": [],
   "source": [
    "#(c) Comparison of monthly spend for each product (look for any seasonality that exists in terms of spend)"
   ]
  },
  {
   "cell_type": "code",
   "execution_count": 196,
   "id": "449d20e1",
   "metadata": {
    "ExecuteTime": {
     "end_time": "2023-04-22T14:49:37.157464Z",
     "start_time": "2023-04-22T14:49:37.123516Z"
    }
   },
   "outputs": [
    {
     "data": {
      "text/html": [
       "<div>\n",
       "<style scoped>\n",
       "    .dataframe tbody tr th:only-of-type {\n",
       "        vertical-align: middle;\n",
       "    }\n",
       "\n",
       "    .dataframe tbody tr th {\n",
       "        vertical-align: top;\n",
       "    }\n",
       "\n",
       "    .dataframe thead th {\n",
       "        text-align: right;\n",
       "    }\n",
       "</style>\n",
       "<table border=\"1\" class=\"dataframe\">\n",
       "  <thead>\n",
       "    <tr style=\"text-align: right;\">\n",
       "      <th></th>\n",
       "      <th>No</th>\n",
       "      <th>Customer</th>\n",
       "      <th>Age</th>\n",
       "      <th>City</th>\n",
       "      <th>Product</th>\n",
       "      <th>Limit</th>\n",
       "      <th>Company</th>\n",
       "      <th>Segment</th>\n",
       "      <th>Sl No:</th>\n",
       "      <th>Month</th>\n",
       "      <th>Type</th>\n",
       "      <th>Amount</th>\n",
       "      <th>Age Group</th>\n",
       "      <th>Year</th>\n",
       "      <th>Monthly</th>\n",
       "    </tr>\n",
       "  </thead>\n",
       "  <tbody>\n",
       "    <tr>\n",
       "      <th>0</th>\n",
       "      <td>1</td>\n",
       "      <td>A1</td>\n",
       "      <td>76.0</td>\n",
       "      <td>BANGALORE</td>\n",
       "      <td>Gold</td>\n",
       "      <td>500000.0</td>\n",
       "      <td>C1</td>\n",
       "      <td>Self Employed</td>\n",
       "      <td>1</td>\n",
       "      <td>2004-01-12</td>\n",
       "      <td>JEWELLERY</td>\n",
       "      <td>485470.80</td>\n",
       "      <td>74-82</td>\n",
       "      <td>2004</td>\n",
       "      <td>January</td>\n",
       "    </tr>\n",
       "    <tr>\n",
       "      <th>1</th>\n",
       "      <td>1</td>\n",
       "      <td>A1</td>\n",
       "      <td>76.0</td>\n",
       "      <td>BANGALORE</td>\n",
       "      <td>Gold</td>\n",
       "      <td>500000.0</td>\n",
       "      <td>C1</td>\n",
       "      <td>Self Employed</td>\n",
       "      <td>2</td>\n",
       "      <td>2004-01-03</td>\n",
       "      <td>PETRO</td>\n",
       "      <td>410556.13</td>\n",
       "      <td>74-82</td>\n",
       "      <td>2004</td>\n",
       "      <td>January</td>\n",
       "    </tr>\n",
       "  </tbody>\n",
       "</table>\n",
       "</div>"
      ],
      "text/plain": [
       "   No Customer   Age       City Product     Limit Company        Segment  \\\n",
       "0   1       A1  76.0  BANGALORE    Gold  500000.0      C1  Self Employed   \n",
       "1   1       A1  76.0  BANGALORE    Gold  500000.0      C1  Self Employed   \n",
       "\n",
       "   Sl No:      Month       Type     Amount Age Group  Year  Monthly  \n",
       "0       1 2004-01-12  JEWELLERY  485470.80     74-82  2004  January  \n",
       "1       2 2004-01-03      PETRO  410556.13     74-82  2004  January  "
      ]
     },
     "execution_count": 196,
     "metadata": {},
     "output_type": "execute_result"
    }
   ],
   "source": [
    "customer_spend.head(2)"
   ]
  },
  {
   "cell_type": "code",
   "execution_count": 197,
   "id": "7bb86baa",
   "metadata": {
    "ExecuteTime": {
     "end_time": "2023-04-22T14:49:47.007402Z",
     "start_time": "2023-04-22T14:49:46.980443Z"
    }
   },
   "outputs": [],
   "source": [
    "#creating pivot table based on \"Monthly\" and \"Product\" columns\n",
    "product_wise = pd.pivot_table(data=customer_spend,index='Product',columns='Monthly',values='Amount',aggfunc='sum')"
   ]
  },
  {
   "cell_type": "code",
   "execution_count": 198,
   "id": "a23a49a2",
   "metadata": {
    "ExecuteTime": {
     "end_time": "2023-04-22T14:49:54.221078Z",
     "start_time": "2023-04-22T14:49:54.187167Z"
    }
   },
   "outputs": [
    {
     "data": {
      "text/html": [
       "<div>\n",
       "<style scoped>\n",
       "    .dataframe tbody tr th:only-of-type {\n",
       "        vertical-align: middle;\n",
       "    }\n",
       "\n",
       "    .dataframe tbody tr th {\n",
       "        vertical-align: top;\n",
       "    }\n",
       "\n",
       "    .dataframe thead th {\n",
       "        text-align: right;\n",
       "    }\n",
       "</style>\n",
       "<table border=\"1\" class=\"dataframe\">\n",
       "  <thead>\n",
       "    <tr style=\"text-align: right;\">\n",
       "      <th>Monthly</th>\n",
       "      <th>April</th>\n",
       "      <th>August</th>\n",
       "      <th>December</th>\n",
       "      <th>February</th>\n",
       "      <th>January</th>\n",
       "      <th>July</th>\n",
       "      <th>June</th>\n",
       "      <th>March</th>\n",
       "      <th>May</th>\n",
       "      <th>November</th>\n",
       "      <th>October</th>\n",
       "      <th>September</th>\n",
       "    </tr>\n",
       "    <tr>\n",
       "      <th>Product</th>\n",
       "      <th></th>\n",
       "      <th></th>\n",
       "      <th></th>\n",
       "      <th></th>\n",
       "      <th></th>\n",
       "      <th></th>\n",
       "      <th></th>\n",
       "      <th></th>\n",
       "      <th></th>\n",
       "      <th></th>\n",
       "      <th></th>\n",
       "      <th></th>\n",
       "    </tr>\n",
       "  </thead>\n",
       "  <tbody>\n",
       "    <tr>\n",
       "      <th>Gold</th>\n",
       "      <td>13170572.59</td>\n",
       "      <td>4954030.42</td>\n",
       "      <td>2332940.96</td>\n",
       "      <td>24779179.55</td>\n",
       "      <td>32413831.83</td>\n",
       "      <td>5167416.37</td>\n",
       "      <td>6538862.64</td>\n",
       "      <td>19256972.48</td>\n",
       "      <td>21548169.76</td>\n",
       "      <td>9203267.46</td>\n",
       "      <td>3018223.38</td>\n",
       "      <td>3816887.62</td>\n",
       "    </tr>\n",
       "    <tr>\n",
       "      <th>Platimum</th>\n",
       "      <td>5182493.86</td>\n",
       "      <td>1714762.80</td>\n",
       "      <td>750156.19</td>\n",
       "      <td>9134054.58</td>\n",
       "      <td>14951578.51</td>\n",
       "      <td>1288156.26</td>\n",
       "      <td>2965712.71</td>\n",
       "      <td>7288837.68</td>\n",
       "      <td>8151926.49</td>\n",
       "      <td>2741618.42</td>\n",
       "      <td>550275.04</td>\n",
       "      <td>1667840.84</td>\n",
       "    </tr>\n",
       "    <tr>\n",
       "      <th>Silver</th>\n",
       "      <td>1902322.65</td>\n",
       "      <td>293109.82</td>\n",
       "      <td>200537.90</td>\n",
       "      <td>2087018.37</td>\n",
       "      <td>4206383.62</td>\n",
       "      <td>530153.72</td>\n",
       "      <td>689537.61</td>\n",
       "      <td>3909405.83</td>\n",
       "      <td>2140940.01</td>\n",
       "      <td>691102.63</td>\n",
       "      <td>100001.50</td>\n",
       "      <td>442803.13</td>\n",
       "    </tr>\n",
       "  </tbody>\n",
       "</table>\n",
       "</div>"
      ],
      "text/plain": [
       "Monthly         April      August    December     February      January  \\\n",
       "Product                                                                   \n",
       "Gold      13170572.59  4954030.42  2332940.96  24779179.55  32413831.83   \n",
       "Platimum   5182493.86  1714762.80   750156.19   9134054.58  14951578.51   \n",
       "Silver     1902322.65   293109.82   200537.90   2087018.37   4206383.62   \n",
       "\n",
       "Monthly         July        June        March          May    November  \\\n",
       "Product                                                                  \n",
       "Gold      5167416.37  6538862.64  19256972.48  21548169.76  9203267.46   \n",
       "Platimum  1288156.26  2965712.71   7288837.68   8151926.49  2741618.42   \n",
       "Silver     530153.72   689537.61   3909405.83   2140940.01   691102.63   \n",
       "\n",
       "Monthly      October   September  \n",
       "Product                           \n",
       "Gold      3018223.38  3816887.62  \n",
       "Platimum   550275.04  1667840.84  \n",
       "Silver     100001.50   442803.13  "
      ]
     },
     "execution_count": 198,
     "metadata": {},
     "output_type": "execute_result"
    }
   ],
   "source": [
    "product_wise"
   ]
  },
  {
   "cell_type": "code",
   "execution_count": 199,
   "id": "73a516ac",
   "metadata": {
    "ExecuteTime": {
     "end_time": "2023-04-22T14:50:03.980733Z",
     "start_time": "2023-04-22T14:50:03.150946Z"
    }
   },
   "outputs": [
    {
     "data": {
      "image/png": "[encoded data removed]",
      "text/plain": [
       "<Figure size 1800x600 with 1 Axes>"
      ]
     },
     "metadata": {},
     "output_type": "display_data"
    }
   ],
   "source": [
    "product_wise.plot(kind=\"bar\",figsize=(18,6),width=0.8)\n",
    "plt.ylabel(\"Amount Spend\")\n",
    "plt.title(\"Amount spent monthly on different products\")\n",
    "plt.show()"
   ]
  },
  {
   "cell_type": "code",
   "execution_count": 200,
   "id": "cb1032e7",
   "metadata": {
    "ExecuteTime": {
     "end_time": "2023-04-22T14:50:56.846340Z",
     "start_time": "2023-04-22T14:50:56.830351Z"
    }
   },
   "outputs": [],
   "source": [
    "#5"
   ]
  },
  {
   "cell_type": "code",
   "execution_count": 201,
   "id": "6632398f",
   "metadata": {
    "ExecuteTime": {
     "end_time": "2023-04-22T14:51:07.791269Z",
     "start_time": "2023-04-22T14:51:07.568129Z"
    }
   },
   "outputs": [
    {
     "data": {
      "text/html": [
       "<div>\n",
       "<style scoped>\n",
       "    .dataframe tbody tr th:only-of-type {\n",
       "        vertical-align: middle;\n",
       "    }\n",
       "\n",
       "    .dataframe tbody tr th {\n",
       "        vertical-align: top;\n",
       "    }\n",
       "\n",
       "    .dataframe thead th {\n",
       "        text-align: right;\n",
       "    }\n",
       "</style>\n",
       "<table border=\"1\" class=\"dataframe\">\n",
       "  <thead>\n",
       "    <tr style=\"text-align: right;\">\n",
       "      <th></th>\n",
       "      <th>SL No:</th>\n",
       "      <th>Customer</th>\n",
       "      <th>Month</th>\n",
       "      <th>Amount</th>\n",
       "      <th>Unnamed: 4</th>\n",
       "      <th>No</th>\n",
       "      <th>Age</th>\n",
       "      <th>City</th>\n",
       "      <th>Product</th>\n",
       "      <th>Limit</th>\n",
       "      <th>Company</th>\n",
       "      <th>Segment</th>\n",
       "    </tr>\n",
       "  </thead>\n",
       "  <tbody>\n",
       "    <tr>\n",
       "      <th>0</th>\n",
       "      <td>NaN</td>\n",
       "      <td>A1</td>\n",
       "      <td>12-Jan-04</td>\n",
       "      <td>495414.75</td>\n",
       "      <td>NaN</td>\n",
       "      <td>1</td>\n",
       "      <td>76.0</td>\n",
       "      <td>BANGALORE</td>\n",
       "      <td>Gold</td>\n",
       "      <td>500000.0</td>\n",
       "      <td>C1</td>\n",
       "      <td>Self Employed</td>\n",
       "    </tr>\n",
       "    <tr>\n",
       "      <th>1</th>\n",
       "      <td>2.0</td>\n",
       "      <td>A1</td>\n",
       "      <td>3-Jan-04</td>\n",
       "      <td>245899.02</td>\n",
       "      <td>NaN</td>\n",
       "      <td>1</td>\n",
       "      <td>76.0</td>\n",
       "      <td>BANGALORE</td>\n",
       "      <td>Gold</td>\n",
       "      <td>500000.0</td>\n",
       "      <td>C1</td>\n",
       "      <td>Self Employed</td>\n",
       "    </tr>\n",
       "  </tbody>\n",
       "</table>\n",
       "</div>"
      ],
      "text/plain": [
       "   SL No: Customer      Month     Amount  Unnamed: 4  No   Age       City  \\\n",
       "0     NaN       A1  12-Jan-04  495414.75         NaN   1  76.0  BANGALORE   \n",
       "1     2.0       A1   3-Jan-04  245899.02         NaN   1  76.0  BANGALORE   \n",
       "\n",
       "  Product     Limit Company        Segment  \n",
       "0    Gold  500000.0      C1  Self Employed  \n",
       "1    Gold  500000.0      C1  Self Employed  "
      ]
     },
     "execution_count": 201,
     "metadata": {},
     "output_type": "execute_result"
    }
   ],
   "source": [
    "customer_repay.head(2)"
   ]
  },
  {
   "cell_type": "code",
   "execution_count": 202,
   "id": "44fff63d",
   "metadata": {
    "ExecuteTime": {
     "end_time": "2023-04-22T14:51:10.226192Z",
     "start_time": "2023-04-22T14:51:10.161360Z"
    }
   },
   "outputs": [],
   "source": [
    "# converting 'Month' column to date time format\n",
    "customer_repay['Month'] = pd.to_datetime(customer_repay['Month'])"
   ]
  },
  {
   "cell_type": "code",
   "execution_count": 203,
   "id": "2a41d9ff",
   "metadata": {
    "ExecuteTime": {
     "end_time": "2023-04-22T14:51:19.954830Z",
     "start_time": "2023-04-22T14:51:19.792294Z"
    }
   },
   "outputs": [],
   "source": [
    "#creating new column \"Monthly\" and \"Yearly\" using already existing 'Month' column\n",
    "customer_repay['Monthly'] = customer_repay['Month'].apply(lambda x:pd.Timestamp.strftime(x,format=\"%B\"))\n",
    "customer_repay['Yearly'] = customer_repay['Month'].apply(lambda x:pd.Timestamp.strftime(x,format=\"%Y\"))"
   ]
  },
  {
   "cell_type": "code",
   "execution_count": 204,
   "id": "85fa4740",
   "metadata": {
    "ExecuteTime": {
     "end_time": "2023-04-22T14:51:34.574433Z",
     "start_time": "2023-04-22T14:51:34.426832Z"
    }
   },
   "outputs": [],
   "source": [
    "def summary_report(product,timeperiod):\n",
    "    print('Give the product name and timeperiod for which you want the data')\n",
    "    if product.lower()=='gold' and timeperiod.lower()=='monthly':\n",
    "        pivot = customer_repay.pivot_table(index=['Product','City','Customer'],columns='Monthly',aggfunc='sum',values='Amount')\n",
    "        result = pivot.loc[('Gold',['BANGALORE','COCHIN','CALCUTTA','BOMBAY','CHENNAI','TRIVANDRUM','PATNA','DELHI']),:]\n",
    "    elif product.lower()=='gold' and timeperiod.lower()=='yearly':\n",
    "        pivot = customer_repay.pivot_table(index=['Product','City','Customer'],columns='Yearly',aggfunc='sum',values='Amount')\n",
    "        result = pivot.loc[('Gold',['BANGALORE','COCHIN','CALCUTTA','BOMBAY','CHENNAI','TRIVANDRUM','PATNA','DELHI']),:]\n",
    "    elif product.lower()=='silver' and timeperiod.lower()=='monthly':\n",
    "        pivot = customer_repay.pivot_table(index=['Product','City','Customer'],columns='Monthly',aggfunc='sum',values='Amount')\n",
    "        result = pivot.loc[('Silver',['BANGALORE','COCHIN','CALCUTTA','BOMBAY','CHENNAI','TRIVANDRUM','PATNA','DELHI']),:]\n",
    "    elif product.lower()=='silver' and timeperiod.lower()=='yearly':\n",
    "        pivot = customer_repay.pivot_table(index=['Product','City','Customer'],columns='Yearly',aggfunc='sum',values='Amount')\n",
    "        result = pivot.loc[('Silver',['BANGALORE','COCHIN','CALCUTTA','BOMBAY','CHENNAI','TRIVANDRUM','PATNA','DELHI']),:]\n",
    "    if product.lower()=='platinum' and timeperiod.lower()=='monthly':\n",
    "        pivot = customer_repay.pivot_table(index=['Product','City','Customer'],columns='Monthly',aggfunc='sum',values='Amount')\n",
    "        result = pivot.loc[('Platinum',['BANGALORE','COCHIN','CALCUTTA','BOMBAY','CHENNAI','TRIVANDRUM','PATNA','DELHI']),:]\n",
    "    elif product.lower()=='platinum' and timeperiod.lower()=='yearly':\n",
    "        pivot = customer_repay.pivot_table(index=['Product','City','Customer'],columns='Yearly',aggfunc='sum',values='Amount')\n",
    "        result = pivot.loc[('Platinum',['BANGALORE','COCHIN','CALCUTTA','BOMBAY','CHENNAI','TRIVANDRUM','PATNA','DELHI']),:]\n",
    "    return result"
   ]
  },
  {
   "cell_type": "code",
   "execution_count": 205,
   "id": "5136cde6",
   "metadata": {
    "ExecuteTime": {
     "end_time": "2023-04-22T14:51:44.087398Z",
     "start_time": "2023-04-22T14:51:43.598848Z"
    }
   },
   "outputs": [
    {
     "name": "stdout",
     "output_type": "stream",
     "text": [
      "Give the product name and timeperiod for which you want the data\n"
     ]
    },
    {
     "data": {
      "text/html": [
       "<div>\n",
       "<style scoped>\n",
       "    .dataframe tbody tr th:only-of-type {\n",
       "        vertical-align: middle;\n",
       "    }\n",
       "\n",
       "    .dataframe tbody tr th {\n",
       "        vertical-align: top;\n",
       "    }\n",
       "\n",
       "    .dataframe thead th {\n",
       "        text-align: right;\n",
       "    }\n",
       "</style>\n",
       "<table border=\"1\" class=\"dataframe\">\n",
       "  <thead>\n",
       "    <tr style=\"text-align: right;\">\n",
       "      <th></th>\n",
       "      <th></th>\n",
       "      <th>Monthly</th>\n",
       "      <th>April</th>\n",
       "      <th>August</th>\n",
       "      <th>December</th>\n",
       "      <th>February</th>\n",
       "      <th>January</th>\n",
       "      <th>July</th>\n",
       "      <th>June</th>\n",
       "      <th>March</th>\n",
       "      <th>May</th>\n",
       "      <th>November</th>\n",
       "      <th>October</th>\n",
       "      <th>September</th>\n",
       "    </tr>\n",
       "    <tr>\n",
       "      <th>Product</th>\n",
       "      <th>City</th>\n",
       "      <th>Customer</th>\n",
       "      <th></th>\n",
       "      <th></th>\n",
       "      <th></th>\n",
       "      <th></th>\n",
       "      <th></th>\n",
       "      <th></th>\n",
       "      <th></th>\n",
       "      <th></th>\n",
       "      <th></th>\n",
       "      <th></th>\n",
       "      <th></th>\n",
       "      <th></th>\n",
       "    </tr>\n",
       "  </thead>\n",
       "  <tbody>\n",
       "    <tr>\n",
       "      <th rowspan=\"38\" valign=\"top\">Gold</th>\n",
       "      <th rowspan=\"9\" valign=\"top\">BANGALORE</th>\n",
       "      <th>A1</th>\n",
       "      <td>508949.16</td>\n",
       "      <td>NaN</td>\n",
       "      <td>NaN</td>\n",
       "      <td>781873.80</td>\n",
       "      <td>2407806.29</td>\n",
       "      <td>297176.74</td>\n",
       "      <td>NaN</td>\n",
       "      <td>NaN</td>\n",
       "      <td>NaN</td>\n",
       "      <td>571458.18</td>\n",
       "      <td>NaN</td>\n",
       "      <td>186427.50</td>\n",
       "    </tr>\n",
       "    <tr>\n",
       "      <th>A13</th>\n",
       "      <td>494392.40</td>\n",
       "      <td>873304.51</td>\n",
       "      <td>NaN</td>\n",
       "      <td>2049808.15</td>\n",
       "      <td>2014186.98</td>\n",
       "      <td>424603.55</td>\n",
       "      <td>837101.91</td>\n",
       "      <td>1183569.05</td>\n",
       "      <td>632600.75</td>\n",
       "      <td>622592.45</td>\n",
       "      <td>NaN</td>\n",
       "      <td>439840.91</td>\n",
       "    </tr>\n",
       "    <tr>\n",
       "      <th>A14</th>\n",
       "      <td>812582.20</td>\n",
       "      <td>198623.13</td>\n",
       "      <td>388821.96</td>\n",
       "      <td>1482923.34</td>\n",
       "      <td>993114.87</td>\n",
       "      <td>41962.19</td>\n",
       "      <td>41128.98</td>\n",
       "      <td>1682886.51</td>\n",
       "      <td>1418286.63</td>\n",
       "      <td>420638.02</td>\n",
       "      <td>NaN</td>\n",
       "      <td>462300.80</td>\n",
       "    </tr>\n",
       "    <tr>\n",
       "      <th>A30</th>\n",
       "      <td>425694.16</td>\n",
       "      <td>NaN</td>\n",
       "      <td>NaN</td>\n",
       "      <td>1321469.80</td>\n",
       "      <td>608066.49</td>\n",
       "      <td>NaN</td>\n",
       "      <td>72609.24</td>\n",
       "      <td>599331.38</td>\n",
       "      <td>3086549.14</td>\n",
       "      <td>NaN</td>\n",
       "      <td>NaN</td>\n",
       "      <td>19761.75</td>\n",
       "    </tr>\n",
       "    <tr>\n",
       "      <th>A43</th>\n",
       "      <td>612541.80</td>\n",
       "      <td>NaN</td>\n",
       "      <td>NaN</td>\n",
       "      <td>763846.93</td>\n",
       "      <td>1978038.15</td>\n",
       "      <td>803935.53</td>\n",
       "      <td>23525.91</td>\n",
       "      <td>1378774.72</td>\n",
       "      <td>2058983.99</td>\n",
       "      <td>454364.16</td>\n",
       "      <td>415860.27</td>\n",
       "      <td>NaN</td>\n",
       "    </tr>\n",
       "    <tr>\n",
       "      <th>A63</th>\n",
       "      <td>NaN</td>\n",
       "      <td>NaN</td>\n",
       "      <td>NaN</td>\n",
       "      <td>NaN</td>\n",
       "      <td>372179.26</td>\n",
       "      <td>NaN</td>\n",
       "      <td>NaN</td>\n",
       "      <td>NaN</td>\n",
       "      <td>416676.34</td>\n",
       "      <td>211117.12</td>\n",
       "      <td>NaN</td>\n",
       "      <td>NaN</td>\n",
       "    </tr>\n",
       "    <tr>\n",
       "      <th>A81</th>\n",
       "      <td>NaN</td>\n",
       "      <td>NaN</td>\n",
       "      <td>NaN</td>\n",
       "      <td>NaN</td>\n",
       "      <td>NaN</td>\n",
       "      <td>NaN</td>\n",
       "      <td>NaN</td>\n",
       "      <td>207780.32</td>\n",
       "      <td>NaN</td>\n",
       "      <td>NaN</td>\n",
       "      <td>NaN</td>\n",
       "      <td>NaN</td>\n",
       "    </tr>\n",
       "    <tr>\n",
       "      <th>A88</th>\n",
       "      <td>NaN</td>\n",
       "      <td>NaN</td>\n",
       "      <td>NaN</td>\n",
       "      <td>NaN</td>\n",
       "      <td>NaN</td>\n",
       "      <td>NaN</td>\n",
       "      <td>NaN</td>\n",
       "      <td>146821.30</td>\n",
       "      <td>NaN</td>\n",
       "      <td>NaN</td>\n",
       "      <td>NaN</td>\n",
       "      <td>NaN</td>\n",
       "    </tr>\n",
       "    <tr>\n",
       "      <th>A92</th>\n",
       "      <td>459105.69</td>\n",
       "      <td>NaN</td>\n",
       "      <td>NaN</td>\n",
       "      <td>NaN</td>\n",
       "      <td>NaN</td>\n",
       "      <td>NaN</td>\n",
       "      <td>NaN</td>\n",
       "      <td>NaN</td>\n",
       "      <td>NaN</td>\n",
       "      <td>NaN</td>\n",
       "      <td>NaN</td>\n",
       "      <td>NaN</td>\n",
       "    </tr>\n",
       "    <tr>\n",
       "      <th rowspan=\"8\" valign=\"top\">COCHIN</th>\n",
       "      <th>A11</th>\n",
       "      <td>958466.08</td>\n",
       "      <td>332677.61</td>\n",
       "      <td>NaN</td>\n",
       "      <td>1069789.26</td>\n",
       "      <td>958556.39</td>\n",
       "      <td>128484.37</td>\n",
       "      <td>NaN</td>\n",
       "      <td>508638.02</td>\n",
       "      <td>1354322.30</td>\n",
       "      <td>NaN</td>\n",
       "      <td>NaN</td>\n",
       "      <td>NaN</td>\n",
       "    </tr>\n",
       "    <tr>\n",
       "      <th>A16</th>\n",
       "      <td>338710.86</td>\n",
       "      <td>NaN</td>\n",
       "      <td>NaN</td>\n",
       "      <td>331143.85</td>\n",
       "      <td>1071852.72</td>\n",
       "      <td>367100.15</td>\n",
       "      <td>92055.06</td>\n",
       "      <td>886861.02</td>\n",
       "      <td>572216.09</td>\n",
       "      <td>260514.95</td>\n",
       "      <td>NaN</td>\n",
       "      <td>339373.25</td>\n",
       "    </tr>\n",
       "    <tr>\n",
       "      <th>A32</th>\n",
       "      <td>333042.82</td>\n",
       "      <td>99528.43</td>\n",
       "      <td>NaN</td>\n",
       "      <td>851127.91</td>\n",
       "      <td>NaN</td>\n",
       "      <td>137150.37</td>\n",
       "      <td>284410.26</td>\n",
       "      <td>540858.16</td>\n",
       "      <td>312176.83</td>\n",
       "      <td>NaN</td>\n",
       "      <td>NaN</td>\n",
       "      <td>NaN</td>\n",
       "    </tr>\n",
       "    <tr>\n",
       "      <th>A45</th>\n",
       "      <td>1435443.21</td>\n",
       "      <td>431769.44</td>\n",
       "      <td>410935.52</td>\n",
       "      <td>1241580.90</td>\n",
       "      <td>2033076.43</td>\n",
       "      <td>NaN</td>\n",
       "      <td>303151.38</td>\n",
       "      <td>869686.35</td>\n",
       "      <td>1657916.98</td>\n",
       "      <td>NaN</td>\n",
       "      <td>NaN</td>\n",
       "      <td>64774.66</td>\n",
       "    </tr>\n",
       "    <tr>\n",
       "      <th>A61</th>\n",
       "      <td>3412860.60</td>\n",
       "      <td>197804.13</td>\n",
       "      <td>NaN</td>\n",
       "      <td>1345911.54</td>\n",
       "      <td>1755251.93</td>\n",
       "      <td>441593.08</td>\n",
       "      <td>NaN</td>\n",
       "      <td>382632.66</td>\n",
       "      <td>1819382.29</td>\n",
       "      <td>423828.84</td>\n",
       "      <td>289863.84</td>\n",
       "      <td>470014.00</td>\n",
       "    </tr>\n",
       "    <tr>\n",
       "      <th>A65</th>\n",
       "      <td>NaN</td>\n",
       "      <td>NaN</td>\n",
       "      <td>NaN</td>\n",
       "      <td>NaN</td>\n",
       "      <td>468922.60</td>\n",
       "      <td>NaN</td>\n",
       "      <td>NaN</td>\n",
       "      <td>NaN</td>\n",
       "      <td>230667.34</td>\n",
       "      <td>NaN</td>\n",
       "      <td>NaN</td>\n",
       "      <td>NaN</td>\n",
       "    </tr>\n",
       "    <tr>\n",
       "      <th>A90</th>\n",
       "      <td>109931.32</td>\n",
       "      <td>NaN</td>\n",
       "      <td>NaN</td>\n",
       "      <td>NaN</td>\n",
       "      <td>NaN</td>\n",
       "      <td>NaN</td>\n",
       "      <td>NaN</td>\n",
       "      <td>NaN</td>\n",
       "      <td>NaN</td>\n",
       "      <td>NaN</td>\n",
       "      <td>NaN</td>\n",
       "      <td>NaN</td>\n",
       "    </tr>\n",
       "    <tr>\n",
       "      <th>A94</th>\n",
       "      <td>NaN</td>\n",
       "      <td>NaN</td>\n",
       "      <td>NaN</td>\n",
       "      <td>NaN</td>\n",
       "      <td>153465.89</td>\n",
       "      <td>NaN</td>\n",
       "      <td>NaN</td>\n",
       "      <td>NaN</td>\n",
       "      <td>NaN</td>\n",
       "      <td>NaN</td>\n",
       "      <td>NaN</td>\n",
       "      <td>NaN</td>\n",
       "    </tr>\n",
       "    <tr>\n",
       "      <th rowspan=\"6\" valign=\"top\">CALCUTTA</th>\n",
       "      <th>A10</th>\n",
       "      <td>478747.41</td>\n",
       "      <td>NaN</td>\n",
       "      <td>NaN</td>\n",
       "      <td>652033.51</td>\n",
       "      <td>1091589.54</td>\n",
       "      <td>358194.65</td>\n",
       "      <td>NaN</td>\n",
       "      <td>720391.63</td>\n",
       "      <td>394690.78</td>\n",
       "      <td>NaN</td>\n",
       "      <td>NaN</td>\n",
       "      <td>NaN</td>\n",
       "    </tr>\n",
       "    <tr>\n",
       "      <th>A15</th>\n",
       "      <td>NaN</td>\n",
       "      <td>17981.25</td>\n",
       "      <td>NaN</td>\n",
       "      <td>516544.51</td>\n",
       "      <td>1051502.61</td>\n",
       "      <td>NaN</td>\n",
       "      <td>49334.38</td>\n",
       "      <td>1738696.08</td>\n",
       "      <td>1953768.97</td>\n",
       "      <td>NaN</td>\n",
       "      <td>227585.03</td>\n",
       "      <td>NaN</td>\n",
       "    </tr>\n",
       "    <tr>\n",
       "      <th>A29</th>\n",
       "      <td>NaN</td>\n",
       "      <td>534103.41</td>\n",
       "      <td>NaN</td>\n",
       "      <td>627147.67</td>\n",
       "      <td>1474900.52</td>\n",
       "      <td>NaN</td>\n",
       "      <td>NaN</td>\n",
       "      <td>1269579.93</td>\n",
       "      <td>2612139.63</td>\n",
       "      <td>NaN</td>\n",
       "      <td>NaN</td>\n",
       "      <td>NaN</td>\n",
       "    </tr>\n",
       "    <tr>\n",
       "      <th>A31</th>\n",
       "      <td>13054.67</td>\n",
       "      <td>NaN</td>\n",
       "      <td>NaN</td>\n",
       "      <td>962656.24</td>\n",
       "      <td>NaN</td>\n",
       "      <td>130109.14</td>\n",
       "      <td>NaN</td>\n",
       "      <td>845269.25</td>\n",
       "      <td>1432949.95</td>\n",
       "      <td>NaN</td>\n",
       "      <td>NaN</td>\n",
       "      <td>NaN</td>\n",
       "    </tr>\n",
       "    <tr>\n",
       "      <th>A60</th>\n",
       "      <td>2397565.91</td>\n",
       "      <td>735660.40</td>\n",
       "      <td>NaN</td>\n",
       "      <td>1403731.08</td>\n",
       "      <td>2465584.81</td>\n",
       "      <td>273877.36</td>\n",
       "      <td>657931.74</td>\n",
       "      <td>109367.55</td>\n",
       "      <td>1189900.27</td>\n",
       "      <td>294357.01</td>\n",
       "      <td>NaN</td>\n",
       "      <td>348314.61</td>\n",
       "    </tr>\n",
       "    <tr>\n",
       "      <th>A89</th>\n",
       "      <td>497237.97</td>\n",
       "      <td>NaN</td>\n",
       "      <td>NaN</td>\n",
       "      <td>NaN</td>\n",
       "      <td>NaN</td>\n",
       "      <td>NaN</td>\n",
       "      <td>NaN</td>\n",
       "      <td>NaN</td>\n",
       "      <td>NaN</td>\n",
       "      <td>NaN</td>\n",
       "      <td>NaN</td>\n",
       "      <td>NaN</td>\n",
       "    </tr>\n",
       "    <tr>\n",
       "      <th rowspan=\"5\" valign=\"top\">BOMBAY</th>\n",
       "      <th>A12</th>\n",
       "      <td>601326.07</td>\n",
       "      <td>120471.17</td>\n",
       "      <td>NaN</td>\n",
       "      <td>1978117.59</td>\n",
       "      <td>1220387.18</td>\n",
       "      <td>1201928.94</td>\n",
       "      <td>526225.82</td>\n",
       "      <td>1001134.17</td>\n",
       "      <td>1048233.62</td>\n",
       "      <td>NaN</td>\n",
       "      <td>347528.59</td>\n",
       "      <td>289407.01</td>\n",
       "    </tr>\n",
       "    <tr>\n",
       "      <th>A17</th>\n",
       "      <td>391463.29</td>\n",
       "      <td>98341.04</td>\n",
       "      <td>479227.30</td>\n",
       "      <td>374865.01</td>\n",
       "      <td>761645.74</td>\n",
       "      <td>118112.45</td>\n",
       "      <td>257937.78</td>\n",
       "      <td>2007441.50</td>\n",
       "      <td>382881.69</td>\n",
       "      <td>NaN</td>\n",
       "      <td>412459.19</td>\n",
       "      <td>NaN</td>\n",
       "    </tr>\n",
       "    <tr>\n",
       "      <th>A42</th>\n",
       "      <td>173199.87</td>\n",
       "      <td>NaN</td>\n",
       "      <td>NaN</td>\n",
       "      <td>476213.23</td>\n",
       "      <td>2516249.24</td>\n",
       "      <td>NaN</td>\n",
       "      <td>NaN</td>\n",
       "      <td>579721.80</td>\n",
       "      <td>3305341.39</td>\n",
       "      <td>362899.70</td>\n",
       "      <td>197897.82</td>\n",
       "      <td>3937.81</td>\n",
       "    </tr>\n",
       "    <tr>\n",
       "      <th>A62</th>\n",
       "      <td>1115760.01</td>\n",
       "      <td>NaN</td>\n",
       "      <td>NaN</td>\n",
       "      <td>478764.07</td>\n",
       "      <td>996722.42</td>\n",
       "      <td>NaN</td>\n",
       "      <td>NaN</td>\n",
       "      <td>546251.18</td>\n",
       "      <td>758067.14</td>\n",
       "      <td>798121.60</td>\n",
       "      <td>276130.73</td>\n",
       "      <td>NaN</td>\n",
       "    </tr>\n",
       "    <tr>\n",
       "      <th>A91</th>\n",
       "      <td>247781.00</td>\n",
       "      <td>NaN</td>\n",
       "      <td>NaN</td>\n",
       "      <td>NaN</td>\n",
       "      <td>NaN</td>\n",
       "      <td>NaN</td>\n",
       "      <td>NaN</td>\n",
       "      <td>NaN</td>\n",
       "      <td>NaN</td>\n",
       "      <td>NaN</td>\n",
       "      <td>NaN</td>\n",
       "      <td>NaN</td>\n",
       "    </tr>\n",
       "    <tr>\n",
       "      <th rowspan=\"2\" valign=\"top\">CHENNAI</th>\n",
       "      <th>A27</th>\n",
       "      <td>379529.81</td>\n",
       "      <td>472123.57</td>\n",
       "      <td>136860.63</td>\n",
       "      <td>841114.02</td>\n",
       "      <td>1215350.93</td>\n",
       "      <td>241912.50</td>\n",
       "      <td>484419.68</td>\n",
       "      <td>976107.81</td>\n",
       "      <td>1855518.11</td>\n",
       "      <td>409963.50</td>\n",
       "      <td>NaN</td>\n",
       "      <td>NaN</td>\n",
       "    </tr>\n",
       "    <tr>\n",
       "      <th>A67</th>\n",
       "      <td>NaN</td>\n",
       "      <td>NaN</td>\n",
       "      <td>NaN</td>\n",
       "      <td>NaN</td>\n",
       "      <td>67845.60</td>\n",
       "      <td>NaN</td>\n",
       "      <td>NaN</td>\n",
       "      <td>NaN</td>\n",
       "      <td>55638.77</td>\n",
       "      <td>NaN</td>\n",
       "      <td>NaN</td>\n",
       "      <td>NaN</td>\n",
       "    </tr>\n",
       "    <tr>\n",
       "      <th>TRIVANDRUM</th>\n",
       "      <th>A28</th>\n",
       "      <td>115326.71</td>\n",
       "      <td>437823.07</td>\n",
       "      <td>451630.26</td>\n",
       "      <td>968709.79</td>\n",
       "      <td>1034461.46</td>\n",
       "      <td>380460.40</td>\n",
       "      <td>NaN</td>\n",
       "      <td>1547067.86</td>\n",
       "      <td>2233253.41</td>\n",
       "      <td>NaN</td>\n",
       "      <td>NaN</td>\n",
       "      <td>NaN</td>\n",
       "    </tr>\n",
       "    <tr>\n",
       "      <th rowspan=\"3\" valign=\"top\">PATNA</th>\n",
       "      <th>A26</th>\n",
       "      <td>558432.60</td>\n",
       "      <td>398164.37</td>\n",
       "      <td>417177.67</td>\n",
       "      <td>1298000.32</td>\n",
       "      <td>1129827.37</td>\n",
       "      <td>213185.89</td>\n",
       "      <td>NaN</td>\n",
       "      <td>416810.29</td>\n",
       "      <td>2215839.66</td>\n",
       "      <td>255915.07</td>\n",
       "      <td>351333.85</td>\n",
       "      <td>NaN</td>\n",
       "    </tr>\n",
       "    <tr>\n",
       "      <th>A66</th>\n",
       "      <td>NaN</td>\n",
       "      <td>NaN</td>\n",
       "      <td>NaN</td>\n",
       "      <td>NaN</td>\n",
       "      <td>477039.78</td>\n",
       "      <td>NaN</td>\n",
       "      <td>NaN</td>\n",
       "      <td>NaN</td>\n",
       "      <td>113094.58</td>\n",
       "      <td>NaN</td>\n",
       "      <td>NaN</td>\n",
       "      <td>NaN</td>\n",
       "    </tr>\n",
       "    <tr>\n",
       "      <th>A95</th>\n",
       "      <td>NaN</td>\n",
       "      <td>NaN</td>\n",
       "      <td>NaN</td>\n",
       "      <td>NaN</td>\n",
       "      <td>369405.96</td>\n",
       "      <td>NaN</td>\n",
       "      <td>NaN</td>\n",
       "      <td>NaN</td>\n",
       "      <td>NaN</td>\n",
       "      <td>NaN</td>\n",
       "      <td>NaN</td>\n",
       "      <td>NaN</td>\n",
       "    </tr>\n",
       "    <tr>\n",
       "      <th rowspan=\"4\" valign=\"top\">DELHI</th>\n",
       "      <th>A44</th>\n",
       "      <td>346650.76</td>\n",
       "      <td>539494.72</td>\n",
       "      <td>79696.21</td>\n",
       "      <td>745752.19</td>\n",
       "      <td>2415712.91</td>\n",
       "      <td>501962.99</td>\n",
       "      <td>NaN</td>\n",
       "      <td>696222.43</td>\n",
       "      <td>1988158.24</td>\n",
       "      <td>431079.67</td>\n",
       "      <td>NaN</td>\n",
       "      <td>NaN</td>\n",
       "    </tr>\n",
       "    <tr>\n",
       "      <th>A64</th>\n",
       "      <td>NaN</td>\n",
       "      <td>NaN</td>\n",
       "      <td>212614.48</td>\n",
       "      <td>NaN</td>\n",
       "      <td>NaN</td>\n",
       "      <td>NaN</td>\n",
       "      <td>NaN</td>\n",
       "      <td>NaN</td>\n",
       "      <td>110614.61</td>\n",
       "      <td>NaN</td>\n",
       "      <td>NaN</td>\n",
       "      <td>NaN</td>\n",
       "    </tr>\n",
       "    <tr>\n",
       "      <th>A82</th>\n",
       "      <td>NaN</td>\n",
       "      <td>NaN</td>\n",
       "      <td>NaN</td>\n",
       "      <td>NaN</td>\n",
       "      <td>NaN</td>\n",
       "      <td>NaN</td>\n",
       "      <td>NaN</td>\n",
       "      <td>342200.74</td>\n",
       "      <td>NaN</td>\n",
       "      <td>NaN</td>\n",
       "      <td>NaN</td>\n",
       "      <td>NaN</td>\n",
       "    </tr>\n",
       "    <tr>\n",
       "      <th>A93</th>\n",
       "      <td>NaN</td>\n",
       "      <td>NaN</td>\n",
       "      <td>NaN</td>\n",
       "      <td>NaN</td>\n",
       "      <td>342326.14</td>\n",
       "      <td>NaN</td>\n",
       "      <td>NaN</td>\n",
       "      <td>NaN</td>\n",
       "      <td>NaN</td>\n",
       "      <td>NaN</td>\n",
       "      <td>NaN</td>\n",
       "      <td>NaN</td>\n",
       "    </tr>\n",
       "  </tbody>\n",
       "</table>\n",
       "</div>"
      ],
      "text/plain": [
       "Monthly                           April     August   December    February  \\\n",
       "Product City       Customer                                                 \n",
       "Gold    BANGALORE  A1         508949.16        NaN        NaN   781873.80   \n",
       "                   A13        494392.40  873304.51        NaN  2049808.15   \n",
       "                   A14        812582.20  198623.13  388821.96  1482923.34   \n",
       "                   A30        425694.16        NaN        NaN  1321469.80   \n",
       "                   A43        612541.80        NaN        NaN   763846.93   \n",
       "                   A63              NaN        NaN        NaN         NaN   \n",
       "                   A81              NaN        NaN        NaN         NaN   \n",
       "                   A88              NaN        NaN        NaN         NaN   \n",
       "                   A92        459105.69        NaN        NaN         NaN   \n",
       "        COCHIN     A11        958466.08  332677.61        NaN  1069789.26   \n",
       "                   A16        338710.86        NaN        NaN   331143.85   \n",
       "                   A32        333042.82   99528.43        NaN   851127.91   \n",
       "                   A45       1435443.21  431769.44  410935.52  1241580.90   \n",
       "                   A61       3412860.60  197804.13        NaN  1345911.54   \n",
       "                   A65              NaN        NaN        NaN         NaN   \n",
       "                   A90        109931.32        NaN        NaN         NaN   \n",
       "                   A94              NaN        NaN        NaN         NaN   \n",
       "        CALCUTTA   A10        478747.41        NaN        NaN   652033.51   \n",
       "                   A15              NaN   17981.25        NaN   516544.51   \n",
       "                   A29              NaN  534103.41        NaN   627147.67   \n",
       "                   A31         13054.67        NaN        NaN   962656.24   \n",
       "                   A60       2397565.91  735660.40        NaN  1403731.08   \n",
       "                   A89        497237.97        NaN        NaN         NaN   \n",
       "        BOMBAY     A12        601326.07  120471.17        NaN  1978117.59   \n",
       "                   A17        391463.29   98341.04  479227.30   374865.01   \n",
       "                   A42        173199.87        NaN        NaN   476213.23   \n",
       "                   A62       1115760.01        NaN        NaN   478764.07   \n",
       "                   A91        247781.00        NaN        NaN         NaN   \n",
       "        CHENNAI    A27        379529.81  472123.57  136860.63   841114.02   \n",
       "                   A67              NaN        NaN        NaN         NaN   \n",
       "        TRIVANDRUM A28        115326.71  437823.07  451630.26   968709.79   \n",
       "        PATNA      A26        558432.60  398164.37  417177.67  1298000.32   \n",
       "                   A66              NaN        NaN        NaN         NaN   \n",
       "                   A95              NaN        NaN        NaN         NaN   \n",
       "        DELHI      A44        346650.76  539494.72   79696.21   745752.19   \n",
       "                   A64              NaN        NaN  212614.48         NaN   \n",
       "                   A82              NaN        NaN        NaN         NaN   \n",
       "                   A93              NaN        NaN        NaN         NaN   \n",
       "\n",
       "Monthly                         January        July       June       March  \\\n",
       "Product City       Customer                                                  \n",
       "Gold    BANGALORE  A1        2407806.29   297176.74        NaN         NaN   \n",
       "                   A13       2014186.98   424603.55  837101.91  1183569.05   \n",
       "                   A14        993114.87    41962.19   41128.98  1682886.51   \n",
       "                   A30        608066.49         NaN   72609.24   599331.38   \n",
       "                   A43       1978038.15   803935.53   23525.91  1378774.72   \n",
       "                   A63        372179.26         NaN        NaN         NaN   \n",
       "                   A81              NaN         NaN        NaN   207780.32   \n",
       "                   A88              NaN         NaN        NaN   146821.30   \n",
       "                   A92              NaN         NaN        NaN         NaN   \n",
       "        COCHIN     A11        958556.39   128484.37        NaN   508638.02   \n",
       "                   A16       1071852.72   367100.15   92055.06   886861.02   \n",
       "                   A32              NaN   137150.37  284410.26   540858.16   \n",
       "                   A45       2033076.43         NaN  303151.38   869686.35   \n",
       "                   A61       1755251.93   441593.08        NaN   382632.66   \n",
       "                   A65        468922.60         NaN        NaN         NaN   \n",
       "                   A90              NaN         NaN        NaN         NaN   \n",
       "                   A94        153465.89         NaN        NaN         NaN   \n",
       "        CALCUTTA   A10       1091589.54   358194.65        NaN   720391.63   \n",
       "                   A15       1051502.61         NaN   49334.38  1738696.08   \n",
       "                   A29       1474900.52         NaN        NaN  1269579.93   \n",
       "                   A31              NaN   130109.14        NaN   845269.25   \n",
       "                   A60       2465584.81   273877.36  657931.74   109367.55   \n",
       "                   A89              NaN         NaN        NaN         NaN   \n",
       "        BOMBAY     A12       1220387.18  1201928.94  526225.82  1001134.17   \n",
       "                   A17        761645.74   118112.45  257937.78  2007441.50   \n",
       "                   A42       2516249.24         NaN        NaN   579721.80   \n",
       "                   A62        996722.42         NaN        NaN   546251.18   \n",
       "                   A91              NaN         NaN        NaN         NaN   \n",
       "        CHENNAI    A27       1215350.93   241912.50  484419.68   976107.81   \n",
       "                   A67         67845.60         NaN        NaN         NaN   \n",
       "        TRIVANDRUM A28       1034461.46   380460.40        NaN  1547067.86   \n",
       "        PATNA      A26       1129827.37   213185.89        NaN   416810.29   \n",
       "                   A66        477039.78         NaN        NaN         NaN   \n",
       "                   A95        369405.96         NaN        NaN         NaN   \n",
       "        DELHI      A44       2415712.91   501962.99        NaN   696222.43   \n",
       "                   A64              NaN         NaN        NaN         NaN   \n",
       "                   A82              NaN         NaN        NaN   342200.74   \n",
       "                   A93        342326.14         NaN        NaN         NaN   \n",
       "\n",
       "Monthly                             May   November    October  September  \n",
       "Product City       Customer                                               \n",
       "Gold    BANGALORE  A1               NaN  571458.18        NaN  186427.50  \n",
       "                   A13        632600.75  622592.45        NaN  439840.91  \n",
       "                   A14       1418286.63  420638.02        NaN  462300.80  \n",
       "                   A30       3086549.14        NaN        NaN   19761.75  \n",
       "                   A43       2058983.99  454364.16  415860.27        NaN  \n",
       "                   A63        416676.34  211117.12        NaN        NaN  \n",
       "                   A81              NaN        NaN        NaN        NaN  \n",
       "                   A88              NaN        NaN        NaN        NaN  \n",
       "                   A92              NaN        NaN        NaN        NaN  \n",
       "        COCHIN     A11       1354322.30        NaN        NaN        NaN  \n",
       "                   A16        572216.09  260514.95        NaN  339373.25  \n",
       "                   A32        312176.83        NaN        NaN        NaN  \n",
       "                   A45       1657916.98        NaN        NaN   64774.66  \n",
       "                   A61       1819382.29  423828.84  289863.84  470014.00  \n",
       "                   A65        230667.34        NaN        NaN        NaN  \n",
       "                   A90              NaN        NaN        NaN        NaN  \n",
       "                   A94              NaN        NaN        NaN        NaN  \n",
       "        CALCUTTA   A10        394690.78        NaN        NaN        NaN  \n",
       "                   A15       1953768.97        NaN  227585.03        NaN  \n",
       "                   A29       2612139.63        NaN        NaN        NaN  \n",
       "                   A31       1432949.95        NaN        NaN        NaN  \n",
       "                   A60       1189900.27  294357.01        NaN  348314.61  \n",
       "                   A89              NaN        NaN        NaN        NaN  \n",
       "        BOMBAY     A12       1048233.62        NaN  347528.59  289407.01  \n",
       "                   A17        382881.69        NaN  412459.19        NaN  \n",
       "                   A42       3305341.39  362899.70  197897.82    3937.81  \n",
       "                   A62        758067.14  798121.60  276130.73        NaN  \n",
       "                   A91              NaN        NaN        NaN        NaN  \n",
       "        CHENNAI    A27       1855518.11  409963.50        NaN        NaN  \n",
       "                   A67         55638.77        NaN        NaN        NaN  \n",
       "        TRIVANDRUM A28       2233253.41        NaN        NaN        NaN  \n",
       "        PATNA      A26       2215839.66  255915.07  351333.85        NaN  \n",
       "                   A66        113094.58        NaN        NaN        NaN  \n",
       "                   A95              NaN        NaN        NaN        NaN  \n",
       "        DELHI      A44       1988158.24  431079.67        NaN        NaN  \n",
       "                   A64        110614.61        NaN        NaN        NaN  \n",
       "                   A82              NaN        NaN        NaN        NaN  \n",
       "                   A93              NaN        NaN        NaN        NaN  "
      ]
     },
     "execution_count": 205,
     "metadata": {},
     "output_type": "execute_result"
    }
   ],
   "source": [
    "summary_report('gold','monthly')"
   ]
  },
  {
   "cell_type": "code",
   "execution_count": null,
   "id": "f920e79a",
   "metadata": {},
   "outputs": [],
   "source": []
  }
 ],
 "metadata": {
  "kernelspec": {
   "display_name": "Python 3 (ipykernel)",
   "language": "python",
   "name": "python3"
  },
  "language_info": {
   "codemirror_mode": {
    "name": "ipython",
    "version": 3
   },
   "file_extension": ".py",
   "mimetype": "text/x-python",
   "name": "python",
   "nbconvert_exporter": "python",
   "pygments_lexer": "ipython3",
   "version": "3.9.13"
  },
  "toc": {
   "base_numbering": 1,
   "nav_menu": {},
   "number_sections": true,
   "sideBar": true,
   "skip_h1_title": false,
   "title_cell": "Table of Contents",
   "title_sidebar": "Contents",
   "toc_cell": false,
   "toc_position": {},
   "toc_section_display": true,
   "toc_window_display": false
  },
  "varInspector": {
   "cols": {
    "lenName": 16,
    "lenType": 16,
    "lenVar": 40
   },
   "kernels_config": {
    "python": {
     "delete_cmd_postfix": "",
     "delete_cmd_prefix": "del ",
     "library": "var_list.py",
     "varRefreshCmd": "print(var_dic_list())"
    },
    "r": {
     "delete_cmd_postfix": ") ",
     "delete_cmd_prefix": "rm(",
     "library": "var_list.r",
     "varRefreshCmd": "cat(var_dic_list()) "
    }
   },
   "types_to_exclude": [
    "module",
    "function",
    "builtin_function_or_method",
    "instance",
    "_Feature"
   ],
   "window_display": false
  }
 },
 "nbformat": 4,
 "nbformat_minor": 5
}
